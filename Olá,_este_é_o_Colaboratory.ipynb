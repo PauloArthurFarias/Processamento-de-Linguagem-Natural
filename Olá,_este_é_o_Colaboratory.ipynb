{
  "cells": [
    {
      "cell_type": "markdown",
      "metadata": {
        "id": "view-in-github",
        "colab_type": "text"
      },
      "source": [
        "<a href=\"https://colab.research.google.com/github/PauloArthurFarias/Processamento-de-Linguagem-Natural/blob/main/Ol%C3%A1%2C_este_%C3%A9_o_Colaboratory.ipynb\" target=\"_parent\"><img src=\"https://colab.research.google.com/assets/colab-badge.svg\" alt=\"Open In Colab\"/></a>"
      ]
    },
    {
      "cell_type": "code",
      "source": [
        "import pandas as pd\n",
        "import numpy as np\n",
        "import seaborn as sns\n",
        "import matplotlib.pyplot as plt\n",
        "import plotly.express as px"
      ],
      "metadata": {
        "id": "ojRmjoch2sRK"
      },
      "execution_count": 1,
      "outputs": []
    },
    {
      "cell_type": "code",
      "source": [
        "base_census = pd.read_csv(r'/content/census.csv')\n",
        "base_census"
      ],
      "metadata": {
        "id": "9ng9gOZC24Bo",
        "outputId": "37ac3402-e578-4f7d-a4ec-69a263ae4349",
        "colab": {
          "base_uri": "https://localhost:8080/",
          "height": 756
        }
      },
      "execution_count": 5,
      "outputs": [
        {
          "output_type": "execute_result",
          "data": {
            "text/plain": [
              "       age          workclass  final-weight    education  education-num  \\\n",
              "0       39          State-gov         77516    Bachelors             13   \n",
              "1       50   Self-emp-not-inc         83311    Bachelors             13   \n",
              "2       38            Private        215646      HS-grad              9   \n",
              "3       53            Private        234721         11th              7   \n",
              "4       28            Private        338409    Bachelors             13   \n",
              "...    ...                ...           ...          ...            ...   \n",
              "32556   27            Private        257302   Assoc-acdm             12   \n",
              "32557   40            Private        154374      HS-grad              9   \n",
              "32558   58            Private        151910      HS-grad              9   \n",
              "32559   22            Private        201490      HS-grad              9   \n",
              "32560   52       Self-emp-inc        287927      HS-grad              9   \n",
              "\n",
              "            marital-status          occupation    relationship    race  \\\n",
              "0            Never-married        Adm-clerical   Not-in-family   White   \n",
              "1       Married-civ-spouse     Exec-managerial         Husband   White   \n",
              "2                 Divorced   Handlers-cleaners   Not-in-family   White   \n",
              "3       Married-civ-spouse   Handlers-cleaners         Husband   Black   \n",
              "4       Married-civ-spouse      Prof-specialty            Wife   Black   \n",
              "...                    ...                 ...             ...     ...   \n",
              "32556   Married-civ-spouse        Tech-support            Wife   White   \n",
              "32557   Married-civ-spouse   Machine-op-inspct         Husband   White   \n",
              "32558              Widowed        Adm-clerical       Unmarried   White   \n",
              "32559        Never-married        Adm-clerical       Own-child   White   \n",
              "32560   Married-civ-spouse     Exec-managerial            Wife   White   \n",
              "\n",
              "           sex  capital-gain  capital-loos  hour-per-week  native-country  \\\n",
              "0         Male          2174             0             40   United-States   \n",
              "1         Male             0             0             13   United-States   \n",
              "2         Male             0             0             40   United-States   \n",
              "3         Male             0             0             40   United-States   \n",
              "4       Female             0             0             40            Cuba   \n",
              "...        ...           ...           ...            ...             ...   \n",
              "32556   Female             0             0             38   United-States   \n",
              "32557     Male             0             0             40   United-States   \n",
              "32558   Female             0             0             40   United-States   \n",
              "32559     Male             0             0             20   United-States   \n",
              "32560   Female         15024             0             40   United-States   \n",
              "\n",
              "       income  \n",
              "0       <=50K  \n",
              "1       <=50K  \n",
              "2       <=50K  \n",
              "3       <=50K  \n",
              "4       <=50K  \n",
              "...       ...  \n",
              "32556   <=50K  \n",
              "32557    >50K  \n",
              "32558   <=50K  \n",
              "32559   <=50K  \n",
              "32560    >50K  \n",
              "\n",
              "[32561 rows x 15 columns]"
            ],
            "text/html": [
              "\n",
              "  <div id=\"df-8116f53a-782f-40b2-9d5b-69daca972431\" class=\"colab-df-container\">\n",
              "    <div>\n",
              "<style scoped>\n",
              "    .dataframe tbody tr th:only-of-type {\n",
              "        vertical-align: middle;\n",
              "    }\n",
              "\n",
              "    .dataframe tbody tr th {\n",
              "        vertical-align: top;\n",
              "    }\n",
              "\n",
              "    .dataframe thead th {\n",
              "        text-align: right;\n",
              "    }\n",
              "</style>\n",
              "<table border=\"1\" class=\"dataframe\">\n",
              "  <thead>\n",
              "    <tr style=\"text-align: right;\">\n",
              "      <th></th>\n",
              "      <th>age</th>\n",
              "      <th>workclass</th>\n",
              "      <th>final-weight</th>\n",
              "      <th>education</th>\n",
              "      <th>education-num</th>\n",
              "      <th>marital-status</th>\n",
              "      <th>occupation</th>\n",
              "      <th>relationship</th>\n",
              "      <th>race</th>\n",
              "      <th>sex</th>\n",
              "      <th>capital-gain</th>\n",
              "      <th>capital-loos</th>\n",
              "      <th>hour-per-week</th>\n",
              "      <th>native-country</th>\n",
              "      <th>income</th>\n",
              "    </tr>\n",
              "  </thead>\n",
              "  <tbody>\n",
              "    <tr>\n",
              "      <th>0</th>\n",
              "      <td>39</td>\n",
              "      <td>State-gov</td>\n",
              "      <td>77516</td>\n",
              "      <td>Bachelors</td>\n",
              "      <td>13</td>\n",
              "      <td>Never-married</td>\n",
              "      <td>Adm-clerical</td>\n",
              "      <td>Not-in-family</td>\n",
              "      <td>White</td>\n",
              "      <td>Male</td>\n",
              "      <td>2174</td>\n",
              "      <td>0</td>\n",
              "      <td>40</td>\n",
              "      <td>United-States</td>\n",
              "      <td>&lt;=50K</td>\n",
              "    </tr>\n",
              "    <tr>\n",
              "      <th>1</th>\n",
              "      <td>50</td>\n",
              "      <td>Self-emp-not-inc</td>\n",
              "      <td>83311</td>\n",
              "      <td>Bachelors</td>\n",
              "      <td>13</td>\n",
              "      <td>Married-civ-spouse</td>\n",
              "      <td>Exec-managerial</td>\n",
              "      <td>Husband</td>\n",
              "      <td>White</td>\n",
              "      <td>Male</td>\n",
              "      <td>0</td>\n",
              "      <td>0</td>\n",
              "      <td>13</td>\n",
              "      <td>United-States</td>\n",
              "      <td>&lt;=50K</td>\n",
              "    </tr>\n",
              "    <tr>\n",
              "      <th>2</th>\n",
              "      <td>38</td>\n",
              "      <td>Private</td>\n",
              "      <td>215646</td>\n",
              "      <td>HS-grad</td>\n",
              "      <td>9</td>\n",
              "      <td>Divorced</td>\n",
              "      <td>Handlers-cleaners</td>\n",
              "      <td>Not-in-family</td>\n",
              "      <td>White</td>\n",
              "      <td>Male</td>\n",
              "      <td>0</td>\n",
              "      <td>0</td>\n",
              "      <td>40</td>\n",
              "      <td>United-States</td>\n",
              "      <td>&lt;=50K</td>\n",
              "    </tr>\n",
              "    <tr>\n",
              "      <th>3</th>\n",
              "      <td>53</td>\n",
              "      <td>Private</td>\n",
              "      <td>234721</td>\n",
              "      <td>11th</td>\n",
              "      <td>7</td>\n",
              "      <td>Married-civ-spouse</td>\n",
              "      <td>Handlers-cleaners</td>\n",
              "      <td>Husband</td>\n",
              "      <td>Black</td>\n",
              "      <td>Male</td>\n",
              "      <td>0</td>\n",
              "      <td>0</td>\n",
              "      <td>40</td>\n",
              "      <td>United-States</td>\n",
              "      <td>&lt;=50K</td>\n",
              "    </tr>\n",
              "    <tr>\n",
              "      <th>4</th>\n",
              "      <td>28</td>\n",
              "      <td>Private</td>\n",
              "      <td>338409</td>\n",
              "      <td>Bachelors</td>\n",
              "      <td>13</td>\n",
              "      <td>Married-civ-spouse</td>\n",
              "      <td>Prof-specialty</td>\n",
              "      <td>Wife</td>\n",
              "      <td>Black</td>\n",
              "      <td>Female</td>\n",
              "      <td>0</td>\n",
              "      <td>0</td>\n",
              "      <td>40</td>\n",
              "      <td>Cuba</td>\n",
              "      <td>&lt;=50K</td>\n",
              "    </tr>\n",
              "    <tr>\n",
              "      <th>...</th>\n",
              "      <td>...</td>\n",
              "      <td>...</td>\n",
              "      <td>...</td>\n",
              "      <td>...</td>\n",
              "      <td>...</td>\n",
              "      <td>...</td>\n",
              "      <td>...</td>\n",
              "      <td>...</td>\n",
              "      <td>...</td>\n",
              "      <td>...</td>\n",
              "      <td>...</td>\n",
              "      <td>...</td>\n",
              "      <td>...</td>\n",
              "      <td>...</td>\n",
              "      <td>...</td>\n",
              "    </tr>\n",
              "    <tr>\n",
              "      <th>32556</th>\n",
              "      <td>27</td>\n",
              "      <td>Private</td>\n",
              "      <td>257302</td>\n",
              "      <td>Assoc-acdm</td>\n",
              "      <td>12</td>\n",
              "      <td>Married-civ-spouse</td>\n",
              "      <td>Tech-support</td>\n",
              "      <td>Wife</td>\n",
              "      <td>White</td>\n",
              "      <td>Female</td>\n",
              "      <td>0</td>\n",
              "      <td>0</td>\n",
              "      <td>38</td>\n",
              "      <td>United-States</td>\n",
              "      <td>&lt;=50K</td>\n",
              "    </tr>\n",
              "    <tr>\n",
              "      <th>32557</th>\n",
              "      <td>40</td>\n",
              "      <td>Private</td>\n",
              "      <td>154374</td>\n",
              "      <td>HS-grad</td>\n",
              "      <td>9</td>\n",
              "      <td>Married-civ-spouse</td>\n",
              "      <td>Machine-op-inspct</td>\n",
              "      <td>Husband</td>\n",
              "      <td>White</td>\n",
              "      <td>Male</td>\n",
              "      <td>0</td>\n",
              "      <td>0</td>\n",
              "      <td>40</td>\n",
              "      <td>United-States</td>\n",
              "      <td>&gt;50K</td>\n",
              "    </tr>\n",
              "    <tr>\n",
              "      <th>32558</th>\n",
              "      <td>58</td>\n",
              "      <td>Private</td>\n",
              "      <td>151910</td>\n",
              "      <td>HS-grad</td>\n",
              "      <td>9</td>\n",
              "      <td>Widowed</td>\n",
              "      <td>Adm-clerical</td>\n",
              "      <td>Unmarried</td>\n",
              "      <td>White</td>\n",
              "      <td>Female</td>\n",
              "      <td>0</td>\n",
              "      <td>0</td>\n",
              "      <td>40</td>\n",
              "      <td>United-States</td>\n",
              "      <td>&lt;=50K</td>\n",
              "    </tr>\n",
              "    <tr>\n",
              "      <th>32559</th>\n",
              "      <td>22</td>\n",
              "      <td>Private</td>\n",
              "      <td>201490</td>\n",
              "      <td>HS-grad</td>\n",
              "      <td>9</td>\n",
              "      <td>Never-married</td>\n",
              "      <td>Adm-clerical</td>\n",
              "      <td>Own-child</td>\n",
              "      <td>White</td>\n",
              "      <td>Male</td>\n",
              "      <td>0</td>\n",
              "      <td>0</td>\n",
              "      <td>20</td>\n",
              "      <td>United-States</td>\n",
              "      <td>&lt;=50K</td>\n",
              "    </tr>\n",
              "    <tr>\n",
              "      <th>32560</th>\n",
              "      <td>52</td>\n",
              "      <td>Self-emp-inc</td>\n",
              "      <td>287927</td>\n",
              "      <td>HS-grad</td>\n",
              "      <td>9</td>\n",
              "      <td>Married-civ-spouse</td>\n",
              "      <td>Exec-managerial</td>\n",
              "      <td>Wife</td>\n",
              "      <td>White</td>\n",
              "      <td>Female</td>\n",
              "      <td>15024</td>\n",
              "      <td>0</td>\n",
              "      <td>40</td>\n",
              "      <td>United-States</td>\n",
              "      <td>&gt;50K</td>\n",
              "    </tr>\n",
              "  </tbody>\n",
              "</table>\n",
              "<p>32561 rows × 15 columns</p>\n",
              "</div>\n",
              "    <div class=\"colab-df-buttons\">\n",
              "\n",
              "  <div class=\"colab-df-container\">\n",
              "    <button class=\"colab-df-convert\" onclick=\"convertToInteractive('df-8116f53a-782f-40b2-9d5b-69daca972431')\"\n",
              "            title=\"Convert this dataframe to an interactive table.\"\n",
              "            style=\"display:none;\">\n",
              "\n",
              "  <svg xmlns=\"http://www.w3.org/2000/svg\" height=\"24px\" viewBox=\"0 -960 960 960\">\n",
              "    <path d=\"M120-120v-720h720v720H120Zm60-500h600v-160H180v160Zm220 220h160v-160H400v160Zm0 220h160v-160H400v160ZM180-400h160v-160H180v160Zm440 0h160v-160H620v160ZM180-180h160v-160H180v160Zm440 0h160v-160H620v160Z\"/>\n",
              "  </svg>\n",
              "    </button>\n",
              "\n",
              "  <style>\n",
              "    .colab-df-container {\n",
              "      display:flex;\n",
              "      gap: 12px;\n",
              "    }\n",
              "\n",
              "    .colab-df-convert {\n",
              "      background-color: #E8F0FE;\n",
              "      border: none;\n",
              "      border-radius: 50%;\n",
              "      cursor: pointer;\n",
              "      display: none;\n",
              "      fill: #1967D2;\n",
              "      height: 32px;\n",
              "      padding: 0 0 0 0;\n",
              "      width: 32px;\n",
              "    }\n",
              "\n",
              "    .colab-df-convert:hover {\n",
              "      background-color: #E2EBFA;\n",
              "      box-shadow: 0px 1px 2px rgba(60, 64, 67, 0.3), 0px 1px 3px 1px rgba(60, 64, 67, 0.15);\n",
              "      fill: #174EA6;\n",
              "    }\n",
              "\n",
              "    .colab-df-buttons div {\n",
              "      margin-bottom: 4px;\n",
              "    }\n",
              "\n",
              "    [theme=dark] .colab-df-convert {\n",
              "      background-color: #3B4455;\n",
              "      fill: #D2E3FC;\n",
              "    }\n",
              "\n",
              "    [theme=dark] .colab-df-convert:hover {\n",
              "      background-color: #434B5C;\n",
              "      box-shadow: 0px 1px 3px 1px rgba(0, 0, 0, 0.15);\n",
              "      filter: drop-shadow(0px 1px 2px rgba(0, 0, 0, 0.3));\n",
              "      fill: #FFFFFF;\n",
              "    }\n",
              "  </style>\n",
              "\n",
              "    <script>\n",
              "      const buttonEl =\n",
              "        document.querySelector('#df-8116f53a-782f-40b2-9d5b-69daca972431 button.colab-df-convert');\n",
              "      buttonEl.style.display =\n",
              "        google.colab.kernel.accessAllowed ? 'block' : 'none';\n",
              "\n",
              "      async function convertToInteractive(key) {\n",
              "        const element = document.querySelector('#df-8116f53a-782f-40b2-9d5b-69daca972431');\n",
              "        const dataTable =\n",
              "          await google.colab.kernel.invokeFunction('convertToInteractive',\n",
              "                                                    [key], {});\n",
              "        if (!dataTable) return;\n",
              "\n",
              "        const docLinkHtml = 'Like what you see? Visit the ' +\n",
              "          '<a target=\"_blank\" href=https://colab.research.google.com/notebooks/data_table.ipynb>data table notebook</a>'\n",
              "          + ' to learn more about interactive tables.';\n",
              "        element.innerHTML = '';\n",
              "        dataTable['output_type'] = 'display_data';\n",
              "        await google.colab.output.renderOutput(dataTable, element);\n",
              "        const docLink = document.createElement('div');\n",
              "        docLink.innerHTML = docLinkHtml;\n",
              "        element.appendChild(docLink);\n",
              "      }\n",
              "    </script>\n",
              "  </div>\n",
              "\n",
              "\n",
              "<div id=\"df-370ccc81-726e-4f92-a460-f1719639120b\">\n",
              "  <button class=\"colab-df-quickchart\" onclick=\"quickchart('df-370ccc81-726e-4f92-a460-f1719639120b')\"\n",
              "            title=\"Suggest charts\"\n",
              "            style=\"display:none;\">\n",
              "\n",
              "<svg xmlns=\"http://www.w3.org/2000/svg\" height=\"24px\"viewBox=\"0 0 24 24\"\n",
              "     width=\"24px\">\n",
              "    <g>\n",
              "        <path d=\"M19 3H5c-1.1 0-2 .9-2 2v14c0 1.1.9 2 2 2h14c1.1 0 2-.9 2-2V5c0-1.1-.9-2-2-2zM9 17H7v-7h2v7zm4 0h-2V7h2v10zm4 0h-2v-4h2v4z\"/>\n",
              "    </g>\n",
              "</svg>\n",
              "  </button>\n",
              "\n",
              "<style>\n",
              "  .colab-df-quickchart {\n",
              "      --bg-color: #E8F0FE;\n",
              "      --fill-color: #1967D2;\n",
              "      --hover-bg-color: #E2EBFA;\n",
              "      --hover-fill-color: #174EA6;\n",
              "      --disabled-fill-color: #AAA;\n",
              "      --disabled-bg-color: #DDD;\n",
              "  }\n",
              "\n",
              "  [theme=dark] .colab-df-quickchart {\n",
              "      --bg-color: #3B4455;\n",
              "      --fill-color: #D2E3FC;\n",
              "      --hover-bg-color: #434B5C;\n",
              "      --hover-fill-color: #FFFFFF;\n",
              "      --disabled-bg-color: #3B4455;\n",
              "      --disabled-fill-color: #666;\n",
              "  }\n",
              "\n",
              "  .colab-df-quickchart {\n",
              "    background-color: var(--bg-color);\n",
              "    border: none;\n",
              "    border-radius: 50%;\n",
              "    cursor: pointer;\n",
              "    display: none;\n",
              "    fill: var(--fill-color);\n",
              "    height: 32px;\n",
              "    padding: 0;\n",
              "    width: 32px;\n",
              "  }\n",
              "\n",
              "  .colab-df-quickchart:hover {\n",
              "    background-color: var(--hover-bg-color);\n",
              "    box-shadow: 0 1px 2px rgba(60, 64, 67, 0.3), 0 1px 3px 1px rgba(60, 64, 67, 0.15);\n",
              "    fill: var(--button-hover-fill-color);\n",
              "  }\n",
              "\n",
              "  .colab-df-quickchart-complete:disabled,\n",
              "  .colab-df-quickchart-complete:disabled:hover {\n",
              "    background-color: var(--disabled-bg-color);\n",
              "    fill: var(--disabled-fill-color);\n",
              "    box-shadow: none;\n",
              "  }\n",
              "\n",
              "  .colab-df-spinner {\n",
              "    border: 2px solid var(--fill-color);\n",
              "    border-color: transparent;\n",
              "    border-bottom-color: var(--fill-color);\n",
              "    animation:\n",
              "      spin 1s steps(1) infinite;\n",
              "  }\n",
              "\n",
              "  @keyframes spin {\n",
              "    0% {\n",
              "      border-color: transparent;\n",
              "      border-bottom-color: var(--fill-color);\n",
              "      border-left-color: var(--fill-color);\n",
              "    }\n",
              "    20% {\n",
              "      border-color: transparent;\n",
              "      border-left-color: var(--fill-color);\n",
              "      border-top-color: var(--fill-color);\n",
              "    }\n",
              "    30% {\n",
              "      border-color: transparent;\n",
              "      border-left-color: var(--fill-color);\n",
              "      border-top-color: var(--fill-color);\n",
              "      border-right-color: var(--fill-color);\n",
              "    }\n",
              "    40% {\n",
              "      border-color: transparent;\n",
              "      border-right-color: var(--fill-color);\n",
              "      border-top-color: var(--fill-color);\n",
              "    }\n",
              "    60% {\n",
              "      border-color: transparent;\n",
              "      border-right-color: var(--fill-color);\n",
              "    }\n",
              "    80% {\n",
              "      border-color: transparent;\n",
              "      border-right-color: var(--fill-color);\n",
              "      border-bottom-color: var(--fill-color);\n",
              "    }\n",
              "    90% {\n",
              "      border-color: transparent;\n",
              "      border-bottom-color: var(--fill-color);\n",
              "    }\n",
              "  }\n",
              "</style>\n",
              "\n",
              "  <script>\n",
              "    async function quickchart(key) {\n",
              "      const quickchartButtonEl =\n",
              "        document.querySelector('#' + key + ' button');\n",
              "      quickchartButtonEl.disabled = true;  // To prevent multiple clicks.\n",
              "      quickchartButtonEl.classList.add('colab-df-spinner');\n",
              "      try {\n",
              "        const charts = await google.colab.kernel.invokeFunction(\n",
              "            'suggestCharts', [key], {});\n",
              "      } catch (error) {\n",
              "        console.error('Error during call to suggestCharts:', error);\n",
              "      }\n",
              "      quickchartButtonEl.classList.remove('colab-df-spinner');\n",
              "      quickchartButtonEl.classList.add('colab-df-quickchart-complete');\n",
              "    }\n",
              "    (() => {\n",
              "      let quickchartButtonEl =\n",
              "        document.querySelector('#df-370ccc81-726e-4f92-a460-f1719639120b button');\n",
              "      quickchartButtonEl.style.display =\n",
              "        google.colab.kernel.accessAllowed ? 'block' : 'none';\n",
              "    })();\n",
              "  </script>\n",
              "</div>\n",
              "\n",
              "  <div id=\"id_19ad9dff-3df2-42f0-ba2f-f9508ac0bc5b\">\n",
              "    <style>\n",
              "      .colab-df-generate {\n",
              "        background-color: #E8F0FE;\n",
              "        border: none;\n",
              "        border-radius: 50%;\n",
              "        cursor: pointer;\n",
              "        display: none;\n",
              "        fill: #1967D2;\n",
              "        height: 32px;\n",
              "        padding: 0 0 0 0;\n",
              "        width: 32px;\n",
              "      }\n",
              "\n",
              "      .colab-df-generate:hover {\n",
              "        background-color: #E2EBFA;\n",
              "        box-shadow: 0px 1px 2px rgba(60, 64, 67, 0.3), 0px 1px 3px 1px rgba(60, 64, 67, 0.15);\n",
              "        fill: #174EA6;\n",
              "      }\n",
              "\n",
              "      [theme=dark] .colab-df-generate {\n",
              "        background-color: #3B4455;\n",
              "        fill: #D2E3FC;\n",
              "      }\n",
              "\n",
              "      [theme=dark] .colab-df-generate:hover {\n",
              "        background-color: #434B5C;\n",
              "        box-shadow: 0px 1px 3px 1px rgba(0, 0, 0, 0.15);\n",
              "        filter: drop-shadow(0px 1px 2px rgba(0, 0, 0, 0.3));\n",
              "        fill: #FFFFFF;\n",
              "      }\n",
              "    </style>\n",
              "    <button class=\"colab-df-generate\" onclick=\"generateWithVariable('base_census')\"\n",
              "            title=\"Generate code using this dataframe.\"\n",
              "            style=\"display:none;\">\n",
              "\n",
              "  <svg xmlns=\"http://www.w3.org/2000/svg\" height=\"24px\"viewBox=\"0 0 24 24\"\n",
              "       width=\"24px\">\n",
              "    <path d=\"M7,19H8.4L18.45,9,17,7.55,7,17.6ZM5,21V16.75L18.45,3.32a2,2,0,0,1,2.83,0l1.4,1.43a1.91,1.91,0,0,1,.58,1.4,1.91,1.91,0,0,1-.58,1.4L9.25,21ZM18.45,9,17,7.55Zm-12,3A5.31,5.31,0,0,0,4.9,8.1,5.31,5.31,0,0,0,1,6.5,5.31,5.31,0,0,0,4.9,4.9,5.31,5.31,0,0,0,6.5,1,5.31,5.31,0,0,0,8.1,4.9,5.31,5.31,0,0,0,12,6.5,5.46,5.46,0,0,0,6.5,12Z\"/>\n",
              "  </svg>\n",
              "    </button>\n",
              "    <script>\n",
              "      (() => {\n",
              "      const buttonEl =\n",
              "        document.querySelector('#id_19ad9dff-3df2-42f0-ba2f-f9508ac0bc5b button.colab-df-generate');\n",
              "      buttonEl.style.display =\n",
              "        google.colab.kernel.accessAllowed ? 'block' : 'none';\n",
              "\n",
              "      buttonEl.onclick = () => {\n",
              "        google.colab.notebook.generateWithVariable('base_census');\n",
              "      }\n",
              "      })();\n",
              "    </script>\n",
              "  </div>\n",
              "\n",
              "    </div>\n",
              "  </div>\n"
            ],
            "application/vnd.google.colaboratory.intrinsic+json": {
              "type": "dataframe",
              "variable_name": "base_census",
              "summary": "{\n  \"name\": \"base_census\",\n  \"rows\": 32561,\n  \"fields\": [\n    {\n      \"column\": \"age\",\n      \"properties\": {\n        \"dtype\": \"number\",\n        \"std\": 13,\n        \"min\": 17,\n        \"max\": 90,\n        \"num_unique_values\": 73,\n        \"samples\": [\n          28,\n          73,\n          35\n        ],\n        \"semantic_type\": \"\",\n        \"description\": \"\"\n      }\n    },\n    {\n      \"column\": \"workclass\",\n      \"properties\": {\n        \"dtype\": \"category\",\n        \"num_unique_values\": 9,\n        \"samples\": [\n          \" Without-pay\",\n          \" Self-emp-not-inc\",\n          \" ?\"\n        ],\n        \"semantic_type\": \"\",\n        \"description\": \"\"\n      }\n    },\n    {\n      \"column\": \"final-weight\",\n      \"properties\": {\n        \"dtype\": \"number\",\n        \"std\": 105549,\n        \"min\": 12285,\n        \"max\": 1484705,\n        \"num_unique_values\": 21648,\n        \"samples\": [\n          128485,\n          469907,\n          235951\n        ],\n        \"semantic_type\": \"\",\n        \"description\": \"\"\n      }\n    },\n    {\n      \"column\": \"education\",\n      \"properties\": {\n        \"dtype\": \"category\",\n        \"num_unique_values\": 16,\n        \"samples\": [\n          \" Bachelors\",\n          \" HS-grad\",\n          \" Some-college\"\n        ],\n        \"semantic_type\": \"\",\n        \"description\": \"\"\n      }\n    },\n    {\n      \"column\": \"education-num\",\n      \"properties\": {\n        \"dtype\": \"number\",\n        \"std\": 2,\n        \"min\": 1,\n        \"max\": 16,\n        \"num_unique_values\": 16,\n        \"samples\": [\n          13,\n          9,\n          10\n        ],\n        \"semantic_type\": \"\",\n        \"description\": \"\"\n      }\n    },\n    {\n      \"column\": \"marital-status\",\n      \"properties\": {\n        \"dtype\": \"category\",\n        \"num_unique_values\": 7,\n        \"samples\": [\n          \" Never-married\",\n          \" Married-civ-spouse\",\n          \" Married-AF-spouse\"\n        ],\n        \"semantic_type\": \"\",\n        \"description\": \"\"\n      }\n    },\n    {\n      \"column\": \"occupation\",\n      \"properties\": {\n        \"dtype\": \"category\",\n        \"num_unique_values\": 15,\n        \"samples\": [\n          \" Machine-op-inspct\",\n          \" ?\",\n          \" Adm-clerical\"\n        ],\n        \"semantic_type\": \"\",\n        \"description\": \"\"\n      }\n    },\n    {\n      \"column\": \"relationship\",\n      \"properties\": {\n        \"dtype\": \"category\",\n        \"num_unique_values\": 6,\n        \"samples\": [\n          \" Not-in-family\",\n          \" Husband\",\n          \" Other-relative\"\n        ],\n        \"semantic_type\": \"\",\n        \"description\": \"\"\n      }\n    },\n    {\n      \"column\": \"race\",\n      \"properties\": {\n        \"dtype\": \"category\",\n        \"num_unique_values\": 5,\n        \"samples\": [\n          \" Black\",\n          \" Other\",\n          \" Asian-Pac-Islander\"\n        ],\n        \"semantic_type\": \"\",\n        \"description\": \"\"\n      }\n    },\n    {\n      \"column\": \"sex\",\n      \"properties\": {\n        \"dtype\": \"category\",\n        \"num_unique_values\": 2,\n        \"samples\": [\n          \" Female\",\n          \" Male\"\n        ],\n        \"semantic_type\": \"\",\n        \"description\": \"\"\n      }\n    },\n    {\n      \"column\": \"capital-gain\",\n      \"properties\": {\n        \"dtype\": \"number\",\n        \"std\": 7385,\n        \"min\": 0,\n        \"max\": 99999,\n        \"num_unique_values\": 119,\n        \"samples\": [\n          3781,\n          15831\n        ],\n        \"semantic_type\": \"\",\n        \"description\": \"\"\n      }\n    },\n    {\n      \"column\": \"capital-loos\",\n      \"properties\": {\n        \"dtype\": \"number\",\n        \"std\": 402,\n        \"min\": 0,\n        \"max\": 4356,\n        \"num_unique_values\": 92,\n        \"samples\": [\n          419,\n          2051\n        ],\n        \"semantic_type\": \"\",\n        \"description\": \"\"\n      }\n    },\n    {\n      \"column\": \"hour-per-week\",\n      \"properties\": {\n        \"dtype\": \"number\",\n        \"std\": 12,\n        \"min\": 1,\n        \"max\": 99,\n        \"num_unique_values\": 94,\n        \"samples\": [\n          6,\n          22\n        ],\n        \"semantic_type\": \"\",\n        \"description\": \"\"\n      }\n    },\n    {\n      \"column\": \"native-country\",\n      \"properties\": {\n        \"dtype\": \"category\",\n        \"num_unique_values\": 42,\n        \"samples\": [\n          \" El-Salvador\",\n          \" Philippines\"\n        ],\n        \"semantic_type\": \"\",\n        \"description\": \"\"\n      }\n    },\n    {\n      \"column\": \"income\",\n      \"properties\": {\n        \"dtype\": \"category\",\n        \"num_unique_values\": 2,\n        \"samples\": [\n          \" >50K\",\n          \" <=50K\"\n        ],\n        \"semantic_type\": \"\",\n        \"description\": \"\"\n      }\n    }\n  ]\n}"
            }
          },
          "metadata": {},
          "execution_count": 5
        }
      ]
    },
    {
      "cell_type": "code",
      "source": [
        "base_census.describe()"
      ],
      "metadata": {
        "id": "WhEXncQS3bPh",
        "outputId": "e2120039-a881-4358-cf6c-fe0b5a9a3e5b",
        "colab": {
          "base_uri": "https://localhost:8080/",
          "height": 300
        }
      },
      "execution_count": 7,
      "outputs": [
        {
          "output_type": "execute_result",
          "data": {
            "text/plain": [
              "                age  final-weight  education-num  capital-gain  capital-loos  \\\n",
              "count  32561.000000  3.256100e+04   32561.000000  32561.000000  32561.000000   \n",
              "mean      38.581647  1.897784e+05      10.080679   1077.648844     87.303830   \n",
              "std       13.640433  1.055500e+05       2.572720   7385.292085    402.960219   \n",
              "min       17.000000  1.228500e+04       1.000000      0.000000      0.000000   \n",
              "25%       28.000000  1.178270e+05       9.000000      0.000000      0.000000   \n",
              "50%       37.000000  1.783560e+05      10.000000      0.000000      0.000000   \n",
              "75%       48.000000  2.370510e+05      12.000000      0.000000      0.000000   \n",
              "max       90.000000  1.484705e+06      16.000000  99999.000000   4356.000000   \n",
              "\n",
              "       hour-per-week  \n",
              "count   32561.000000  \n",
              "mean       40.437456  \n",
              "std        12.347429  \n",
              "min         1.000000  \n",
              "25%        40.000000  \n",
              "50%        40.000000  \n",
              "75%        45.000000  \n",
              "max        99.000000  "
            ],
            "text/html": [
              "\n",
              "  <div id=\"df-48639014-8403-4070-9c10-e66cfc5be6e8\" class=\"colab-df-container\">\n",
              "    <div>\n",
              "<style scoped>\n",
              "    .dataframe tbody tr th:only-of-type {\n",
              "        vertical-align: middle;\n",
              "    }\n",
              "\n",
              "    .dataframe tbody tr th {\n",
              "        vertical-align: top;\n",
              "    }\n",
              "\n",
              "    .dataframe thead th {\n",
              "        text-align: right;\n",
              "    }\n",
              "</style>\n",
              "<table border=\"1\" class=\"dataframe\">\n",
              "  <thead>\n",
              "    <tr style=\"text-align: right;\">\n",
              "      <th></th>\n",
              "      <th>age</th>\n",
              "      <th>final-weight</th>\n",
              "      <th>education-num</th>\n",
              "      <th>capital-gain</th>\n",
              "      <th>capital-loos</th>\n",
              "      <th>hour-per-week</th>\n",
              "    </tr>\n",
              "  </thead>\n",
              "  <tbody>\n",
              "    <tr>\n",
              "      <th>count</th>\n",
              "      <td>32561.000000</td>\n",
              "      <td>3.256100e+04</td>\n",
              "      <td>32561.000000</td>\n",
              "      <td>32561.000000</td>\n",
              "      <td>32561.000000</td>\n",
              "      <td>32561.000000</td>\n",
              "    </tr>\n",
              "    <tr>\n",
              "      <th>mean</th>\n",
              "      <td>38.581647</td>\n",
              "      <td>1.897784e+05</td>\n",
              "      <td>10.080679</td>\n",
              "      <td>1077.648844</td>\n",
              "      <td>87.303830</td>\n",
              "      <td>40.437456</td>\n",
              "    </tr>\n",
              "    <tr>\n",
              "      <th>std</th>\n",
              "      <td>13.640433</td>\n",
              "      <td>1.055500e+05</td>\n",
              "      <td>2.572720</td>\n",
              "      <td>7385.292085</td>\n",
              "      <td>402.960219</td>\n",
              "      <td>12.347429</td>\n",
              "    </tr>\n",
              "    <tr>\n",
              "      <th>min</th>\n",
              "      <td>17.000000</td>\n",
              "      <td>1.228500e+04</td>\n",
              "      <td>1.000000</td>\n",
              "      <td>0.000000</td>\n",
              "      <td>0.000000</td>\n",
              "      <td>1.000000</td>\n",
              "    </tr>\n",
              "    <tr>\n",
              "      <th>25%</th>\n",
              "      <td>28.000000</td>\n",
              "      <td>1.178270e+05</td>\n",
              "      <td>9.000000</td>\n",
              "      <td>0.000000</td>\n",
              "      <td>0.000000</td>\n",
              "      <td>40.000000</td>\n",
              "    </tr>\n",
              "    <tr>\n",
              "      <th>50%</th>\n",
              "      <td>37.000000</td>\n",
              "      <td>1.783560e+05</td>\n",
              "      <td>10.000000</td>\n",
              "      <td>0.000000</td>\n",
              "      <td>0.000000</td>\n",
              "      <td>40.000000</td>\n",
              "    </tr>\n",
              "    <tr>\n",
              "      <th>75%</th>\n",
              "      <td>48.000000</td>\n",
              "      <td>2.370510e+05</td>\n",
              "      <td>12.000000</td>\n",
              "      <td>0.000000</td>\n",
              "      <td>0.000000</td>\n",
              "      <td>45.000000</td>\n",
              "    </tr>\n",
              "    <tr>\n",
              "      <th>max</th>\n",
              "      <td>90.000000</td>\n",
              "      <td>1.484705e+06</td>\n",
              "      <td>16.000000</td>\n",
              "      <td>99999.000000</td>\n",
              "      <td>4356.000000</td>\n",
              "      <td>99.000000</td>\n",
              "    </tr>\n",
              "  </tbody>\n",
              "</table>\n",
              "</div>\n",
              "    <div class=\"colab-df-buttons\">\n",
              "\n",
              "  <div class=\"colab-df-container\">\n",
              "    <button class=\"colab-df-convert\" onclick=\"convertToInteractive('df-48639014-8403-4070-9c10-e66cfc5be6e8')\"\n",
              "            title=\"Convert this dataframe to an interactive table.\"\n",
              "            style=\"display:none;\">\n",
              "\n",
              "  <svg xmlns=\"http://www.w3.org/2000/svg\" height=\"24px\" viewBox=\"0 -960 960 960\">\n",
              "    <path d=\"M120-120v-720h720v720H120Zm60-500h600v-160H180v160Zm220 220h160v-160H400v160Zm0 220h160v-160H400v160ZM180-400h160v-160H180v160Zm440 0h160v-160H620v160ZM180-180h160v-160H180v160Zm440 0h160v-160H620v160Z\"/>\n",
              "  </svg>\n",
              "    </button>\n",
              "\n",
              "  <style>\n",
              "    .colab-df-container {\n",
              "      display:flex;\n",
              "      gap: 12px;\n",
              "    }\n",
              "\n",
              "    .colab-df-convert {\n",
              "      background-color: #E8F0FE;\n",
              "      border: none;\n",
              "      border-radius: 50%;\n",
              "      cursor: pointer;\n",
              "      display: none;\n",
              "      fill: #1967D2;\n",
              "      height: 32px;\n",
              "      padding: 0 0 0 0;\n",
              "      width: 32px;\n",
              "    }\n",
              "\n",
              "    .colab-df-convert:hover {\n",
              "      background-color: #E2EBFA;\n",
              "      box-shadow: 0px 1px 2px rgba(60, 64, 67, 0.3), 0px 1px 3px 1px rgba(60, 64, 67, 0.15);\n",
              "      fill: #174EA6;\n",
              "    }\n",
              "\n",
              "    .colab-df-buttons div {\n",
              "      margin-bottom: 4px;\n",
              "    }\n",
              "\n",
              "    [theme=dark] .colab-df-convert {\n",
              "      background-color: #3B4455;\n",
              "      fill: #D2E3FC;\n",
              "    }\n",
              "\n",
              "    [theme=dark] .colab-df-convert:hover {\n",
              "      background-color: #434B5C;\n",
              "      box-shadow: 0px 1px 3px 1px rgba(0, 0, 0, 0.15);\n",
              "      filter: drop-shadow(0px 1px 2px rgba(0, 0, 0, 0.3));\n",
              "      fill: #FFFFFF;\n",
              "    }\n",
              "  </style>\n",
              "\n",
              "    <script>\n",
              "      const buttonEl =\n",
              "        document.querySelector('#df-48639014-8403-4070-9c10-e66cfc5be6e8 button.colab-df-convert');\n",
              "      buttonEl.style.display =\n",
              "        google.colab.kernel.accessAllowed ? 'block' : 'none';\n",
              "\n",
              "      async function convertToInteractive(key) {\n",
              "        const element = document.querySelector('#df-48639014-8403-4070-9c10-e66cfc5be6e8');\n",
              "        const dataTable =\n",
              "          await google.colab.kernel.invokeFunction('convertToInteractive',\n",
              "                                                    [key], {});\n",
              "        if (!dataTable) return;\n",
              "\n",
              "        const docLinkHtml = 'Like what you see? Visit the ' +\n",
              "          '<a target=\"_blank\" href=https://colab.research.google.com/notebooks/data_table.ipynb>data table notebook</a>'\n",
              "          + ' to learn more about interactive tables.';\n",
              "        element.innerHTML = '';\n",
              "        dataTable['output_type'] = 'display_data';\n",
              "        await google.colab.output.renderOutput(dataTable, element);\n",
              "        const docLink = document.createElement('div');\n",
              "        docLink.innerHTML = docLinkHtml;\n",
              "        element.appendChild(docLink);\n",
              "      }\n",
              "    </script>\n",
              "  </div>\n",
              "\n",
              "\n",
              "<div id=\"df-36da529a-c676-497a-a59a-c0f33960712e\">\n",
              "  <button class=\"colab-df-quickchart\" onclick=\"quickchart('df-36da529a-c676-497a-a59a-c0f33960712e')\"\n",
              "            title=\"Suggest charts\"\n",
              "            style=\"display:none;\">\n",
              "\n",
              "<svg xmlns=\"http://www.w3.org/2000/svg\" height=\"24px\"viewBox=\"0 0 24 24\"\n",
              "     width=\"24px\">\n",
              "    <g>\n",
              "        <path d=\"M19 3H5c-1.1 0-2 .9-2 2v14c0 1.1.9 2 2 2h14c1.1 0 2-.9 2-2V5c0-1.1-.9-2-2-2zM9 17H7v-7h2v7zm4 0h-2V7h2v10zm4 0h-2v-4h2v4z\"/>\n",
              "    </g>\n",
              "</svg>\n",
              "  </button>\n",
              "\n",
              "<style>\n",
              "  .colab-df-quickchart {\n",
              "      --bg-color: #E8F0FE;\n",
              "      --fill-color: #1967D2;\n",
              "      --hover-bg-color: #E2EBFA;\n",
              "      --hover-fill-color: #174EA6;\n",
              "      --disabled-fill-color: #AAA;\n",
              "      --disabled-bg-color: #DDD;\n",
              "  }\n",
              "\n",
              "  [theme=dark] .colab-df-quickchart {\n",
              "      --bg-color: #3B4455;\n",
              "      --fill-color: #D2E3FC;\n",
              "      --hover-bg-color: #434B5C;\n",
              "      --hover-fill-color: #FFFFFF;\n",
              "      --disabled-bg-color: #3B4455;\n",
              "      --disabled-fill-color: #666;\n",
              "  }\n",
              "\n",
              "  .colab-df-quickchart {\n",
              "    background-color: var(--bg-color);\n",
              "    border: none;\n",
              "    border-radius: 50%;\n",
              "    cursor: pointer;\n",
              "    display: none;\n",
              "    fill: var(--fill-color);\n",
              "    height: 32px;\n",
              "    padding: 0;\n",
              "    width: 32px;\n",
              "  }\n",
              "\n",
              "  .colab-df-quickchart:hover {\n",
              "    background-color: var(--hover-bg-color);\n",
              "    box-shadow: 0 1px 2px rgba(60, 64, 67, 0.3), 0 1px 3px 1px rgba(60, 64, 67, 0.15);\n",
              "    fill: var(--button-hover-fill-color);\n",
              "  }\n",
              "\n",
              "  .colab-df-quickchart-complete:disabled,\n",
              "  .colab-df-quickchart-complete:disabled:hover {\n",
              "    background-color: var(--disabled-bg-color);\n",
              "    fill: var(--disabled-fill-color);\n",
              "    box-shadow: none;\n",
              "  }\n",
              "\n",
              "  .colab-df-spinner {\n",
              "    border: 2px solid var(--fill-color);\n",
              "    border-color: transparent;\n",
              "    border-bottom-color: var(--fill-color);\n",
              "    animation:\n",
              "      spin 1s steps(1) infinite;\n",
              "  }\n",
              "\n",
              "  @keyframes spin {\n",
              "    0% {\n",
              "      border-color: transparent;\n",
              "      border-bottom-color: var(--fill-color);\n",
              "      border-left-color: var(--fill-color);\n",
              "    }\n",
              "    20% {\n",
              "      border-color: transparent;\n",
              "      border-left-color: var(--fill-color);\n",
              "      border-top-color: var(--fill-color);\n",
              "    }\n",
              "    30% {\n",
              "      border-color: transparent;\n",
              "      border-left-color: var(--fill-color);\n",
              "      border-top-color: var(--fill-color);\n",
              "      border-right-color: var(--fill-color);\n",
              "    }\n",
              "    40% {\n",
              "      border-color: transparent;\n",
              "      border-right-color: var(--fill-color);\n",
              "      border-top-color: var(--fill-color);\n",
              "    }\n",
              "    60% {\n",
              "      border-color: transparent;\n",
              "      border-right-color: var(--fill-color);\n",
              "    }\n",
              "    80% {\n",
              "      border-color: transparent;\n",
              "      border-right-color: var(--fill-color);\n",
              "      border-bottom-color: var(--fill-color);\n",
              "    }\n",
              "    90% {\n",
              "      border-color: transparent;\n",
              "      border-bottom-color: var(--fill-color);\n",
              "    }\n",
              "  }\n",
              "</style>\n",
              "\n",
              "  <script>\n",
              "    async function quickchart(key) {\n",
              "      const quickchartButtonEl =\n",
              "        document.querySelector('#' + key + ' button');\n",
              "      quickchartButtonEl.disabled = true;  // To prevent multiple clicks.\n",
              "      quickchartButtonEl.classList.add('colab-df-spinner');\n",
              "      try {\n",
              "        const charts = await google.colab.kernel.invokeFunction(\n",
              "            'suggestCharts', [key], {});\n",
              "      } catch (error) {\n",
              "        console.error('Error during call to suggestCharts:', error);\n",
              "      }\n",
              "      quickchartButtonEl.classList.remove('colab-df-spinner');\n",
              "      quickchartButtonEl.classList.add('colab-df-quickchart-complete');\n",
              "    }\n",
              "    (() => {\n",
              "      let quickchartButtonEl =\n",
              "        document.querySelector('#df-36da529a-c676-497a-a59a-c0f33960712e button');\n",
              "      quickchartButtonEl.style.display =\n",
              "        google.colab.kernel.accessAllowed ? 'block' : 'none';\n",
              "    })();\n",
              "  </script>\n",
              "</div>\n",
              "\n",
              "    </div>\n",
              "  </div>\n"
            ],
            "application/vnd.google.colaboratory.intrinsic+json": {
              "type": "dataframe",
              "summary": "{\n  \"name\": \"base_census\",\n  \"rows\": 8,\n  \"fields\": [\n    {\n      \"column\": \"age\",\n      \"properties\": {\n        \"dtype\": \"number\",\n        \"std\": 11498.327099385335,\n        \"min\": 13.640432553581146,\n        \"max\": 32561.0,\n        \"num_unique_values\": 8,\n        \"samples\": [\n          38.58164675532078,\n          37.0,\n          32561.0\n        ],\n        \"semantic_type\": \"\",\n        \"description\": \"\"\n      }\n    },\n    {\n      \"column\": \"final-weight\",\n      \"properties\": {\n        \"dtype\": \"number\",\n        \"std\": 486902.252790567,\n        \"min\": 12285.0,\n        \"max\": 1484705.0,\n        \"num_unique_values\": 8,\n        \"samples\": [\n          189778.36651208502,\n          178356.0,\n          32561.0\n        ],\n        \"semantic_type\": \"\",\n        \"description\": \"\"\n      }\n    },\n    {\n      \"column\": \"education-num\",\n      \"properties\": {\n        \"dtype\": \"number\",\n        \"std\": 11508.989513934259,\n        \"min\": 1.0,\n        \"max\": 32561.0,\n        \"num_unique_values\": 8,\n        \"samples\": [\n          10.0806793403151,\n          10.0,\n          32561.0\n        ],\n        \"semantic_type\": \"\",\n        \"description\": \"\"\n      }\n    },\n    {\n      \"column\": \"capital-gain\",\n      \"properties\": {\n        \"dtype\": \"number\",\n        \"std\": 35111.6359522262,\n        \"min\": 0.0,\n        \"max\": 99999.0,\n        \"num_unique_values\": 5,\n        \"samples\": [\n          1077.6488437087312,\n          99999.0,\n          7385.292084839299\n        ],\n        \"semantic_type\": \"\",\n        \"description\": \"\"\n      }\n    },\n    {\n      \"column\": \"capital-loos\",\n      \"properties\": {\n        \"dtype\": \"number\",\n        \"std\": 11366.935322921163,\n        \"min\": 0.0,\n        \"max\": 32561.0,\n        \"num_unique_values\": 5,\n        \"samples\": [\n          87.303829734959,\n          4356.0,\n          402.960218649059\n        ],\n        \"semantic_type\": \"\",\n        \"description\": \"\"\n      }\n    },\n    {\n      \"column\": \"hour-per-week\",\n      \"properties\": {\n        \"dtype\": \"number\",\n        \"std\": 11498.057671750135,\n        \"min\": 1.0,\n        \"max\": 32561.0,\n        \"num_unique_values\": 7,\n        \"samples\": [\n          32561.0,\n          40.437455852092995,\n          45.0\n        ],\n        \"semantic_type\": \"\",\n        \"description\": \"\"\n      }\n    }\n  ]\n}"
            }
          },
          "metadata": {},
          "execution_count": 7
        }
      ]
    },
    {
      "cell_type": "code",
      "source": [
        "base_census.loc[base_census['age'] < 0].sum()"
      ],
      "metadata": {
        "id": "iP4na89w3x4C",
        "outputId": "cec2627d-482f-4e92-a852-4272ad035776",
        "colab": {
          "base_uri": "https://localhost:8080/",
          "height": 554
        }
      },
      "execution_count": 19,
      "outputs": [
        {
          "output_type": "execute_result",
          "data": {
            "text/plain": [
              "age               0\n",
              "workclass         0\n",
              "final-weight      0\n",
              "education         0\n",
              "education-num     0\n",
              "marital-status    0\n",
              "occupation        0\n",
              "relationship      0\n",
              "race              0\n",
              "sex               0\n",
              "capital-gain      0\n",
              "capital-loos      0\n",
              "hour-per-week     0\n",
              "native-country    0\n",
              "income            0\n",
              "dtype: object"
            ],
            "text/html": [
              "<div>\n",
              "<style scoped>\n",
              "    .dataframe tbody tr th:only-of-type {\n",
              "        vertical-align: middle;\n",
              "    }\n",
              "\n",
              "    .dataframe tbody tr th {\n",
              "        vertical-align: top;\n",
              "    }\n",
              "\n",
              "    .dataframe thead th {\n",
              "        text-align: right;\n",
              "    }\n",
              "</style>\n",
              "<table border=\"1\" class=\"dataframe\">\n",
              "  <thead>\n",
              "    <tr style=\"text-align: right;\">\n",
              "      <th></th>\n",
              "      <th>0</th>\n",
              "    </tr>\n",
              "  </thead>\n",
              "  <tbody>\n",
              "    <tr>\n",
              "      <th>age</th>\n",
              "      <td>0</td>\n",
              "    </tr>\n",
              "    <tr>\n",
              "      <th>workclass</th>\n",
              "      <td>0</td>\n",
              "    </tr>\n",
              "    <tr>\n",
              "      <th>final-weight</th>\n",
              "      <td>0</td>\n",
              "    </tr>\n",
              "    <tr>\n",
              "      <th>education</th>\n",
              "      <td>0</td>\n",
              "    </tr>\n",
              "    <tr>\n",
              "      <th>education-num</th>\n",
              "      <td>0</td>\n",
              "    </tr>\n",
              "    <tr>\n",
              "      <th>marital-status</th>\n",
              "      <td>0</td>\n",
              "    </tr>\n",
              "    <tr>\n",
              "      <th>occupation</th>\n",
              "      <td>0</td>\n",
              "    </tr>\n",
              "    <tr>\n",
              "      <th>relationship</th>\n",
              "      <td>0</td>\n",
              "    </tr>\n",
              "    <tr>\n",
              "      <th>race</th>\n",
              "      <td>0</td>\n",
              "    </tr>\n",
              "    <tr>\n",
              "      <th>sex</th>\n",
              "      <td>0</td>\n",
              "    </tr>\n",
              "    <tr>\n",
              "      <th>capital-gain</th>\n",
              "      <td>0</td>\n",
              "    </tr>\n",
              "    <tr>\n",
              "      <th>capital-loos</th>\n",
              "      <td>0</td>\n",
              "    </tr>\n",
              "    <tr>\n",
              "      <th>hour-per-week</th>\n",
              "      <td>0</td>\n",
              "    </tr>\n",
              "    <tr>\n",
              "      <th>native-country</th>\n",
              "      <td>0</td>\n",
              "    </tr>\n",
              "    <tr>\n",
              "      <th>income</th>\n",
              "      <td>0</td>\n",
              "    </tr>\n",
              "  </tbody>\n",
              "</table>\n",
              "</div><br><label><b>dtype:</b> object</label>"
            ]
          },
          "metadata": {},
          "execution_count": 19
        }
      ]
    },
    {
      "cell_type": "code",
      "source": [
        "np.unique(base_census['income'], return_counts = True)\n",
        "sns.countplot(x = base_census['income']);"
      ],
      "metadata": {
        "id": "SO-BeicT5Cil",
        "outputId": "3ea294ee-8bb1-4d16-90f1-3babfd5a688d",
        "colab": {
          "base_uri": "https://localhost:8080/",
          "height": 449
        }
      },
      "execution_count": 27,
      "outputs": [
        {
          "output_type": "display_data",
          "data": {
            "text/plain": [
              "<Figure size 640x480 with 1 Axes>"
            ],
            "image/png": "[encoded data removed]"
          },
          "metadata": {}
        }
      ]
    },
    {
      "cell_type": "code",
      "source": [
        "plt.hist(x = base_census['age'])"
      ],
      "metadata": {
        "id": "vTtLAr2Z5sEF",
        "outputId": "29670b75-8a18-43d1-bf19-0149ec3683f7",
        "colab": {
          "base_uri": "https://localhost:8080/",
          "height": 499
        }
      },
      "execution_count": 29,
      "outputs": [
        {
          "output_type": "execute_result",
          "data": {
            "text/plain": [
              "(array([5570., 5890., 6048., 6163., 3967., 2591., 1595.,  496.,  174.,\n",
              "          67.]),\n",
              " array([17. , 24.3, 31.6, 38.9, 46.2, 53.5, 60.8, 68.1, 75.4, 82.7, 90. ]),\n",
              " <BarContainer object of 10 artists>)"
            ]
          },
          "metadata": {},
          "execution_count": 29
        },
        {
          "output_type": "display_data",
          "data": {
            "text/plain": [
              "<Figure size 640x480 with 1 Axes>"
            ],
            "image/png": "[encoded data removed]"
          },
          "metadata": {}
        }
      ]
    },
    {
      "cell_type": "code",
      "source": [
        "plt.hist(x = base_census['hour-per-week'])"
      ],
      "metadata": {
        "id": "czioWp906Lyb",
        "outputId": "0219bd32-65d1-445b-fd63-cb5b128d6473",
        "colab": {
          "base_uri": "https://localhost:8080/",
          "height": 499
        }
      },
      "execution_count": 30,
      "outputs": [
        {
          "output_type": "execute_result",
          "data": {
            "text/plain": [
              "(array([  736.,  2192.,  2317., 17735.,  3119.,  3877.,  1796.,   448.,\n",
              "          202.,   139.]),\n",
              " array([ 1. , 10.8, 20.6, 30.4, 40.2, 50. , 59.8, 69.6, 79.4, 89.2, 99. ]),\n",
              " <BarContainer object of 10 artists>)"
            ]
          },
          "metadata": {},
          "execution_count": 30
        },
        {
          "output_type": "display_data",
          "data": {
            "text/plain": [
              "<Figure size 640x480 with 1 Axes>"
            ],
            "image/png": "[encoded data removed]"
          },
          "metadata": {}
        }
      ]
    },
    {
      "cell_type": "code",
      "source": [
        "plt.hist(x = base_census['race']);"
      ],
      "metadata": {
        "id": "_MXaxDWI6SN2",
        "outputId": "01930b7c-214f-4fc7-821b-aa50a56a4230",
        "colab": {
          "base_uri": "https://localhost:8080/",
          "height": 430
        }
      },
      "execution_count": 40,
      "outputs": [
        {
          "output_type": "display_data",
          "data": {
            "text/plain": [
              "<Figure size 640x480 with 1 Axes>"
            ],
            "image/png": "[encoded data removed]"
          },
          "metadata": {}
        }
      ]
    },
    {
      "cell_type": "code",
      "source": [
        "grafico = px.treemap(base_census, path =['workclass', 'age', 'race'])\n",
        "grafico.show()"
      ],
      "metadata": {
        "id": "PNvcStFG7Y6O",
        "outputId": "e0d4164c-e8f3-49c0-9177-97921179ad49",
        "colab": {
          "base_uri": "https://localhost:8080/",
          "height": 542
        }
      },
      "execution_count": 48,
      "outputs": [
        {
          "output_type": "display_data",
          "data": {
            "text/html": [
              "<html>\n",
              "<head><meta charset=\"utf-8\" /></head>\n",
              "<body>\n",
              "    <div>            <script src=\"https://cdnjs.cloudflare.com/ajax/libs/mathjax/2.7.5/MathJax.js?config=TeX-AMS-MML_SVG\"></script><script type=\"text/javascript\">if (window.MathJax && window.MathJax.Hub && window.MathJax.Hub.Config) {window.MathJax.Hub.Config({SVG: {font: \"STIX-Web\"}});}</script>                <script type=\"text/javascript\">window.PlotlyConfig = {MathJaxConfig: 'local'};</script>\n",
              "        <script charset=\"utf-8\" src=\"https://cdn.plot.ly/plotly-2.35.2.min.js\"></script>                <div id=\"59d79d8d-fd73-40f8-b177-eaff9b58b948\" class=\"plotly-graph-div\" style=\"height:525px; width:100%;\"></div>            <script type=\"text/javascript\">                                    window.PLOTLYENV=window.PLOTLYENV || {};                                    if (document.getElementById(\"59d79d8d-fd73-40f8-b177-eaff9b58b948\")) {                    Plotly.newPlot(                        \"59d79d8d-fd73-40f8-b177-eaff9b58b948\",                        [{\"branchvalues\":\"total\",\"domain\":{\"x\":[0.0,1.0],\"y\":[0.0,1.0]},\"hovertemplate\":\"labels=%{label}\\u003cbr\\u003ecount=%{value}\\u003cbr\\u003eparent=%{parent}\\u003cbr\\u003eid=%{id}\\u003cextra\\u003e\\u003c\\u002fextra\\u003e\",\"ids\":[\" Private\\u002f17\\u002f Amer-Indian-Eskimo\",\" Private\\u002f18\\u002f Amer-Indian-Eskimo\",\" ?\\u002f19\\u002f Amer-Indian-Eskimo\",\" Private\\u002f19\\u002f Amer-Indian-Eskimo\",\" Self-emp-not-inc\\u002f19\\u002f Amer-Indian-Eskimo\",\" ?\\u002f20\\u002f Amer-Indian-Eskimo\",\" Private\\u002f20\\u002f Amer-Indian-Eskimo\",\" Private\\u002f21\\u002f Amer-Indian-Eskimo\",\" Private\\u002f22\\u002f Amer-Indian-Eskimo\",\" Self-emp-not-inc\\u002f22\\u002f Amer-Indian-Eskimo\",\" ?\\u002f23\\u002f Amer-Indian-Eskimo\",\" Federal-gov\\u002f23\\u002f Amer-Indian-Eskimo\",\" Local-gov\\u002f23\\u002f Amer-Indian-Eskimo\",\" Private\\u002f23\\u002f Amer-Indian-Eskimo\",\" ?\\u002f24\\u002f Amer-Indian-Eskimo\",\" Private\\u002f24\\u002f Amer-Indian-Eskimo\",\" ?\\u002f25\\u002f Amer-Indian-Eskimo\",\" Federal-gov\\u002f25\\u002f Amer-Indian-Eskimo\",\" Local-gov\\u002f25\\u002f Amer-Indian-Eskimo\",\" Private\\u002f25\\u002f Amer-Indian-Eskimo\",\" Local-gov\\u002f26\\u002f Amer-Indian-Eskimo\",\" Private\\u002f26\\u002f Amer-Indian-Eskimo\",\" ?\\u002f27\\u002f Amer-Indian-Eskimo\",\" Local-gov\\u002f27\\u002f Amer-Indian-Eskimo\",\" Private\\u002f27\\u002f Amer-Indian-Eskimo\",\" State-gov\\u002f27\\u002f Amer-Indian-Eskimo\",\" Federal-gov\\u002f28\\u002f Amer-Indian-Eskimo\",\" Local-gov\\u002f28\\u002f Amer-Indian-Eskimo\",\" Private\\u002f28\\u002f Amer-Indian-Eskimo\",\" Private\\u002f29\\u002f Amer-Indian-Eskimo\",\" Self-emp-not-inc\\u002f29\\u002f Amer-Indian-Eskimo\",\" Federal-gov\\u002f30\\u002f Amer-Indian-Eskimo\",\" Local-gov\\u002f30\\u002f Amer-Indian-Eskimo\",\" Private\\u002f30\\u002f Amer-Indian-Eskimo\",\" Self-emp-not-inc\\u002f30\\u002f Amer-Indian-Eskimo\",\" State-gov\\u002f30\\u002f Amer-Indian-Eskimo\",\" ?\\u002f31\\u002f Amer-Indian-Eskimo\",\" Federal-gov\\u002f31\\u002f Amer-Indian-Eskimo\",\" Local-gov\\u002f31\\u002f Amer-Indian-Eskimo\",\" Private\\u002f31\\u002f Amer-Indian-Eskimo\",\" Private\\u002f32\\u002f Amer-Indian-Eskimo\",\" Self-emp-not-inc\\u002f32\\u002f Amer-Indian-Eskimo\",\" ?\\u002f33\\u002f Amer-Indian-Eskimo\",\" Local-gov\\u002f33\\u002f Amer-Indian-Eskimo\",\" Private\\u002f33\\u002f Amer-Indian-Eskimo\",\" Local-gov\\u002f34\\u002f Amer-Indian-Eskimo\",\" Private\\u002f34\\u002f Amer-Indian-Eskimo\",\" ?\\u002f35\\u002f Amer-Indian-Eskimo\",\" Federal-gov\\u002f35\\u002f Amer-Indian-Eskimo\",\" Local-gov\\u002f35\\u002f Amer-Indian-Eskimo\",\" Private\\u002f35\\u002f Amer-Indian-Eskimo\",\" Self-emp-not-inc\\u002f35\\u002f Amer-Indian-Eskimo\",\" Local-gov\\u002f36\\u002f Amer-Indian-Eskimo\",\" Private\\u002f36\\u002f Amer-Indian-Eskimo\",\" ?\\u002f37\\u002f Amer-Indian-Eskimo\",\" Federal-gov\\u002f37\\u002f Amer-Indian-Eskimo\",\" Local-gov\\u002f37\\u002f Amer-Indian-Eskimo\",\" Private\\u002f37\\u002f Amer-Indian-Eskimo\",\" Local-gov\\u002f38\\u002f Amer-Indian-Eskimo\",\" Private\\u002f38\\u002f Amer-Indian-Eskimo\",\" Self-emp-not-inc\\u002f38\\u002f Amer-Indian-Eskimo\",\" State-gov\\u002f38\\u002f Amer-Indian-Eskimo\",\" Local-gov\\u002f39\\u002f Amer-Indian-Eskimo\",\" Private\\u002f39\\u002f Amer-Indian-Eskimo\",\" Self-emp-not-inc\\u002f39\\u002f Amer-Indian-Eskimo\",\" Local-gov\\u002f40\\u002f Amer-Indian-Eskimo\",\" Private\\u002f40\\u002f Amer-Indian-Eskimo\",\" Self-emp-not-inc\\u002f40\\u002f Amer-Indian-Eskimo\",\" Private\\u002f41\\u002f Amer-Indian-Eskimo\",\" State-gov\\u002f41\\u002f Amer-Indian-Eskimo\",\" Federal-gov\\u002f42\\u002f Amer-Indian-Eskimo\",\" Local-gov\\u002f42\\u002f Amer-Indian-Eskimo\",\" Private\\u002f42\\u002f Amer-Indian-Eskimo\",\" Self-emp-inc\\u002f42\\u002f Amer-Indian-Eskimo\",\" Self-emp-not-inc\\u002f42\\u002f Amer-Indian-Eskimo\",\" State-gov\\u002f42\\u002f Amer-Indian-Eskimo\",\" Federal-gov\\u002f43\\u002f Amer-Indian-Eskimo\",\" Local-gov\\u002f43\\u002f Amer-Indian-Eskimo\",\" Private\\u002f43\\u002f Amer-Indian-Eskimo\",\" Self-emp-not-inc\\u002f43\\u002f Amer-Indian-Eskimo\",\" State-gov\\u002f43\\u002f Amer-Indian-Eskimo\",\" Private\\u002f44\\u002f Amer-Indian-Eskimo\",\" State-gov\\u002f44\\u002f Amer-Indian-Eskimo\",\" ?\\u002f45\\u002f Amer-Indian-Eskimo\",\" Private\\u002f45\\u002f Amer-Indian-Eskimo\",\" Self-emp-not-inc\\u002f45\\u002f Amer-Indian-Eskimo\",\" Federal-gov\\u002f46\\u002f Amer-Indian-Eskimo\",\" Local-gov\\u002f46\\u002f Amer-Indian-Eskimo\",\" Private\\u002f46\\u002f Amer-Indian-Eskimo\",\" Self-emp-inc\\u002f46\\u002f Amer-Indian-Eskimo\",\" State-gov\\u002f46\\u002f Amer-Indian-Eskimo\",\" ?\\u002f47\\u002f Amer-Indian-Eskimo\",\" Private\\u002f47\\u002f Amer-Indian-Eskimo\",\" ?\\u002f48\\u002f Amer-Indian-Eskimo\",\" Self-emp-not-inc\\u002f48\\u002f Amer-Indian-Eskimo\",\" Private\\u002f49\\u002f Amer-Indian-Eskimo\",\" Self-emp-not-inc\\u002f49\\u002f Amer-Indian-Eskimo\",\" Federal-gov\\u002f50\\u002f Amer-Indian-Eskimo\",\" Local-gov\\u002f50\\u002f Amer-Indian-Eskimo\",\" Private\\u002f50\\u002f Amer-Indian-Eskimo\",\" State-gov\\u002f50\\u002f Amer-Indian-Eskimo\",\" Federal-gov\\u002f51\\u002f Amer-Indian-Eskimo\",\" Local-gov\\u002f51\\u002f Amer-Indian-Eskimo\",\" Private\\u002f51\\u002f Amer-Indian-Eskimo\",\" Self-emp-not-inc\\u002f51\\u002f Amer-Indian-Eskimo\",\" State-gov\\u002f51\\u002f Amer-Indian-Eskimo\",\" Private\\u002f52\\u002f Amer-Indian-Eskimo\",\" Self-emp-not-inc\\u002f52\\u002f Amer-Indian-Eskimo\",\" Federal-gov\\u002f53\\u002f Amer-Indian-Eskimo\",\" Local-gov\\u002f53\\u002f Amer-Indian-Eskimo\",\" Private\\u002f53\\u002f Amer-Indian-Eskimo\",\" State-gov\\u002f53\\u002f Amer-Indian-Eskimo\",\" Local-gov\\u002f55\\u002f Amer-Indian-Eskimo\",\" Private\\u002f55\\u002f Amer-Indian-Eskimo\",\" State-gov\\u002f55\\u002f Amer-Indian-Eskimo\",\" Federal-gov\\u002f56\\u002f Amer-Indian-Eskimo\",\" Private\\u002f56\\u002f Amer-Indian-Eskimo\",\" Self-emp-not-inc\\u002f56\\u002f Amer-Indian-Eskimo\",\" Federal-gov\\u002f57\\u002f Amer-Indian-Eskimo\",\" Private\\u002f57\\u002f Amer-Indian-Eskimo\",\" Self-emp-not-inc\\u002f57\\u002f Amer-Indian-Eskimo\",\" ?\\u002f58\\u002f Amer-Indian-Eskimo\",\" Federal-gov\\u002f58\\u002f Amer-Indian-Eskimo\",\" Private\\u002f58\\u002f Amer-Indian-Eskimo\",\" Private\\u002f59\\u002f Amer-Indian-Eskimo\",\" ?\\u002f60\\u002f Amer-Indian-Eskimo\",\" Federal-gov\\u002f60\\u002f Amer-Indian-Eskimo\",\" Private\\u002f60\\u002f Amer-Indian-Eskimo\",\" Self-emp-not-inc\\u002f60\\u002f Amer-Indian-Eskimo\",\" State-gov\\u002f60\\u002f Amer-Indian-Eskimo\",\" State-gov\\u002f61\\u002f Amer-Indian-Eskimo\",\" ?\\u002f62\\u002f Amer-Indian-Eskimo\",\" ?\\u002f63\\u002f Amer-Indian-Eskimo\",\" Private\\u002f63\\u002f Amer-Indian-Eskimo\",\" ?\\u002f65\\u002f Amer-Indian-Eskimo\",\" Private\\u002f67\\u002f Amer-Indian-Eskimo\",\" ?\\u002f68\\u002f Amer-Indian-Eskimo\",\" Private\\u002f68\\u002f Amer-Indian-Eskimo\",\" Self-emp-not-inc\\u002f71\\u002f Amer-Indian-Eskimo\",\" ?\\u002f74\\u002f Amer-Indian-Eskimo\",\" Local-gov\\u002f80\\u002f Amer-Indian-Eskimo\",\" ?\\u002f82\\u002f Amer-Indian-Eskimo\",\" ?\\u002f17\\u002f Asian-Pac-Islander\",\" Private\\u002f17\\u002f Asian-Pac-Islander\",\" ?\\u002f18\\u002f Asian-Pac-Islander\",\" Federal-gov\\u002f18\\u002f Asian-Pac-Islander\",\" Private\\u002f18\\u002f Asian-Pac-Islander\",\" Self-emp-inc\\u002f18\\u002f Asian-Pac-Islander\",\" Self-emp-not-inc\\u002f18\\u002f Asian-Pac-Islander\",\" ?\\u002f19\\u002f Asian-Pac-Islander\",\" Private\\u002f19\\u002f Asian-Pac-Islander\",\" Self-emp-inc\\u002f19\\u002f Asian-Pac-Islander\",\" Self-emp-not-inc\\u002f19\\u002f Asian-Pac-Islander\",\" ?\\u002f20\\u002f Asian-Pac-Islander\",\" Local-gov\\u002f20\\u002f Asian-Pac-Islander\",\" Private\\u002f20\\u002f Asian-Pac-Islander\",\" Self-emp-not-inc\\u002f20\\u002f Asian-Pac-Islander\",\" ?\\u002f21\\u002f Asian-Pac-Islander\",\" Private\\u002f21\\u002f Asian-Pac-Islander\",\" State-gov\\u002f21\\u002f Asian-Pac-Islander\",\" ?\\u002f22\\u002f Asian-Pac-Islander\",\" Local-gov\\u002f22\\u002f Asian-Pac-Islander\",\" Private\\u002f22\\u002f Asian-Pac-Islander\",\" Self-emp-not-inc\\u002f22\\u002f Asian-Pac-Islander\",\" ?\\u002f23\\u002f Asian-Pac-Islander\",\" Local-gov\\u002f23\\u002f Asian-Pac-Islander\",\" Private\\u002f23\\u002f Asian-Pac-Islander\",\" State-gov\\u002f23\\u002f Asian-Pac-Islander\",\" ?\\u002f24\\u002f Asian-Pac-Islander\",\" Federal-gov\\u002f24\\u002f Asian-Pac-Islander\",\" Local-gov\\u002f24\\u002f Asian-Pac-Islander\",\" Private\\u002f24\\u002f Asian-Pac-Islander\",\" Self-emp-not-inc\\u002f24\\u002f Asian-Pac-Islander\",\" State-gov\\u002f24\\u002f Asian-Pac-Islander\",\" ?\\u002f25\\u002f Asian-Pac-Islander\",\" Local-gov\\u002f25\\u002f Asian-Pac-Islander\",\" Private\\u002f25\\u002f Asian-Pac-Islander\",\" Self-emp-inc\\u002f25\\u002f Asian-Pac-Islander\",\" Self-emp-not-inc\\u002f25\\u002f Asian-Pac-Islander\",\" ?\\u002f26\\u002f Asian-Pac-Islander\",\" Federal-gov\\u002f26\\u002f Asian-Pac-Islander\",\" Local-gov\\u002f26\\u002f Asian-Pac-Islander\",\" Private\\u002f26\\u002f Asian-Pac-Islander\",\" Self-emp-not-inc\\u002f26\\u002f Asian-Pac-Islander\",\" State-gov\\u002f26\\u002f Asian-Pac-Islander\",\" ?\\u002f27\\u002f Asian-Pac-Islander\",\" Federal-gov\\u002f27\\u002f Asian-Pac-Islander\",\" Local-gov\\u002f27\\u002f Asian-Pac-Islander\",\" Private\\u002f27\\u002f Asian-Pac-Islander\",\" State-gov\\u002f27\\u002f Asian-Pac-Islander\",\" ?\\u002f28\\u002f Asian-Pac-Islander\",\" Local-gov\\u002f28\\u002f Asian-Pac-Islander\",\" Private\\u002f28\\u002f Asian-Pac-Islander\",\" Self-emp-not-inc\\u002f28\\u002f Asian-Pac-Islander\",\" State-gov\\u002f28\\u002f Asian-Pac-Islander\",\" ?\\u002f29\\u002f Asian-Pac-Islander\",\" Local-gov\\u002f29\\u002f Asian-Pac-Islander\",\" Private\\u002f29\\u002f Asian-Pac-Islander\",\" Self-emp-inc\\u002f29\\u002f Asian-Pac-Islander\",\" Self-emp-not-inc\\u002f29\\u002f Asian-Pac-Islander\",\" State-gov\\u002f29\\u002f Asian-Pac-Islander\",\" ?\\u002f30\\u002f Asian-Pac-Islander\",\" Federal-gov\\u002f30\\u002f Asian-Pac-Islander\",\" Private\\u002f30\\u002f Asian-Pac-Islander\",\" Self-emp-inc\\u002f30\\u002f Asian-Pac-Islander\",\" Self-emp-not-inc\\u002f30\\u002f Asian-Pac-Islander\",\" State-gov\\u002f30\\u002f Asian-Pac-Islander\",\" ?\\u002f31\\u002f Asian-Pac-Islander\",\" Federal-gov\\u002f31\\u002f Asian-Pac-Islander\",\" Private\\u002f31\\u002f Asian-Pac-Islander\",\" Self-emp-inc\\u002f31\\u002f Asian-Pac-Islander\",\" Self-emp-not-inc\\u002f31\\u002f Asian-Pac-Islander\",\" State-gov\\u002f31\\u002f Asian-Pac-Islander\",\" Federal-gov\\u002f32\\u002f Asian-Pac-Islander\",\" Local-gov\\u002f32\\u002f Asian-Pac-Islander\",\" Private\\u002f32\\u002f Asian-Pac-Islander\",\" Self-emp-inc\\u002f32\\u002f Asian-Pac-Islander\",\" Self-emp-not-inc\\u002f32\\u002f Asian-Pac-Islander\",\" State-gov\\u002f32\\u002f Asian-Pac-Islander\",\" ?\\u002f33\\u002f Asian-Pac-Islander\",\" Federal-gov\\u002f33\\u002f Asian-Pac-Islander\",\" Private\\u002f33\\u002f Asian-Pac-Islander\",\" Self-emp-inc\\u002f33\\u002f Asian-Pac-Islander\",\" State-gov\\u002f33\\u002f Asian-Pac-Islander\",\" Federal-gov\\u002f34\\u002f Asian-Pac-Islander\",\" Local-gov\\u002f34\\u002f Asian-Pac-Islander\",\" Private\\u002f34\\u002f Asian-Pac-Islander\",\" Self-emp-not-inc\\u002f34\\u002f Asian-Pac-Islander\",\" State-gov\\u002f34\\u002f Asian-Pac-Islander\",\" ?\\u002f35\\u002f Asian-Pac-Islander\",\" Federal-gov\\u002f35\\u002f Asian-Pac-Islander\",\" Local-gov\\u002f35\\u002f Asian-Pac-Islander\",\" Private\\u002f35\\u002f Asian-Pac-Islander\",\" Self-emp-inc\\u002f35\\u002f Asian-Pac-Islander\",\" Self-emp-not-inc\\u002f35\\u002f Asian-Pac-Islander\",\" State-gov\\u002f35\\u002f Asian-Pac-Islander\",\" Federal-gov\\u002f36\\u002f Asian-Pac-Islander\",\" Local-gov\\u002f36\\u002f Asian-Pac-Islander\",\" Private\\u002f36\\u002f Asian-Pac-Islander\",\" Self-emp-inc\\u002f36\\u002f Asian-Pac-Islander\",\" Self-emp-not-inc\\u002f36\\u002f Asian-Pac-Islander\",\" State-gov\\u002f36\\u002f Asian-Pac-Islander\",\" ?\\u002f37\\u002f Asian-Pac-Islander\",\" Federal-gov\\u002f37\\u002f Asian-Pac-Islander\",\" Private\\u002f37\\u002f Asian-Pac-Islander\",\" Self-emp-inc\\u002f37\\u002f Asian-Pac-Islander\",\" Self-emp-not-inc\\u002f37\\u002f Asian-Pac-Islander\",\" Federal-gov\\u002f38\\u002f Asian-Pac-Islander\",\" Local-gov\\u002f38\\u002f Asian-Pac-Islander\",\" Private\\u002f38\\u002f Asian-Pac-Islander\",\" Self-emp-inc\\u002f38\\u002f Asian-Pac-Islander\",\" Self-emp-not-inc\\u002f38\\u002f Asian-Pac-Islander\",\" State-gov\\u002f38\\u002f Asian-Pac-Islander\",\" ?\\u002f39\\u002f Asian-Pac-Islander\",\" Federal-gov\\u002f39\\u002f Asian-Pac-Islander\",\" Local-gov\\u002f39\\u002f Asian-Pac-Islander\",\" Private\\u002f39\\u002f Asian-Pac-Islander\",\" Self-emp-inc\\u002f39\\u002f Asian-Pac-Islander\",\" Self-emp-not-inc\\u002f39\\u002f Asian-Pac-Islander\",\" State-gov\\u002f39\\u002f Asian-Pac-Islander\",\" Federal-gov\\u002f40\\u002f Asian-Pac-Islander\",\" Private\\u002f40\\u002f Asian-Pac-Islander\",\" Self-emp-inc\\u002f40\\u002f Asian-Pac-Islander\",\" Self-emp-not-inc\\u002f40\\u002f Asian-Pac-Islander\",\" State-gov\\u002f40\\u002f Asian-Pac-Islander\",\" ?\\u002f41\\u002f Asian-Pac-Islander\",\" Federal-gov\\u002f41\\u002f Asian-Pac-Islander\",\" Local-gov\\u002f41\\u002f Asian-Pac-Islander\",\" Private\\u002f41\\u002f Asian-Pac-Islander\",\" Self-emp-inc\\u002f41\\u002f Asian-Pac-Islander\",\" Self-emp-not-inc\\u002f41\\u002f Asian-Pac-Islander\",\" State-gov\\u002f41\\u002f Asian-Pac-Islander\",\" Federal-gov\\u002f42\\u002f Asian-Pac-Islander\",\" Private\\u002f42\\u002f Asian-Pac-Islander\",\" Self-emp-inc\\u002f42\\u002f Asian-Pac-Islander\",\" Self-emp-not-inc\\u002f42\\u002f Asian-Pac-Islander\",\" State-gov\\u002f42\\u002f Asian-Pac-Islander\",\" ?\\u002f43\\u002f Asian-Pac-Islander\",\" Federal-gov\\u002f43\\u002f Asian-Pac-Islander\",\" Private\\u002f43\\u002f Asian-Pac-Islander\",\" Self-emp-inc\\u002f43\\u002f Asian-Pac-Islander\",\" Self-emp-not-inc\\u002f43\\u002f Asian-Pac-Islander\",\" State-gov\\u002f43\\u002f Asian-Pac-Islander\",\" Federal-gov\\u002f44\\u002f Asian-Pac-Islander\",\" Local-gov\\u002f44\\u002f Asian-Pac-Islander\",\" Private\\u002f44\\u002f Asian-Pac-Islander\",\" Self-emp-inc\\u002f44\\u002f Asian-Pac-Islander\",\" Self-emp-not-inc\\u002f44\\u002f Asian-Pac-Islander\",\" State-gov\\u002f44\\u002f Asian-Pac-Islander\",\" ?\\u002f45\\u002f Asian-Pac-Islander\",\" Federal-gov\\u002f45\\u002f Asian-Pac-Islander\",\" Local-gov\\u002f45\\u002f Asian-Pac-Islander\",\" Private\\u002f45\\u002f Asian-Pac-Islander\",\" Self-emp-inc\\u002f45\\u002f Asian-Pac-Islander\",\" Self-emp-not-inc\\u002f45\\u002f Asian-Pac-Islander\",\" State-gov\\u002f45\\u002f Asian-Pac-Islander\",\" ?\\u002f46\\u002f Asian-Pac-Islander\",\" Federal-gov\\u002f46\\u002f Asian-Pac-Islander\",\" Local-gov\\u002f46\\u002f Asian-Pac-Islander\",\" Private\\u002f46\\u002f Asian-Pac-Islander\",\" Self-emp-inc\\u002f46\\u002f Asian-Pac-Islander\",\" Self-emp-not-inc\\u002f46\\u002f Asian-Pac-Islander\",\" Private\\u002f47\\u002f Asian-Pac-Islander\",\" Self-emp-not-inc\\u002f47\\u002f Asian-Pac-Islander\",\" State-gov\\u002f47\\u002f Asian-Pac-Islander\",\" Local-gov\\u002f48\\u002f Asian-Pac-Islander\",\" Private\\u002f48\\u002f Asian-Pac-Islander\",\" Self-emp-inc\\u002f48\\u002f Asian-Pac-Islander\",\" Self-emp-not-inc\\u002f48\\u002f Asian-Pac-Islander\",\" Federal-gov\\u002f49\\u002f Asian-Pac-Islander\",\" Private\\u002f49\\u002f Asian-Pac-Islander\",\" Self-emp-inc\\u002f49\\u002f Asian-Pac-Islander\",\" Local-gov\\u002f50\\u002f Asian-Pac-Islander\",\" Private\\u002f50\\u002f Asian-Pac-Islander\",\" Self-emp-inc\\u002f50\\u002f Asian-Pac-Islander\",\" Self-emp-not-inc\\u002f50\\u002f Asian-Pac-Islander\",\" Federal-gov\\u002f51\\u002f Asian-Pac-Islander\",\" Private\\u002f51\\u002f Asian-Pac-Islander\",\" Self-emp-inc\\u002f51\\u002f Asian-Pac-Islander\",\" Self-emp-not-inc\\u002f51\\u002f Asian-Pac-Islander\",\" ?\\u002f52\\u002f Asian-Pac-Islander\",\" Federal-gov\\u002f52\\u002f Asian-Pac-Islander\",\" Private\\u002f52\\u002f Asian-Pac-Islander\",\" Self-emp-inc\\u002f52\\u002f Asian-Pac-Islander\",\" Self-emp-not-inc\\u002f52\\u002f Asian-Pac-Islander\",\" State-gov\\u002f52\\u002f Asian-Pac-Islander\",\" Federal-gov\\u002f53\\u002f Asian-Pac-Islander\",\" Private\\u002f53\\u002f Asian-Pac-Islander\",\" Self-emp-inc\\u002f53\\u002f Asian-Pac-Islander\",\" Self-emp-not-inc\\u002f53\\u002f Asian-Pac-Islander\",\" ?\\u002f54\\u002f Asian-Pac-Islander\",\" Local-gov\\u002f54\\u002f Asian-Pac-Islander\",\" Private\\u002f54\\u002f Asian-Pac-Islander\",\" Self-emp-inc\\u002f54\\u002f Asian-Pac-Islander\",\" Self-emp-not-inc\\u002f54\\u002f Asian-Pac-Islander\",\" State-gov\\u002f54\\u002f Asian-Pac-Islander\",\" ?\\u002f55\\u002f Asian-Pac-Islander\",\" Federal-gov\\u002f55\\u002f Asian-Pac-Islander\",\" Local-gov\\u002f55\\u002f Asian-Pac-Islander\",\" Private\\u002f55\\u002f Asian-Pac-Islander\",\" State-gov\\u002f55\\u002f Asian-Pac-Islander\",\" Federal-gov\\u002f56\\u002f Asian-Pac-Islander\",\" Local-gov\\u002f56\\u002f Asian-Pac-Islander\",\" Private\\u002f56\\u002f Asian-Pac-Islander\",\" State-gov\\u002f56\\u002f Asian-Pac-Islander\",\" ?\\u002f57\\u002f Asian-Pac-Islander\",\" Local-gov\\u002f57\\u002f Asian-Pac-Islander\",\" Private\\u002f57\\u002f Asian-Pac-Islander\",\" Self-emp-inc\\u002f57\\u002f Asian-Pac-Islander\",\" Self-emp-not-inc\\u002f57\\u002f Asian-Pac-Islander\",\" State-gov\\u002f57\\u002f Asian-Pac-Islander\",\" Federal-gov\\u002f58\\u002f Asian-Pac-Islander\",\" Private\\u002f58\\u002f Asian-Pac-Islander\",\" Self-emp-not-inc\\u002f58\\u002f Asian-Pac-Islander\",\" State-gov\\u002f58\\u002f Asian-Pac-Islander\",\" Private\\u002f59\\u002f Asian-Pac-Islander\",\" ?\\u002f60\\u002f Asian-Pac-Islander\",\" Local-gov\\u002f60\\u002f Asian-Pac-Islander\",\" Private\\u002f60\\u002f Asian-Pac-Islander\",\" State-gov\\u002f60\\u002f Asian-Pac-Islander\",\" Private\\u002f61\\u002f Asian-Pac-Islander\",\" Self-emp-inc\\u002f61\\u002f Asian-Pac-Islander\",\" Self-emp-not-inc\\u002f61\\u002f Asian-Pac-Islander\",\" ?\\u002f62\\u002f Asian-Pac-Islander\",\" Private\\u002f62\\u002f Asian-Pac-Islander\",\" Self-emp-inc\\u002f62\\u002f Asian-Pac-Islander\",\" Private\\u002f63\\u002f Asian-Pac-Islander\",\" Self-emp-not-inc\\u002f63\\u002f Asian-Pac-Islander\",\" Federal-gov\\u002f64\\u002f Asian-Pac-Islander\",\" Local-gov\\u002f64\\u002f Asian-Pac-Islander\",\" Private\\u002f64\\u002f Asian-Pac-Islander\",\" ?\\u002f65\\u002f Asian-Pac-Islander\",\" Private\\u002f65\\u002f Asian-Pac-Islander\",\" Private\\u002f66\\u002f Asian-Pac-Islander\",\" Self-emp-inc\\u002f67\\u002f Asian-Pac-Islander\",\" Without-pay\\u002f67\\u002f Asian-Pac-Islander\",\" ?\\u002f69\\u002f Asian-Pac-Islander\",\" ?\\u002f70\\u002f Asian-Pac-Islander\",\" Private\\u002f70\\u002f Asian-Pac-Islander\",\" Private\\u002f71\\u002f Asian-Pac-Islander\",\" ?\\u002f72\\u002f Asian-Pac-Islander\",\" Private\\u002f72\\u002f Asian-Pac-Islander\",\" ?\\u002f73\\u002f Asian-Pac-Islander\",\" Private\\u002f73\\u002f Asian-Pac-Islander\",\" Self-emp-not-inc\\u002f73\\u002f Asian-Pac-Islander\",\" State-gov\\u002f73\\u002f Asian-Pac-Islander\",\" ?\\u002f75\\u002f Asian-Pac-Islander\",\" Private\\u002f75\\u002f Asian-Pac-Islander\",\" Self-emp-inc\\u002f75\\u002f Asian-Pac-Islander\",\" Private\\u002f78\\u002f Asian-Pac-Islander\",\" ?\\u002f90\\u002f Asian-Pac-Islander\",\" Local-gov\\u002f90\\u002f Asian-Pac-Islander\",\" Private\\u002f90\\u002f Asian-Pac-Islander\",\" ?\\u002f17\\u002f Black\",\" Federal-gov\\u002f17\\u002f Black\",\" Local-gov\\u002f17\\u002f Black\",\" Private\\u002f17\\u002f Black\",\" Self-emp-inc\\u002f17\\u002f Black\",\" ?\\u002f18\\u002f Black\",\" Private\\u002f18\\u002f Black\",\" State-gov\\u002f18\\u002f Black\",\" ?\\u002f19\\u002f Black\",\" Federal-gov\\u002f19\\u002f Black\",\" Local-gov\\u002f19\\u002f Black\",\" Private\\u002f19\\u002f Black\",\" State-gov\\u002f19\\u002f Black\",\" ?\\u002f20\\u002f Black\",\" Federal-gov\\u002f20\\u002f Black\",\" Local-gov\\u002f20\\u002f Black\",\" Never-worked\\u002f20\\u002f Black\",\" Private\\u002f20\\u002f Black\",\" ?\\u002f21\\u002f Black\",\" Federal-gov\\u002f21\\u002f Black\",\" Local-gov\\u002f21\\u002f Black\",\" Private\\u002f21\\u002f Black\",\" State-gov\\u002f21\\u002f Black\",\" Without-pay\\u002f21\\u002f Black\",\" ?\\u002f22\\u002f Black\",\" Federal-gov\\u002f22\\u002f Black\",\" Local-gov\\u002f22\\u002f Black\",\" Private\\u002f22\\u002f Black\",\" Self-emp-not-inc\\u002f22\\u002f Black\",\" State-gov\\u002f22\\u002f Black\",\" ?\\u002f23\\u002f Black\",\" Local-gov\\u002f23\\u002f Black\",\" Private\\u002f23\\u002f Black\",\" State-gov\\u002f23\\u002f Black\",\" ?\\u002f24\\u002f Black\",\" Federal-gov\\u002f24\\u002f Black\",\" Local-gov\\u002f24\\u002f Black\",\" Private\\u002f24\\u002f Black\",\" Self-emp-inc\\u002f24\\u002f Black\",\" Self-emp-not-inc\\u002f24\\u002f Black\",\" State-gov\\u002f24\\u002f Black\",\" ?\\u002f25\\u002f Black\",\" Federal-gov\\u002f25\\u002f Black\",\" Local-gov\\u002f25\\u002f Black\",\" Private\\u002f25\\u002f Black\",\" Self-emp-not-inc\\u002f25\\u002f Black\",\" State-gov\\u002f25\\u002f Black\",\" ?\\u002f26\\u002f Black\",\" Federal-gov\\u002f26\\u002f Black\",\" Local-gov\\u002f26\\u002f Black\",\" Private\\u002f26\\u002f Black\",\" Self-emp-not-inc\\u002f26\\u002f Black\",\" State-gov\\u002f26\\u002f Black\",\" ?\\u002f27\\u002f Black\",\" Federal-gov\\u002f27\\u002f Black\",\" Local-gov\\u002f27\\u002f Black\",\" Private\\u002f27\\u002f Black\",\" Self-emp-not-inc\\u002f27\\u002f Black\",\" State-gov\\u002f27\\u002f Black\",\" ?\\u002f28\\u002f Black\",\" Federal-gov\\u002f28\\u002f Black\",\" Local-gov\\u002f28\\u002f Black\",\" Private\\u002f28\\u002f Black\",\" Self-emp-inc\\u002f28\\u002f Black\",\" Self-emp-not-inc\\u002f28\\u002f Black\",\" State-gov\\u002f28\\u002f Black\",\" ?\\u002f29\\u002f Black\",\" Federal-gov\\u002f29\\u002f Black\",\" Local-gov\\u002f29\\u002f Black\",\" Private\\u002f29\\u002f Black\",\" Self-emp-inc\\u002f29\\u002f Black\",\" Self-emp-not-inc\\u002f29\\u002f Black\",\" State-gov\\u002f29\\u002f Black\",\" ?\\u002f30\\u002f Black\",\" Federal-gov\\u002f30\\u002f Black\",\" Local-gov\\u002f30\\u002f Black\",\" Never-worked\\u002f30\\u002f Black\",\" Private\\u002f30\\u002f Black\",\" Self-emp-inc\\u002f30\\u002f Black\",\" Self-emp-not-inc\\u002f30\\u002f Black\",\" State-gov\\u002f30\\u002f Black\",\" ?\\u002f31\\u002f Black\",\" Federal-gov\\u002f31\\u002f Black\",\" Local-gov\\u002f31\\u002f Black\",\" Private\\u002f31\\u002f Black\",\" Self-emp-not-inc\\u002f31\\u002f Black\",\" State-gov\\u002f31\\u002f Black\",\" ?\\u002f32\\u002f Black\",\" Federal-gov\\u002f32\\u002f Black\",\" Local-gov\\u002f32\\u002f Black\",\" Private\\u002f32\\u002f Black\",\" Self-emp-inc\\u002f32\\u002f Black\",\" Self-emp-not-inc\\u002f32\\u002f Black\",\" State-gov\\u002f32\\u002f Black\",\" ?\\u002f33\\u002f Black\",\" Federal-gov\\u002f33\\u002f Black\",\" Local-gov\\u002f33\\u002f Black\",\" Private\\u002f33\\u002f Black\",\" Self-emp-not-inc\\u002f33\\u002f Black\",\" State-gov\\u002f33\\u002f Black\",\" ?\\u002f34\\u002f Black\",\" Federal-gov\\u002f34\\u002f Black\",\" Local-gov\\u002f34\\u002f Black\",\" Private\\u002f34\\u002f Black\",\" Self-emp-not-inc\\u002f34\\u002f Black\",\" State-gov\\u002f34\\u002f Black\",\" ?\\u002f35\\u002f Black\",\" Federal-gov\\u002f35\\u002f Black\",\" Local-gov\\u002f35\\u002f Black\",\" Private\\u002f35\\u002f Black\",\" Self-emp-not-inc\\u002f35\\u002f Black\",\" State-gov\\u002f35\\u002f Black\",\" ?\\u002f36\\u002f Black\",\" Federal-gov\\u002f36\\u002f Black\",\" Local-gov\\u002f36\\u002f Black\",\" Private\\u002f36\\u002f Black\",\" Self-emp-inc\\u002f36\\u002f Black\",\" Self-emp-not-inc\\u002f36\\u002f Black\",\" State-gov\\u002f36\\u002f Black\",\" Federal-gov\\u002f37\\u002f Black\",\" Local-gov\\u002f37\\u002f Black\",\" Private\\u002f37\\u002f Black\",\" Self-emp-inc\\u002f37\\u002f Black\",\" Self-emp-not-inc\\u002f37\\u002f Black\",\" State-gov\\u002f37\\u002f Black\",\" ?\\u002f38\\u002f Black\",\" Federal-gov\\u002f38\\u002f Black\",\" Local-gov\\u002f38\\u002f Black\",\" Private\\u002f38\\u002f Black\",\" Self-emp-not-inc\\u002f38\\u002f Black\",\" State-gov\\u002f38\\u002f Black\",\" ?\\u002f39\\u002f Black\",\" Federal-gov\\u002f39\\u002f Black\",\" Local-gov\\u002f39\\u002f Black\",\" Private\\u002f39\\u002f Black\",\" Self-emp-not-inc\\u002f39\\u002f Black\",\" State-gov\\u002f39\\u002f Black\",\" ?\\u002f40\\u002f Black\",\" Federal-gov\\u002f40\\u002f Black\",\" Local-gov\\u002f40\\u002f Black\",\" Private\\u002f40\\u002f Black\",\" Self-emp-not-inc\\u002f40\\u002f Black\",\" State-gov\\u002f40\\u002f Black\",\" ?\\u002f41\\u002f Black\",\" Federal-gov\\u002f41\\u002f Black\",\" Local-gov\\u002f41\\u002f Black\",\" Private\\u002f41\\u002f Black\",\" Self-emp-inc\\u002f41\\u002f Black\",\" Self-emp-not-inc\\u002f41\\u002f Black\",\" State-gov\\u002f41\\u002f Black\",\" ?\\u002f42\\u002f Black\",\" Federal-gov\\u002f42\\u002f Black\",\" Local-gov\\u002f42\\u002f Black\",\" Private\\u002f42\\u002f Black\",\" Self-emp-inc\\u002f42\\u002f Black\",\" Self-emp-not-inc\\u002f42\\u002f Black\",\" State-gov\\u002f42\\u002f Black\",\" ?\\u002f43\\u002f Black\",\" Federal-gov\\u002f43\\u002f Black\",\" Local-gov\\u002f43\\u002f Black\",\" Private\\u002f43\\u002f Black\",\" Self-emp-inc\\u002f43\\u002f Black\",\" Self-emp-not-inc\\u002f43\\u002f Black\",\" State-gov\\u002f43\\u002f Black\",\" ?\\u002f44\\u002f Black\",\" Federal-gov\\u002f44\\u002f Black\",\" Local-gov\\u002f44\\u002f Black\",\" Private\\u002f44\\u002f Black\",\" Self-emp-inc\\u002f44\\u002f Black\",\" Self-emp-not-inc\\u002f44\\u002f Black\",\" State-gov\\u002f44\\u002f Black\",\" ?\\u002f45\\u002f Black\",\" Federal-gov\\u002f45\\u002f Black\",\" Local-gov\\u002f45\\u002f Black\",\" Private\\u002f45\\u002f Black\",\" Self-emp-not-inc\\u002f45\\u002f Black\",\" State-gov\\u002f45\\u002f Black\",\" ?\\u002f46\\u002f Black\",\" Federal-gov\\u002f46\\u002f Black\",\" Local-gov\\u002f46\\u002f Black\",\" Private\\u002f46\\u002f Black\",\" Self-emp-not-inc\\u002f46\\u002f Black\",\" State-gov\\u002f46\\u002f Black\",\" ?\\u002f47\\u002f Black\",\" Federal-gov\\u002f47\\u002f Black\",\" Local-gov\\u002f47\\u002f Black\",\" Private\\u002f47\\u002f Black\",\" Self-emp-not-inc\\u002f47\\u002f Black\",\" ?\\u002f48\\u002f Black\",\" Federal-gov\\u002f48\\u002f Black\",\" Local-gov\\u002f48\\u002f Black\",\" Private\\u002f48\\u002f Black\",\" Self-emp-not-inc\\u002f48\\u002f Black\",\" State-gov\\u002f48\\u002f Black\",\" ?\\u002f49\\u002f Black\",\" Federal-gov\\u002f49\\u002f Black\",\" Local-gov\\u002f49\\u002f Black\",\" Private\\u002f49\\u002f Black\",\" Self-emp-inc\\u002f49\\u002f Black\",\" Self-emp-not-inc\\u002f49\\u002f Black\",\" State-gov\\u002f49\\u002f Black\",\" ?\\u002f50\\u002f Black\",\" Federal-gov\\u002f50\\u002f Black\",\" Local-gov\\u002f50\\u002f Black\",\" Private\\u002f50\\u002f Black\",\" Self-emp-inc\\u002f50\\u002f Black\",\" Self-emp-not-inc\\u002f50\\u002f Black\",\" State-gov\\u002f50\\u002f Black\",\" ?\\u002f51\\u002f Black\",\" Federal-gov\\u002f51\\u002f Black\",\" Local-gov\\u002f51\\u002f Black\",\" Private\\u002f51\\u002f Black\",\" Self-emp-inc\\u002f51\\u002f Black\",\" Self-emp-not-inc\\u002f51\\u002f Black\",\" ?\\u002f52\\u002f Black\",\" Federal-gov\\u002f52\\u002f Black\",\" Local-gov\\u002f52\\u002f Black\",\" Private\\u002f52\\u002f Black\",\" Self-emp-inc\\u002f52\\u002f Black\",\" Self-emp-not-inc\\u002f52\\u002f Black\",\" State-gov\\u002f52\\u002f Black\",\" ?\\u002f53\\u002f Black\",\" Federal-gov\\u002f53\\u002f Black\",\" Local-gov\\u002f53\\u002f Black\",\" Private\\u002f53\\u002f Black\",\" Self-emp-not-inc\\u002f53\\u002f Black\",\" Local-gov\\u002f54\\u002f Black\",\" Private\\u002f54\\u002f Black\",\" Self-emp-inc\\u002f54\\u002f Black\",\" Self-emp-not-inc\\u002f54\\u002f Black\",\" State-gov\\u002f54\\u002f Black\",\" ?\\u002f55\\u002f Black\",\" Federal-gov\\u002f55\\u002f Black\",\" Local-gov\\u002f55\\u002f Black\",\" Private\\u002f55\\u002f Black\",\" Self-emp-not-inc\\u002f55\\u002f Black\",\" State-gov\\u002f55\\u002f Black\",\" ?\\u002f56\\u002f Black\",\" Federal-gov\\u002f56\\u002f Black\",\" Local-gov\\u002f56\\u002f Black\",\" Private\\u002f56\\u002f Black\",\" Self-emp-not-inc\\u002f56\\u002f Black\",\" State-gov\\u002f56\\u002f Black\",\" Federal-gov\\u002f57\\u002f Black\",\" Local-gov\\u002f57\\u002f Black\",\" Private\\u002f57\\u002f Black\",\" Self-emp-inc\\u002f57\\u002f Black\",\" State-gov\\u002f57\\u002f Black\",\" ?\\u002f58\\u002f Black\",\" Federal-gov\\u002f58\\u002f Black\",\" Local-gov\\u002f58\\u002f Black\",\" Private\\u002f58\\u002f Black\",\" State-gov\\u002f58\\u002f Black\",\" ?\\u002f59\\u002f Black\",\" Federal-gov\\u002f59\\u002f Black\",\" Local-gov\\u002f59\\u002f Black\",\" Private\\u002f59\\u002f Black\",\" State-gov\\u002f59\\u002f Black\",\" ?\\u002f60\\u002f Black\",\" Federal-gov\\u002f60\\u002f Black\",\" Private\\u002f60\\u002f Black\",\" Self-emp-not-inc\\u002f60\\u002f Black\",\" State-gov\\u002f60\\u002f Black\",\" ?\\u002f61\\u002f Black\",\" Federal-gov\\u002f61\\u002f Black\",\" Private\\u002f61\\u002f Black\",\" Self-emp-not-inc\\u002f61\\u002f Black\",\" State-gov\\u002f61\\u002f Black\",\" ?\\u002f62\\u002f Black\",\" Federal-gov\\u002f62\\u002f Black\",\" Local-gov\\u002f62\\u002f Black\",\" Private\\u002f62\\u002f Black\",\" Self-emp-inc\\u002f62\\u002f Black\",\" State-gov\\u002f62\\u002f Black\",\" ?\\u002f63\\u002f Black\",\" Federal-gov\\u002f63\\u002f Black\",\" Local-gov\\u002f63\\u002f Black\",\" Private\\u002f63\\u002f Black\",\" ?\\u002f64\\u002f Black\",\" Federal-gov\\u002f64\\u002f Black\",\" Local-gov\\u002f64\\u002f Black\",\" Private\\u002f64\\u002f Black\",\" State-gov\\u002f64\\u002f Black\",\" ?\\u002f65\\u002f Black\",\" Federal-gov\\u002f65\\u002f Black\",\" Local-gov\\u002f65\\u002f Black\",\" Private\\u002f65\\u002f Black\",\" State-gov\\u002f65\\u002f Black\",\" ?\\u002f66\\u002f Black\",\" Federal-gov\\u002f66\\u002f Black\",\" Local-gov\\u002f66\\u002f Black\",\" Private\\u002f66\\u002f Black\",\" State-gov\\u002f66\\u002f Black\",\" ?\\u002f67\\u002f Black\",\" Local-gov\\u002f67\\u002f Black\",\" Private\\u002f67\\u002f Black\",\" Self-emp-not-inc\\u002f67\\u002f Black\",\" State-gov\\u002f67\\u002f Black\",\" ?\\u002f68\\u002f Black\",\" Federal-gov\\u002f68\\u002f Black\",\" Local-gov\\u002f68\\u002f Black\",\" Private\\u002f68\\u002f Black\",\" Local-gov\\u002f69\\u002f Black\",\" Private\\u002f69\\u002f Black\",\" Federal-gov\\u002f70\\u002f Black\",\" Private\\u002f70\\u002f Black\",\" Self-emp-not-inc\\u002f70\\u002f Black\",\" Private\\u002f71\\u002f Black\",\" Self-emp-not-inc\\u002f71\\u002f Black\",\" State-gov\\u002f71\\u002f Black\",\" Private\\u002f72\\u002f Black\",\" ?\\u002f74\\u002f Black\",\" Private\\u002f74\\u002f Black\",\" ?\\u002f75\\u002f Black\",\" Private\\u002f75\\u002f Black\",\" Self-emp-not-inc\\u002f75\\u002f Black\",\" State-gov\\u002f75\\u002f Black\",\" ?\\u002f76\\u002f Black\",\" Private\\u002f76\\u002f Black\",\" ?\\u002f77\\u002f Black\",\" Private\\u002f77\\u002f Black\",\" Private\\u002f78\\u002f Black\",\" ?\\u002f79\\u002f Black\",\" Private\\u002f81\\u002f Black\",\" Private\\u002f84\\u002f Black\",\" ?\\u002f90\\u002f Black\",\" Private\\u002f90\\u002f Black\",\" ?\\u002f17\\u002f Other\",\" Private\\u002f17\\u002f Other\",\" ?\\u002f18\\u002f Other\",\" Private\\u002f18\\u002f Other\",\" ?\\u002f19\\u002f Other\",\" Private\\u002f19\\u002f Other\",\" ?\\u002f20\\u002f Other\",\" Private\\u002f20\\u002f Other\",\" State-gov\\u002f20\\u002f Other\",\" ?\\u002f21\\u002f Other\",\" Private\\u002f21\\u002f Other\",\" ?\\u002f22\\u002f Other\",\" Private\\u002f22\\u002f Other\",\" State-gov\\u002f22\\u002f Other\",\" ?\\u002f23\\u002f Other\",\" Private\\u002f23\\u002f Other\",\" ?\\u002f24\\u002f Other\",\" Federal-gov\\u002f24\\u002f Other\",\" Local-gov\\u002f24\\u002f Other\",\" Private\\u002f24\\u002f Other\",\" Private\\u002f25\\u002f Other\",\" Federal-gov\\u002f26\\u002f Other\",\" Private\\u002f26\\u002f Other\",\" Self-emp-inc\\u002f26\\u002f Other\",\" ?\\u002f27\\u002f Other\",\" Local-gov\\u002f27\\u002f Other\",\" Private\\u002f27\\u002f Other\",\" Self-emp-not-inc\\u002f27\\u002f Other\",\" Private\\u002f28\\u002f Other\",\" Federal-gov\\u002f29\\u002f Other\",\" Local-gov\\u002f29\\u002f Other\",\" Private\\u002f29\\u002f Other\",\" ?\\u002f30\\u002f Other\",\" Private\\u002f30\\u002f Other\",\" Private\\u002f31\\u002f Other\",\" State-gov\\u002f31\\u002f Other\",\" Local-gov\\u002f32\\u002f Other\",\" Private\\u002f32\\u002f Other\",\" Self-emp-not-inc\\u002f32\\u002f Other\",\" Local-gov\\u002f33\\u002f Other\",\" Private\\u002f33\\u002f Other\",\" Private\\u002f34\\u002f Other\",\" Self-emp-inc\\u002f34\\u002f Other\",\" Private\\u002f35\\u002f Other\",\" Private\\u002f36\\u002f Other\",\" Self-emp-not-inc\\u002f36\\u002f Other\",\" Local-gov\\u002f37\\u002f Other\",\" Private\\u002f37\\u002f Other\",\" Self-emp-not-inc\\u002f37\\u002f Other\",\" ?\\u002f38\\u002f Other\",\" Private\\u002f38\\u002f Other\",\" Private\\u002f39\\u002f Other\",\" Self-emp-not-inc\\u002f39\\u002f Other\",\" State-gov\\u002f39\\u002f Other\",\" Local-gov\\u002f40\\u002f Other\",\" Private\\u002f40\\u002f Other\",\" ?\\u002f41\\u002f Other\",\" Private\\u002f41\\u002f Other\",\" Self-emp-inc\\u002f41\\u002f Other\",\" Local-gov\\u002f42\\u002f Other\",\" Private\\u002f42\\u002f Other\",\" Self-emp-not-inc\\u002f42\\u002f Other\",\" Local-gov\\u002f43\\u002f Other\",\" Private\\u002f43\\u002f Other\",\" Self-emp-not-inc\\u002f43\\u002f Other\",\" Private\\u002f44\\u002f Other\",\" Private\\u002f45\\u002f Other\",\" Federal-gov\\u002f46\\u002f Other\",\" Private\\u002f46\\u002f Other\",\" Private\\u002f47\\u002f Other\",\" Self-emp-inc\\u002f47\\u002f Other\",\" Self-emp-not-inc\\u002f47\\u002f Other\",\" Private\\u002f48\\u002f Other\",\" Private\\u002f49\\u002f Other\",\" Private\\u002f50\\u002f Other\",\" Federal-gov\\u002f51\\u002f Other\",\" Self-emp-not-inc\\u002f51\\u002f Other\",\" Private\\u002f52\\u002f Other\",\" Self-emp-inc\\u002f52\\u002f Other\",\" ?\\u002f53\\u002f Other\",\" Local-gov\\u002f53\\u002f Other\",\" Private\\u002f53\\u002f Other\",\" Private\\u002f55\\u002f Other\",\" Private\\u002f56\\u002f Other\",\" ?\\u002f57\\u002f Other\",\" Private\\u002f57\\u002f Other\",\" Private\\u002f58\\u002f Other\",\" Private\\u002f60\\u002f Other\",\" Private\\u002f63\\u002f Other\",\" Private\\u002f65\\u002f Other\",\" ?\\u002f66\\u002f Other\",\" ?\\u002f74\\u002f Other\",\" Private\\u002f77\\u002f Other\",\" ?\\u002f17\\u002f White\",\" Local-gov\\u002f17\\u002f White\",\" Never-worked\\u002f17\\u002f White\",\" Private\\u002f17\\u002f White\",\" Self-emp-inc\\u002f17\\u002f White\",\" Self-emp-not-inc\\u002f17\\u002f White\",\" State-gov\\u002f17\\u002f White\",\" ?\\u002f18\\u002f White\",\" Federal-gov\\u002f18\\u002f White\",\" Local-gov\\u002f18\\u002f White\",\" Never-worked\\u002f18\\u002f White\",\" Private\\u002f18\\u002f White\",\" Self-emp-inc\\u002f18\\u002f White\",\" Self-emp-not-inc\\u002f18\\u002f White\",\" State-gov\\u002f18\\u002f White\",\" ?\\u002f19\\u002f White\",\" Federal-gov\\u002f19\\u002f White\",\" Local-gov\\u002f19\\u002f White\",\" Private\\u002f19\\u002f White\",\" Self-emp-inc\\u002f19\\u002f White\",\" Self-emp-not-inc\\u002f19\\u002f White\",\" State-gov\\u002f19\\u002f White\",\" Without-pay\\u002f19\\u002f White\",\" ?\\u002f20\\u002f White\",\" Federal-gov\\u002f20\\u002f White\",\" Local-gov\\u002f20\\u002f White\",\" Private\\u002f20\\u002f White\",\" Self-emp-inc\\u002f20\\u002f White\",\" Self-emp-not-inc\\u002f20\\u002f White\",\" State-gov\\u002f20\\u002f White\",\" ?\\u002f21\\u002f White\",\" Federal-gov\\u002f21\\u002f White\",\" Local-gov\\u002f21\\u002f White\",\" Private\\u002f21\\u002f White\",\" Self-emp-inc\\u002f21\\u002f White\",\" Self-emp-not-inc\\u002f21\\u002f White\",\" State-gov\\u002f21\\u002f White\",\" ?\\u002f22\\u002f White\",\" Federal-gov\\u002f22\\u002f White\",\" Local-gov\\u002f22\\u002f White\",\" Private\\u002f22\\u002f White\",\" Self-emp-inc\\u002f22\\u002f White\",\" Self-emp-not-inc\\u002f22\\u002f White\",\" State-gov\\u002f22\\u002f White\",\" Without-pay\\u002f22\\u002f White\",\" ?\\u002f23\\u002f White\",\" Federal-gov\\u002f23\\u002f White\",\" Local-gov\\u002f23\\u002f White\",\" Never-worked\\u002f23\\u002f White\",\" Private\\u002f23\\u002f White\",\" Self-emp-inc\\u002f23\\u002f White\",\" Self-emp-not-inc\\u002f23\\u002f White\",\" State-gov\\u002f23\\u002f White\",\" ?\\u002f24\\u002f White\",\" Federal-gov\\u002f24\\u002f White\",\" Local-gov\\u002f24\\u002f White\",\" Private\\u002f24\\u002f White\",\" Self-emp-inc\\u002f24\\u002f White\",\" Self-emp-not-inc\\u002f24\\u002f White\",\" State-gov\\u002f24\\u002f White\",\" ?\\u002f25\\u002f White\",\" Federal-gov\\u002f25\\u002f White\",\" Local-gov\\u002f25\\u002f White\",\" Private\\u002f25\\u002f White\",\" Self-emp-inc\\u002f25\\u002f White\",\" Self-emp-not-inc\\u002f25\\u002f White\",\" State-gov\\u002f25\\u002f White\",\" ?\\u002f26\\u002f White\",\" Federal-gov\\u002f26\\u002f White\",\" Local-gov\\u002f26\\u002f White\",\" Private\\u002f26\\u002f White\",\" Self-emp-inc\\u002f26\\u002f White\",\" Self-emp-not-inc\\u002f26\\u002f White\",\" State-gov\\u002f26\\u002f White\",\" ?\\u002f27\\u002f White\",\" Federal-gov\\u002f27\\u002f White\",\" Local-gov\\u002f27\\u002f White\",\" Private\\u002f27\\u002f White\",\" Self-emp-inc\\u002f27\\u002f White\",\" Self-emp-not-inc\\u002f27\\u002f White\",\" State-gov\\u002f27\\u002f White\",\" ?\\u002f28\\u002f White\",\" Federal-gov\\u002f28\\u002f White\",\" Local-gov\\u002f28\\u002f White\",\" Private\\u002f28\\u002f White\",\" Self-emp-inc\\u002f28\\u002f White\",\" Self-emp-not-inc\\u002f28\\u002f White\",\" State-gov\\u002f28\\u002f White\",\" ?\\u002f29\\u002f White\",\" Federal-gov\\u002f29\\u002f White\",\" Local-gov\\u002f29\\u002f White\",\" Private\\u002f29\\u002f White\",\" Self-emp-inc\\u002f29\\u002f White\",\" Self-emp-not-inc\\u002f29\\u002f White\",\" State-gov\\u002f29\\u002f White\",\" Without-pay\\u002f29\\u002f White\",\" ?\\u002f30\\u002f White\",\" Federal-gov\\u002f30\\u002f White\",\" Local-gov\\u002f30\\u002f White\",\" Private\\u002f30\\u002f White\",\" Self-emp-inc\\u002f30\\u002f White\",\" Self-emp-not-inc\\u002f30\\u002f White\",\" State-gov\\u002f30\\u002f White\",\" ?\\u002f31\\u002f White\",\" Federal-gov\\u002f31\\u002f White\",\" Local-gov\\u002f31\\u002f White\",\" Private\\u002f31\\u002f White\",\" Self-emp-inc\\u002f31\\u002f White\",\" Self-emp-not-inc\\u002f31\\u002f White\",\" State-gov\\u002f31\\u002f White\",\" ?\\u002f32\\u002f White\",\" Federal-gov\\u002f32\\u002f White\",\" Local-gov\\u002f32\\u002f White\",\" Private\\u002f32\\u002f White\",\" Self-emp-inc\\u002f32\\u002f White\",\" Self-emp-not-inc\\u002f32\\u002f White\",\" State-gov\\u002f32\\u002f White\",\" ?\\u002f33\\u002f White\",\" Federal-gov\\u002f33\\u002f White\",\" Local-gov\\u002f33\\u002f White\",\" Private\\u002f33\\u002f White\",\" Self-emp-inc\\u002f33\\u002f White\",\" Self-emp-not-inc\\u002f33\\u002f White\",\" State-gov\\u002f33\\u002f White\",\" ?\\u002f34\\u002f White\",\" Federal-gov\\u002f34\\u002f White\",\" Local-gov\\u002f34\\u002f White\",\" Private\\u002f34\\u002f White\",\" Self-emp-inc\\u002f34\\u002f White\",\" Self-emp-not-inc\\u002f34\\u002f White\",\" State-gov\\u002f34\\u002f White\",\" ?\\u002f35\\u002f White\",\" Federal-gov\\u002f35\\u002f White\",\" Local-gov\\u002f35\\u002f White\",\" Private\\u002f35\\u002f White\",\" Self-emp-inc\\u002f35\\u002f White\",\" Self-emp-not-inc\\u002f35\\u002f White\",\" State-gov\\u002f35\\u002f White\",\" ?\\u002f36\\u002f White\",\" Federal-gov\\u002f36\\u002f White\",\" Local-gov\\u002f36\\u002f White\",\" Private\\u002f36\\u002f White\",\" Self-emp-inc\\u002f36\\u002f White\",\" Self-emp-not-inc\\u002f36\\u002f White\",\" State-gov\\u002f36\\u002f White\",\" ?\\u002f37\\u002f White\",\" Federal-gov\\u002f37\\u002f White\",\" Local-gov\\u002f37\\u002f White\",\" Private\\u002f37\\u002f White\",\" Self-emp-inc\\u002f37\\u002f White\",\" Self-emp-not-inc\\u002f37\\u002f White\",\" State-gov\\u002f37\\u002f White\",\" ?\\u002f38\\u002f White\",\" Federal-gov\\u002f38\\u002f White\",\" Local-gov\\u002f38\\u002f White\",\" Private\\u002f38\\u002f White\",\" Self-emp-inc\\u002f38\\u002f White\",\" Self-emp-not-inc\\u002f38\\u002f White\",\" State-gov\\u002f38\\u002f White\",\" ?\\u002f39\\u002f White\",\" Federal-gov\\u002f39\\u002f White\",\" Local-gov\\u002f39\\u002f White\",\" Private\\u002f39\\u002f White\",\" Self-emp-inc\\u002f39\\u002f White\",\" Self-emp-not-inc\\u002f39\\u002f White\",\" State-gov\\u002f39\\u002f White\",\" ?\\u002f40\\u002f White\",\" Federal-gov\\u002f40\\u002f White\",\" Local-gov\\u002f40\\u002f White\",\" Private\\u002f40\\u002f White\",\" Self-emp-inc\\u002f40\\u002f White\",\" Self-emp-not-inc\\u002f40\\u002f White\",\" State-gov\\u002f40\\u002f White\",\" ?\\u002f41\\u002f White\",\" Federal-gov\\u002f41\\u002f White\",\" Local-gov\\u002f41\\u002f White\",\" Private\\u002f41\\u002f White\",\" Self-emp-inc\\u002f41\\u002f White\",\" Self-emp-not-inc\\u002f41\\u002f White\",\" State-gov\\u002f41\\u002f White\",\" ?\\u002f42\\u002f White\",\" Federal-gov\\u002f42\\u002f White\",\" Local-gov\\u002f42\\u002f White\",\" Private\\u002f42\\u002f White\",\" Self-emp-inc\\u002f42\\u002f White\",\" Self-emp-not-inc\\u002f42\\u002f White\",\" State-gov\\u002f42\\u002f White\",\" ?\\u002f43\\u002f White\",\" Federal-gov\\u002f43\\u002f White\",\" Local-gov\\u002f43\\u002f White\",\" Private\\u002f43\\u002f White\",\" Self-emp-inc\\u002f43\\u002f White\",\" Self-emp-not-inc\\u002f43\\u002f White\",\" State-gov\\u002f43\\u002f White\",\" ?\\u002f44\\u002f White\",\" Federal-gov\\u002f44\\u002f White\",\" Local-gov\\u002f44\\u002f White\",\" Private\\u002f44\\u002f White\",\" Self-emp-inc\\u002f44\\u002f White\",\" Self-emp-not-inc\\u002f44\\u002f White\",\" State-gov\\u002f44\\u002f White\",\" ?\\u002f45\\u002f White\",\" Federal-gov\\u002f45\\u002f White\",\" Local-gov\\u002f45\\u002f White\",\" Private\\u002f45\\u002f White\",\" Self-emp-inc\\u002f45\\u002f White\",\" Self-emp-not-inc\\u002f45\\u002f White\",\" State-gov\\u002f45\\u002f White\",\" ?\\u002f46\\u002f White\",\" Federal-gov\\u002f46\\u002f White\",\" Local-gov\\u002f46\\u002f White\",\" Private\\u002f46\\u002f White\",\" Self-emp-inc\\u002f46\\u002f White\",\" Self-emp-not-inc\\u002f46\\u002f White\",\" State-gov\\u002f46\\u002f White\",\" Without-pay\\u002f46\\u002f White\",\" ?\\u002f47\\u002f White\",\" Federal-gov\\u002f47\\u002f White\",\" Local-gov\\u002f47\\u002f White\",\" Private\\u002f47\\u002f White\",\" Self-emp-inc\\u002f47\\u002f White\",\" Self-emp-not-inc\\u002f47\\u002f White\",\" State-gov\\u002f47\\u002f White\",\" ?\\u002f48\\u002f White\",\" Federal-gov\\u002f48\\u002f White\",\" Local-gov\\u002f48\\u002f White\",\" Private\\u002f48\\u002f White\",\" Self-emp-inc\\u002f48\\u002f White\",\" Self-emp-not-inc\\u002f48\\u002f White\",\" State-gov\\u002f48\\u002f White\",\" ?\\u002f49\\u002f White\",\" Federal-gov\\u002f49\\u002f White\",\" Local-gov\\u002f49\\u002f White\",\" Private\\u002f49\\u002f White\",\" Self-emp-inc\\u002f49\\u002f White\",\" Self-emp-not-inc\\u002f49\\u002f White\",\" State-gov\\u002f49\\u002f White\",\" ?\\u002f50\\u002f White\",\" Federal-gov\\u002f50\\u002f White\",\" Local-gov\\u002f50\\u002f White\",\" Private\\u002f50\\u002f White\",\" Self-emp-inc\\u002f50\\u002f White\",\" Self-emp-not-inc\\u002f50\\u002f White\",\" State-gov\\u002f50\\u002f White\",\" ?\\u002f51\\u002f White\",\" Federal-gov\\u002f51\\u002f White\",\" Local-gov\\u002f51\\u002f White\",\" Private\\u002f51\\u002f White\",\" Self-emp-inc\\u002f51\\u002f White\",\" Self-emp-not-inc\\u002f51\\u002f White\",\" State-gov\\u002f51\\u002f White\",\" ?\\u002f52\\u002f White\",\" Federal-gov\\u002f52\\u002f White\",\" Local-gov\\u002f52\\u002f White\",\" Private\\u002f52\\u002f White\",\" Self-emp-inc\\u002f52\\u002f White\",\" Self-emp-not-inc\\u002f52\\u002f White\",\" State-gov\\u002f52\\u002f White\",\" Without-pay\\u002f52\\u002f White\",\" ?\\u002f53\\u002f White\",\" Federal-gov\\u002f53\\u002f White\",\" Local-gov\\u002f53\\u002f White\",\" Private\\u002f53\\u002f White\",\" Self-emp-inc\\u002f53\\u002f White\",\" Self-emp-not-inc\\u002f53\\u002f White\",\" State-gov\\u002f53\\u002f White\",\" ?\\u002f54\\u002f White\",\" Federal-gov\\u002f54\\u002f White\",\" Local-gov\\u002f54\\u002f White\",\" Private\\u002f54\\u002f White\",\" Self-emp-inc\\u002f54\\u002f White\",\" Self-emp-not-inc\\u002f54\\u002f White\",\" State-gov\\u002f54\\u002f White\",\" ?\\u002f55\\u002f White\",\" Federal-gov\\u002f55\\u002f White\",\" Local-gov\\u002f55\\u002f White\",\" Private\\u002f55\\u002f White\",\" Self-emp-inc\\u002f55\\u002f White\",\" Self-emp-not-inc\\u002f55\\u002f White\",\" State-gov\\u002f55\\u002f White\",\" ?\\u002f56\\u002f White\",\" Federal-gov\\u002f56\\u002f White\",\" Local-gov\\u002f56\\u002f White\",\" Private\\u002f56\\u002f White\",\" Self-emp-inc\\u002f56\\u002f White\",\" Self-emp-not-inc\\u002f56\\u002f White\",\" State-gov\\u002f56\\u002f White\",\" ?\\u002f57\\u002f White\",\" Federal-gov\\u002f57\\u002f White\",\" Local-gov\\u002f57\\u002f White\",\" Private\\u002f57\\u002f White\",\" Self-emp-inc\\u002f57\\u002f White\",\" Self-emp-not-inc\\u002f57\\u002f White\",\" State-gov\\u002f57\\u002f White\",\" ?\\u002f58\\u002f White\",\" Federal-gov\\u002f58\\u002f White\",\" Local-gov\\u002f58\\u002f White\",\" Private\\u002f58\\u002f White\",\" Self-emp-inc\\u002f58\\u002f White\",\" Self-emp-not-inc\\u002f58\\u002f White\",\" State-gov\\u002f58\\u002f White\",\" ?\\u002f59\\u002f White\",\" Federal-gov\\u002f59\\u002f White\",\" Local-gov\\u002f59\\u002f White\",\" Private\\u002f59\\u002f White\",\" Self-emp-inc\\u002f59\\u002f White\",\" Self-emp-not-inc\\u002f59\\u002f White\",\" State-gov\\u002f59\\u002f White\",\" ?\\u002f60\\u002f White\",\" Federal-gov\\u002f60\\u002f White\",\" Local-gov\\u002f60\\u002f White\",\" Private\\u002f60\\u002f White\",\" Self-emp-inc\\u002f60\\u002f White\",\" Self-emp-not-inc\\u002f60\\u002f White\",\" State-gov\\u002f60\\u002f White\",\" ?\\u002f61\\u002f White\",\" Federal-gov\\u002f61\\u002f White\",\" Local-gov\\u002f61\\u002f White\",\" Private\\u002f61\\u002f White\",\" Self-emp-inc\\u002f61\\u002f White\",\" Self-emp-not-inc\\u002f61\\u002f White\",\" State-gov\\u002f61\\u002f White\",\" ?\\u002f62\\u002f White\",\" Federal-gov\\u002f62\\u002f White\",\" Local-gov\\u002f62\\u002f White\",\" Private\\u002f62\\u002f White\",\" Self-emp-inc\\u002f62\\u002f White\",\" Self-emp-not-inc\\u002f62\\u002f White\",\" State-gov\\u002f62\\u002f White\",\" Without-pay\\u002f62\\u002f White\",\" ?\\u002f63\\u002f White\",\" Federal-gov\\u002f63\\u002f White\",\" Local-gov\\u002f63\\u002f White\",\" Private\\u002f63\\u002f White\",\" Self-emp-inc\\u002f63\\u002f White\",\" Self-emp-not-inc\\u002f63\\u002f White\",\" State-gov\\u002f63\\u002f White\",\" ?\\u002f64\\u002f White\",\" Federal-gov\\u002f64\\u002f White\",\" Local-gov\\u002f64\\u002f White\",\" Private\\u002f64\\u002f White\",\" Self-emp-inc\\u002f64\\u002f White\",\" Self-emp-not-inc\\u002f64\\u002f White\",\" State-gov\\u002f64\\u002f White\",\" ?\\u002f65\\u002f White\",\" Federal-gov\\u002f65\\u002f White\",\" Local-gov\\u002f65\\u002f White\",\" Private\\u002f65\\u002f White\",\" Self-emp-inc\\u002f65\\u002f White\",\" Self-emp-not-inc\\u002f65\\u002f White\",\" State-gov\\u002f65\\u002f White\",\" Without-pay\\u002f65\\u002f White\",\" ?\\u002f66\\u002f White\",\" Federal-gov\\u002f66\\u002f White\",\" Local-gov\\u002f66\\u002f White\",\" Private\\u002f66\\u002f White\",\" Self-emp-inc\\u002f66\\u002f White\",\" Self-emp-not-inc\\u002f66\\u002f White\",\" State-gov\\u002f66\\u002f White\",\" ?\\u002f67\\u002f White\",\" Federal-gov\\u002f67\\u002f White\",\" Local-gov\\u002f67\\u002f White\",\" Private\\u002f67\\u002f White\",\" Self-emp-inc\\u002f67\\u002f White\",\" Self-emp-not-inc\\u002f67\\u002f White\",\" State-gov\\u002f67\\u002f White\",\" ?\\u002f68\\u002f White\",\" Federal-gov\\u002f68\\u002f White\",\" Local-gov\\u002f68\\u002f White\",\" Private\\u002f68\\u002f White\",\" Self-emp-inc\\u002f68\\u002f White\",\" Self-emp-not-inc\\u002f68\\u002f White\",\" State-gov\\u002f68\\u002f White\",\" Without-pay\\u002f68\\u002f White\",\" ?\\u002f69\\u002f White\",\" Federal-gov\\u002f69\\u002f White\",\" Local-gov\\u002f69\\u002f White\",\" Private\\u002f69\\u002f White\",\" Self-emp-inc\\u002f69\\u002f White\",\" Self-emp-not-inc\\u002f69\\u002f White\",\" State-gov\\u002f69\\u002f White\",\" ?\\u002f70\\u002f White\",\" Local-gov\\u002f70\\u002f White\",\" Private\\u002f70\\u002f White\",\" Self-emp-inc\\u002f70\\u002f White\",\" Self-emp-not-inc\\u002f70\\u002f White\",\" State-gov\\u002f70\\u002f White\",\" ?\\u002f71\\u002f White\",\" Federal-gov\\u002f71\\u002f White\",\" Local-gov\\u002f71\\u002f White\",\" Private\\u002f71\\u002f White\",\" Self-emp-inc\\u002f71\\u002f White\",\" Self-emp-not-inc\\u002f71\\u002f White\",\" State-gov\\u002f71\\u002f White\",\" ?\\u002f72\\u002f White\",\" Federal-gov\\u002f72\\u002f White\",\" Local-gov\\u002f72\\u002f White\",\" Private\\u002f72\\u002f White\",\" Self-emp-inc\\u002f72\\u002f White\",\" Self-emp-not-inc\\u002f72\\u002f White\",\" Without-pay\\u002f72\\u002f White\",\" ?\\u002f73\\u002f White\",\" Federal-gov\\u002f73\\u002f White\",\" Local-gov\\u002f73\\u002f White\",\" Private\\u002f73\\u002f White\",\" Self-emp-inc\\u002f73\\u002f White\",\" Self-emp-not-inc\\u002f73\\u002f White\",\" State-gov\\u002f73\\u002f White\",\" ?\\u002f74\\u002f White\",\" Federal-gov\\u002f74\\u002f White\",\" Private\\u002f74\\u002f White\",\" Self-emp-inc\\u002f74\\u002f White\",\" Self-emp-not-inc\\u002f74\\u002f White\",\" State-gov\\u002f74\\u002f White\",\" ?\\u002f75\\u002f White\",\" Local-gov\\u002f75\\u002f White\",\" Private\\u002f75\\u002f White\",\" Self-emp-inc\\u002f75\\u002f White\",\" Self-emp-not-inc\\u002f75\\u002f White\",\" ?\\u002f76\\u002f White\",\" Federal-gov\\u002f76\\u002f White\",\" Local-gov\\u002f76\\u002f White\",\" Private\\u002f76\\u002f White\",\" Self-emp-inc\\u002f76\\u002f White\",\" Self-emp-not-inc\\u002f76\\u002f White\",\" ?\\u002f77\\u002f White\",\" Local-gov\\u002f77\\u002f White\",\" Private\\u002f77\\u002f White\",\" Self-emp-inc\\u002f77\\u002f White\",\" Self-emp-not-inc\\u002f77\\u002f White\",\" ?\\u002f78\\u002f White\",\" Local-gov\\u002f78\\u002f White\",\" Private\\u002f78\\u002f White\",\" Self-emp-inc\\u002f78\\u002f White\",\" Self-emp-not-inc\\u002f78\\u002f White\",\" ?\\u002f79\\u002f White\",\" Federal-gov\\u002f79\\u002f White\",\" Local-gov\\u002f79\\u002f White\",\" Private\\u002f79\\u002f White\",\" Self-emp-inc\\u002f79\\u002f White\",\" Self-emp-not-inc\\u002f79\\u002f White\",\" ?\\u002f80\\u002f White\",\" Private\\u002f80\\u002f White\",\" Self-emp-not-inc\\u002f80\\u002f White\",\" ?\\u002f81\\u002f White\",\" Private\\u002f81\\u002f White\",\" Self-emp-inc\\u002f81\\u002f White\",\" Self-emp-not-inc\\u002f81\\u002f White\",\" State-gov\\u002f81\\u002f White\",\" ?\\u002f82\\u002f White\",\" Private\\u002f82\\u002f White\",\" Self-emp-inc\\u002f82\\u002f White\",\" Self-emp-not-inc\\u002f82\\u002f White\",\" ?\\u002f83\\u002f White\",\" Private\\u002f83\\u002f White\",\" Self-emp-inc\\u002f83\\u002f White\",\" Self-emp-not-inc\\u002f83\\u002f White\",\" ?\\u002f84\\u002f White\",\" Local-gov\\u002f84\\u002f White\",\" Private\\u002f84\\u002f White\",\" Self-emp-inc\\u002f84\\u002f White\",\" Self-emp-not-inc\\u002f84\\u002f White\",\" Private\\u002f85\\u002f White\",\" Self-emp-not-inc\\u002f85\\u002f White\",\" Private\\u002f86\\u002f White\",\" ?\\u002f87\\u002f White\",\" Private\\u002f88\\u002f White\",\" Self-emp-not-inc\\u002f88\\u002f White\",\" ?\\u002f90\\u002f White\",\" Federal-gov\\u002f90\\u002f White\",\" Local-gov\\u002f90\\u002f White\",\" Private\\u002f90\\u002f White\",\" Self-emp-not-inc\\u002f90\\u002f White\",\" ?\\u002f17\",\" Federal-gov\\u002f17\",\" Local-gov\\u002f17\",\" Never-worked\\u002f17\",\" Private\\u002f17\",\" Self-emp-inc\\u002f17\",\" Self-emp-not-inc\\u002f17\",\" State-gov\\u002f17\",\" ?\\u002f18\",\" Federal-gov\\u002f18\",\" Local-gov\\u002f18\",\" Never-worked\\u002f18\",\" Private\\u002f18\",\" Self-emp-inc\\u002f18\",\" Self-emp-not-inc\\u002f18\",\" State-gov\\u002f18\",\" ?\\u002f19\",\" Federal-gov\\u002f19\",\" Local-gov\\u002f19\",\" Private\\u002f19\",\" Self-emp-inc\\u002f19\",\" Self-emp-not-inc\\u002f19\",\" State-gov\\u002f19\",\" Without-pay\\u002f19\",\" ?\\u002f20\",\" Federal-gov\\u002f20\",\" Local-gov\\u002f20\",\" Never-worked\\u002f20\",\" Private\\u002f20\",\" Self-emp-inc\\u002f20\",\" Self-emp-not-inc\\u002f20\",\" State-gov\\u002f20\",\" ?\\u002f21\",\" Federal-gov\\u002f21\",\" Local-gov\\u002f21\",\" Private\\u002f21\",\" Self-emp-inc\\u002f21\",\" Self-emp-not-inc\\u002f21\",\" State-gov\\u002f21\",\" Without-pay\\u002f21\",\" ?\\u002f22\",\" Federal-gov\\u002f22\",\" Local-gov\\u002f22\",\" Private\\u002f22\",\" Self-emp-inc\\u002f22\",\" Self-emp-not-inc\\u002f22\",\" State-gov\\u002f22\",\" Without-pay\\u002f22\",\" ?\\u002f23\",\" Federal-gov\\u002f23\",\" Local-gov\\u002f23\",\" Never-worked\\u002f23\",\" Private\\u002f23\",\" Self-emp-inc\\u002f23\",\" Self-emp-not-inc\\u002f23\",\" State-gov\\u002f23\",\" ?\\u002f24\",\" Federal-gov\\u002f24\",\" Local-gov\\u002f24\",\" Private\\u002f24\",\" Self-emp-inc\\u002f24\",\" Self-emp-not-inc\\u002f24\",\" State-gov\\u002f24\",\" ?\\u002f25\",\" Federal-gov\\u002f25\",\" Local-gov\\u002f25\",\" Private\\u002f25\",\" Self-emp-inc\\u002f25\",\" Self-emp-not-inc\\u002f25\",\" State-gov\\u002f25\",\" ?\\u002f26\",\" Federal-gov\\u002f26\",\" Local-gov\\u002f26\",\" Private\\u002f26\",\" Self-emp-inc\\u002f26\",\" Self-emp-not-inc\\u002f26\",\" State-gov\\u002f26\",\" ?\\u002f27\",\" Federal-gov\\u002f27\",\" Local-gov\\u002f27\",\" Private\\u002f27\",\" Self-emp-inc\\u002f27\",\" Self-emp-not-inc\\u002f27\",\" State-gov\\u002f27\",\" ?\\u002f28\",\" Federal-gov\\u002f28\",\" Local-gov\\u002f28\",\" Private\\u002f28\",\" Self-emp-inc\\u002f28\",\" Self-emp-not-inc\\u002f28\",\" State-gov\\u002f28\",\" ?\\u002f29\",\" Federal-gov\\u002f29\",\" Local-gov\\u002f29\",\" Private\\u002f29\",\" Self-emp-inc\\u002f29\",\" Self-emp-not-inc\\u002f29\",\" State-gov\\u002f29\",\" Without-pay\\u002f29\",\" ?\\u002f30\",\" Federal-gov\\u002f30\",\" Local-gov\\u002f30\",\" Never-worked\\u002f30\",\" Private\\u002f30\",\" Self-emp-inc\\u002f30\",\" Self-emp-not-inc\\u002f30\",\" State-gov\\u002f30\",\" ?\\u002f31\",\" Federal-gov\\u002f31\",\" Local-gov\\u002f31\",\" Private\\u002f31\",\" Self-emp-inc\\u002f31\",\" Self-emp-not-inc\\u002f31\",\" State-gov\\u002f31\",\" ?\\u002f32\",\" Federal-gov\\u002f32\",\" Local-gov\\u002f32\",\" Private\\u002f32\",\" Self-emp-inc\\u002f32\",\" Self-emp-not-inc\\u002f32\",\" State-gov\\u002f32\",\" ?\\u002f33\",\" Federal-gov\\u002f33\",\" Local-gov\\u002f33\",\" Private\\u002f33\",\" Self-emp-inc\\u002f33\",\" Self-emp-not-inc\\u002f33\",\" State-gov\\u002f33\",\" ?\\u002f34\",\" Federal-gov\\u002f34\",\" Local-gov\\u002f34\",\" Private\\u002f34\",\" Self-emp-inc\\u002f34\",\" Self-emp-not-inc\\u002f34\",\" State-gov\\u002f34\",\" ?\\u002f35\",\" Federal-gov\\u002f35\",\" Local-gov\\u002f35\",\" Private\\u002f35\",\" Self-emp-inc\\u002f35\",\" Self-emp-not-inc\\u002f35\",\" State-gov\\u002f35\",\" ?\\u002f36\",\" Federal-gov\\u002f36\",\" Local-gov\\u002f36\",\" Private\\u002f36\",\" Self-emp-inc\\u002f36\",\" Self-emp-not-inc\\u002f36\",\" State-gov\\u002f36\",\" ?\\u002f37\",\" Federal-gov\\u002f37\",\" Local-gov\\u002f37\",\" Private\\u002f37\",\" Self-emp-inc\\u002f37\",\" Self-emp-not-inc\\u002f37\",\" State-gov\\u002f37\",\" ?\\u002f38\",\" Federal-gov\\u002f38\",\" Local-gov\\u002f38\",\" Private\\u002f38\",\" Self-emp-inc\\u002f38\",\" Self-emp-not-inc\\u002f38\",\" State-gov\\u002f38\",\" ?\\u002f39\",\" Federal-gov\\u002f39\",\" Local-gov\\u002f39\",\" Private\\u002f39\",\" Self-emp-inc\\u002f39\",\" Self-emp-not-inc\\u002f39\",\" State-gov\\u002f39\",\" ?\\u002f40\",\" Federal-gov\\u002f40\",\" Local-gov\\u002f40\",\" Private\\u002f40\",\" Self-emp-inc\\u002f40\",\" Self-emp-not-inc\\u002f40\",\" State-gov\\u002f40\",\" ?\\u002f41\",\" Federal-gov\\u002f41\",\" Local-gov\\u002f41\",\" Private\\u002f41\",\" Self-emp-inc\\u002f41\",\" Self-emp-not-inc\\u002f41\",\" State-gov\\u002f41\",\" ?\\u002f42\",\" Federal-gov\\u002f42\",\" Local-gov\\u002f42\",\" Private\\u002f42\",\" Self-emp-inc\\u002f42\",\" Self-emp-not-inc\\u002f42\",\" State-gov\\u002f42\",\" ?\\u002f43\",\" Federal-gov\\u002f43\",\" Local-gov\\u002f43\",\" Private\\u002f43\",\" Self-emp-inc\\u002f43\",\" Self-emp-not-inc\\u002f43\",\" State-gov\\u002f43\",\" ?\\u002f44\",\" Federal-gov\\u002f44\",\" Local-gov\\u002f44\",\" Private\\u002f44\",\" Self-emp-inc\\u002f44\",\" Self-emp-not-inc\\u002f44\",\" State-gov\\u002f44\",\" ?\\u002f45\",\" Federal-gov\\u002f45\",\" Local-gov\\u002f45\",\" Private\\u002f45\",\" Self-emp-inc\\u002f45\",\" Self-emp-not-inc\\u002f45\",\" State-gov\\u002f45\",\" ?\\u002f46\",\" Federal-gov\\u002f46\",\" Local-gov\\u002f46\",\" Private\\u002f46\",\" Self-emp-inc\\u002f46\",\" Self-emp-not-inc\\u002f46\",\" State-gov\\u002f46\",\" Without-pay\\u002f46\",\" ?\\u002f47\",\" Federal-gov\\u002f47\",\" Local-gov\\u002f47\",\" Private\\u002f47\",\" Self-emp-inc\\u002f47\",\" Self-emp-not-inc\\u002f47\",\" State-gov\\u002f47\",\" ?\\u002f48\",\" Federal-gov\\u002f48\",\" Local-gov\\u002f48\",\" Private\\u002f48\",\" Self-emp-inc\\u002f48\",\" Self-emp-not-inc\\u002f48\",\" State-gov\\u002f48\",\" ?\\u002f49\",\" Federal-gov\\u002f49\",\" Local-gov\\u002f49\",\" Private\\u002f49\",\" Self-emp-inc\\u002f49\",\" Self-emp-not-inc\\u002f49\",\" State-gov\\u002f49\",\" ?\\u002f50\",\" Federal-gov\\u002f50\",\" Local-gov\\u002f50\",\" Private\\u002f50\",\" Self-emp-inc\\u002f50\",\" Self-emp-not-inc\\u002f50\",\" State-gov\\u002f50\",\" ?\\u002f51\",\" Federal-gov\\u002f51\",\" Local-gov\\u002f51\",\" Private\\u002f51\",\" Self-emp-inc\\u002f51\",\" Self-emp-not-inc\\u002f51\",\" State-gov\\u002f51\",\" ?\\u002f52\",\" Federal-gov\\u002f52\",\" Local-gov\\u002f52\",\" Private\\u002f52\",\" Self-emp-inc\\u002f52\",\" Self-emp-not-inc\\u002f52\",\" State-gov\\u002f52\",\" Without-pay\\u002f52\",\" ?\\u002f53\",\" Federal-gov\\u002f53\",\" Local-gov\\u002f53\",\" Private\\u002f53\",\" Self-emp-inc\\u002f53\",\" Self-emp-not-inc\\u002f53\",\" State-gov\\u002f53\",\" ?\\u002f54\",\" Federal-gov\\u002f54\",\" Local-gov\\u002f54\",\" Private\\u002f54\",\" Self-emp-inc\\u002f54\",\" Self-emp-not-inc\\u002f54\",\" State-gov\\u002f54\",\" ?\\u002f55\",\" Federal-gov\\u002f55\",\" Local-gov\\u002f55\",\" Private\\u002f55\",\" Self-emp-inc\\u002f55\",\" Self-emp-not-inc\\u002f55\",\" State-gov\\u002f55\",\" ?\\u002f56\",\" Federal-gov\\u002f56\",\" Local-gov\\u002f56\",\" Private\\u002f56\",\" Self-emp-inc\\u002f56\",\" Self-emp-not-inc\\u002f56\",\" State-gov\\u002f56\",\" ?\\u002f57\",\" Federal-gov\\u002f57\",\" Local-gov\\u002f57\",\" Private\\u002f57\",\" Self-emp-inc\\u002f57\",\" Self-emp-not-inc\\u002f57\",\" State-gov\\u002f57\",\" ?\\u002f58\",\" Federal-gov\\u002f58\",\" Local-gov\\u002f58\",\" Private\\u002f58\",\" Self-emp-inc\\u002f58\",\" Self-emp-not-inc\\u002f58\",\" State-gov\\u002f58\",\" ?\\u002f59\",\" Federal-gov\\u002f59\",\" Local-gov\\u002f59\",\" Private\\u002f59\",\" Self-emp-inc\\u002f59\",\" Self-emp-not-inc\\u002f59\",\" State-gov\\u002f59\",\" ?\\u002f60\",\" Federal-gov\\u002f60\",\" Local-gov\\u002f60\",\" Private\\u002f60\",\" Self-emp-inc\\u002f60\",\" Self-emp-not-inc\\u002f60\",\" State-gov\\u002f60\",\" ?\\u002f61\",\" Federal-gov\\u002f61\",\" Local-gov\\u002f61\",\" Private\\u002f61\",\" Self-emp-inc\\u002f61\",\" Self-emp-not-inc\\u002f61\",\" State-gov\\u002f61\",\" ?\\u002f62\",\" Federal-gov\\u002f62\",\" Local-gov\\u002f62\",\" Private\\u002f62\",\" Self-emp-inc\\u002f62\",\" Self-emp-not-inc\\u002f62\",\" State-gov\\u002f62\",\" Without-pay\\u002f62\",\" ?\\u002f63\",\" Federal-gov\\u002f63\",\" Local-gov\\u002f63\",\" Private\\u002f63\",\" Self-emp-inc\\u002f63\",\" Self-emp-not-inc\\u002f63\",\" State-gov\\u002f63\",\" ?\\u002f64\",\" Federal-gov\\u002f64\",\" Local-gov\\u002f64\",\" Private\\u002f64\",\" Self-emp-inc\\u002f64\",\" Self-emp-not-inc\\u002f64\",\" State-gov\\u002f64\",\" ?\\u002f65\",\" Federal-gov\\u002f65\",\" Local-gov\\u002f65\",\" Private\\u002f65\",\" Self-emp-inc\\u002f65\",\" Self-emp-not-inc\\u002f65\",\" State-gov\\u002f65\",\" Without-pay\\u002f65\",\" ?\\u002f66\",\" Federal-gov\\u002f66\",\" Local-gov\\u002f66\",\" Private\\u002f66\",\" Self-emp-inc\\u002f66\",\" Self-emp-not-inc\\u002f66\",\" State-gov\\u002f66\",\" ?\\u002f67\",\" Federal-gov\\u002f67\",\" Local-gov\\u002f67\",\" Private\\u002f67\",\" Self-emp-inc\\u002f67\",\" Self-emp-not-inc\\u002f67\",\" State-gov\\u002f67\",\" Without-pay\\u002f67\",\" ?\\u002f68\",\" Federal-gov\\u002f68\",\" Local-gov\\u002f68\",\" Private\\u002f68\",\" Self-emp-inc\\u002f68\",\" Self-emp-not-inc\\u002f68\",\" State-gov\\u002f68\",\" Without-pay\\u002f68\",\" ?\\u002f69\",\" Federal-gov\\u002f69\",\" Local-gov\\u002f69\",\" Private\\u002f69\",\" Self-emp-inc\\u002f69\",\" Self-emp-not-inc\\u002f69\",\" State-gov\\u002f69\",\" ?\\u002f70\",\" Federal-gov\\u002f70\",\" Local-gov\\u002f70\",\" Private\\u002f70\",\" Self-emp-inc\\u002f70\",\" Self-emp-not-inc\\u002f70\",\" State-gov\\u002f70\",\" ?\\u002f71\",\" Federal-gov\\u002f71\",\" Local-gov\\u002f71\",\" Private\\u002f71\",\" Self-emp-inc\\u002f71\",\" Self-emp-not-inc\\u002f71\",\" State-gov\\u002f71\",\" ?\\u002f72\",\" Federal-gov\\u002f72\",\" Local-gov\\u002f72\",\" Private\\u002f72\",\" Self-emp-inc\\u002f72\",\" Self-emp-not-inc\\u002f72\",\" Without-pay\\u002f72\",\" ?\\u002f73\",\" Federal-gov\\u002f73\",\" Local-gov\\u002f73\",\" Private\\u002f73\",\" Self-emp-inc\\u002f73\",\" Self-emp-not-inc\\u002f73\",\" State-gov\\u002f73\",\" ?\\u002f74\",\" Federal-gov\\u002f74\",\" Private\\u002f74\",\" Self-emp-inc\\u002f74\",\" Self-emp-not-inc\\u002f74\",\" State-gov\\u002f74\",\" ?\\u002f75\",\" Local-gov\\u002f75\",\" Private\\u002f75\",\" Self-emp-inc\\u002f75\",\" Self-emp-not-inc\\u002f75\",\" State-gov\\u002f75\",\" ?\\u002f76\",\" Federal-gov\\u002f76\",\" Local-gov\\u002f76\",\" Private\\u002f76\",\" Self-emp-inc\\u002f76\",\" Self-emp-not-inc\\u002f76\",\" ?\\u002f77\",\" Local-gov\\u002f77\",\" Private\\u002f77\",\" Self-emp-inc\\u002f77\",\" Self-emp-not-inc\\u002f77\",\" ?\\u002f78\",\" Local-gov\\u002f78\",\" Private\\u002f78\",\" Self-emp-inc\\u002f78\",\" Self-emp-not-inc\\u002f78\",\" ?\\u002f79\",\" Federal-gov\\u002f79\",\" Local-gov\\u002f79\",\" Private\\u002f79\",\" Self-emp-inc\\u002f79\",\" Self-emp-not-inc\\u002f79\",\" ?\\u002f80\",\" Local-gov\\u002f80\",\" Private\\u002f80\",\" Self-emp-not-inc\\u002f80\",\" ?\\u002f81\",\" Private\\u002f81\",\" Self-emp-inc\\u002f81\",\" Self-emp-not-inc\\u002f81\",\" State-gov\\u002f81\",\" ?\\u002f82\",\" Private\\u002f82\",\" Self-emp-inc\\u002f82\",\" Self-emp-not-inc\\u002f82\",\" ?\\u002f83\",\" Private\\u002f83\",\" Self-emp-inc\\u002f83\",\" Self-emp-not-inc\\u002f83\",\" ?\\u002f84\",\" Local-gov\\u002f84\",\" Private\\u002f84\",\" Self-emp-inc\\u002f84\",\" Self-emp-not-inc\\u002f84\",\" Private\\u002f85\",\" Self-emp-not-inc\\u002f85\",\" Private\\u002f86\",\" ?\\u002f87\",\" Private\\u002f88\",\" Self-emp-not-inc\\u002f88\",\" ?\\u002f90\",\" Federal-gov\\u002f90\",\" Local-gov\\u002f90\",\" Private\\u002f90\",\" Self-emp-not-inc\\u002f90\",\" ?\",\" Federal-gov\",\" Local-gov\",\" Never-worked\",\" Private\",\" Self-emp-inc\",\" Self-emp-not-inc\",\" State-gov\",\" Without-pay\"],\"labels\":[\" Amer-Indian-Eskimo\",\" Amer-Indian-Eskimo\",\" Amer-Indian-Eskimo\",\" Amer-Indian-Eskimo\",\" Amer-Indian-Eskimo\",\" Amer-Indian-Eskimo\",\" Amer-Indian-Eskimo\",\" Amer-Indian-Eskimo\",\" Amer-Indian-Eskimo\",\" Amer-Indian-Eskimo\",\" Amer-Indian-Eskimo\",\" Amer-Indian-Eskimo\",\" Amer-Indian-Eskimo\",\" Amer-Indian-Eskimo\",\" Amer-Indian-Eskimo\",\" Amer-Indian-Eskimo\",\" Amer-Indian-Eskimo\",\" Amer-Indian-Eskimo\",\" Amer-Indian-Eskimo\",\" Amer-Indian-Eskimo\",\" Amer-Indian-Eskimo\",\" Amer-Indian-Eskimo\",\" Amer-Indian-Eskimo\",\" Amer-Indian-Eskimo\",\" Amer-Indian-Eskimo\",\" Amer-Indian-Eskimo\",\" Amer-Indian-Eskimo\",\" Amer-Indian-Eskimo\",\" Amer-Indian-Eskimo\",\" Amer-Indian-Eskimo\",\" Amer-Indian-Eskimo\",\" Amer-Indian-Eskimo\",\" Amer-Indian-Eskimo\",\" Amer-Indian-Eskimo\",\" Amer-Indian-Eskimo\",\" Amer-Indian-Eskimo\",\" Amer-Indian-Eskimo\",\" Amer-Indian-Eskimo\",\" Amer-Indian-Eskimo\",\" Amer-Indian-Eskimo\",\" Amer-Indian-Eskimo\",\" Amer-Indian-Eskimo\",\" Amer-Indian-Eskimo\",\" Amer-Indian-Eskimo\",\" Amer-Indian-Eskimo\",\" Amer-Indian-Eskimo\",\" Amer-Indian-Eskimo\",\" Amer-Indian-Eskimo\",\" Amer-Indian-Eskimo\",\" Amer-Indian-Eskimo\",\" Amer-Indian-Eskimo\",\" Amer-Indian-Eskimo\",\" Amer-Indian-Eskimo\",\" Amer-Indian-Eskimo\",\" Amer-Indian-Eskimo\",\" Amer-Indian-Eskimo\",\" Amer-Indian-Eskimo\",\" Amer-Indian-Eskimo\",\" Amer-Indian-Eskimo\",\" Amer-Indian-Eskimo\",\" Amer-Indian-Eskimo\",\" Amer-Indian-Eskimo\",\" Amer-Indian-Eskimo\",\" Amer-Indian-Eskimo\",\" Amer-Indian-Eskimo\",\" Amer-Indian-Eskimo\",\" Amer-Indian-Eskimo\",\" Amer-Indian-Eskimo\",\" Amer-Indian-Eskimo\",\" Amer-Indian-Eskimo\",\" Amer-Indian-Eskimo\",\" Amer-Indian-Eskimo\",\" Amer-Indian-Eskimo\",\" Amer-Indian-Eskimo\",\" Amer-Indian-Eskimo\",\" Amer-Indian-Eskimo\",\" Amer-Indian-Eskimo\",\" Amer-Indian-Eskimo\",\" Amer-Indian-Eskimo\",\" Amer-Indian-Eskimo\",\" Amer-Indian-Eskimo\",\" Amer-Indian-Eskimo\",\" Amer-Indian-Eskimo\",\" Amer-Indian-Eskimo\",\" Amer-Indian-Eskimo\",\" Amer-Indian-Eskimo\",\" Amer-Indian-Eskimo\",\" Amer-Indian-Eskimo\",\" Amer-Indian-Eskimo\",\" Amer-Indian-Eskimo\",\" Amer-Indian-Eskimo\",\" Amer-Indian-Eskimo\",\" Amer-Indian-Eskimo\",\" Amer-Indian-Eskimo\",\" Amer-Indian-Eskimo\",\" Amer-Indian-Eskimo\",\" Amer-Indian-Eskimo\",\" Amer-Indian-Eskimo\",\" Amer-Indian-Eskimo\",\" Amer-Indian-Eskimo\",\" Amer-Indian-Eskimo\",\" Amer-Indian-Eskimo\",\" Amer-Indian-Eskimo\",\" Amer-Indian-Eskimo\",\" Amer-Indian-Eskimo\",\" Amer-Indian-Eskimo\",\" Amer-Indian-Eskimo\",\" Amer-Indian-Eskimo\",\" Amer-Indian-Eskimo\",\" Amer-Indian-Eskimo\",\" Amer-Indian-Eskimo\",\" Amer-Indian-Eskimo\",\" Amer-Indian-Eskimo\",\" Amer-Indian-Eskimo\",\" Amer-Indian-Eskimo\",\" Amer-Indian-Eskimo\",\" Amer-Indian-Eskimo\",\" Amer-Indian-Eskimo\",\" Amer-Indian-Eskimo\",\" Amer-Indian-Eskimo\",\" Amer-Indian-Eskimo\",\" Amer-Indian-Eskimo\",\" Amer-Indian-Eskimo\",\" Amer-Indian-Eskimo\",\" Amer-Indian-Eskimo\",\" Amer-Indian-Eskimo\",\" Amer-Indian-Eskimo\",\" Amer-Indian-Eskimo\",\" Amer-Indian-Eskimo\",\" Amer-Indian-Eskimo\",\" Amer-Indian-Eskimo\",\" Amer-Indian-Eskimo\",\" Amer-Indian-Eskimo\",\" Amer-Indian-Eskimo\",\" Amer-Indian-Eskimo\",\" Amer-Indian-Eskimo\",\" Amer-Indian-Eskimo\",\" Amer-Indian-Eskimo\",\" Amer-Indian-Eskimo\",\" Amer-Indian-Eskimo\",\" Amer-Indian-Eskimo\",\" Amer-Indian-Eskimo\",\" Asian-Pac-Islander\",\" Asian-Pac-Islander\",\" Asian-Pac-Islander\",\" Asian-Pac-Islander\",\" Asian-Pac-Islander\",\" Asian-Pac-Islander\",\" Asian-Pac-Islander\",\" Asian-Pac-Islander\",\" Asian-Pac-Islander\",\" Asian-Pac-Islander\",\" Asian-Pac-Islander\",\" Asian-Pac-Islander\",\" Asian-Pac-Islander\",\" Asian-Pac-Islander\",\" Asian-Pac-Islander\",\" Asian-Pac-Islander\",\" Asian-Pac-Islander\",\" Asian-Pac-Islander\",\" Asian-Pac-Islander\",\" Asian-Pac-Islander\",\" Asian-Pac-Islander\",\" Asian-Pac-Islander\",\" Asian-Pac-Islander\",\" Asian-Pac-Islander\",\" Asian-Pac-Islander\",\" Asian-Pac-Islander\",\" Asian-Pac-Islander\",\" Asian-Pac-Islander\",\" Asian-Pac-Islander\",\" Asian-Pac-Islander\",\" Asian-Pac-Islander\",\" Asian-Pac-Islander\",\" Asian-Pac-Islander\",\" Asian-Pac-Islander\",\" Asian-Pac-Islander\",\" Asian-Pac-Islander\",\" Asian-Pac-Islander\",\" Asian-Pac-Islander\",\" Asian-Pac-Islander\",\" Asian-Pac-Islander\",\" Asian-Pac-Islander\",\" Asian-Pac-Islander\",\" Asian-Pac-Islander\",\" Asian-Pac-Islander\",\" Asian-Pac-Islander\",\" Asian-Pac-Islander\",\" Asian-Pac-Islander\",\" Asian-Pac-Islander\",\" Asian-Pac-Islander\",\" Asian-Pac-Islander\",\" Asian-Pac-Islander\",\" Asian-Pac-Islander\",\" Asian-Pac-Islander\",\" Asian-Pac-Islander\",\" Asian-Pac-Islander\",\" Asian-Pac-Islander\",\" Asian-Pac-Islander\",\" Asian-Pac-Islander\",\" Asian-Pac-Islander\",\" Asian-Pac-Islander\",\" Asian-Pac-Islander\",\" Asian-Pac-Islander\",\" Asian-Pac-Islander\",\" Asian-Pac-Islander\",\" Asian-Pac-Islander\",\" Asian-Pac-Islander\",\" Asian-Pac-Islander\",\" Asian-Pac-Islander\",\" Asian-Pac-Islander\",\" Asian-Pac-Islander\",\" Asian-Pac-Islander\",\" Asian-Pac-Islander\",\" Asian-Pac-Islander\",\" Asian-Pac-Islander\",\" Asian-Pac-Islander\",\" Asian-Pac-Islander\",\" Asian-Pac-Islander\",\" Asian-Pac-Islander\",\" Asian-Pac-Islander\",\" Asian-Pac-Islander\",\" Asian-Pac-Islander\",\" Asian-Pac-Islander\",\" Asian-Pac-Islander\",\" Asian-Pac-Islander\",\" Asian-Pac-Islander\",\" Asian-Pac-Islander\",\" Asian-Pac-Islander\",\" Asian-Pac-Islander\",\" Asian-Pac-Islander\",\" Asian-Pac-Islander\",\" Asian-Pac-Islander\",\" Asian-Pac-Islander\",\" Asian-Pac-Islander\",\" Asian-Pac-Islander\",\" Asian-Pac-Islander\",\" Asian-Pac-Islander\",\" Asian-Pac-Islander\",\" Asian-Pac-Islander\",\" Asian-Pac-Islander\",\" Asian-Pac-Islander\",\" Asian-Pac-Islander\",\" Asian-Pac-Islander\",\" Asian-Pac-Islander\",\" Asian-Pac-Islander\",\" Asian-Pac-Islander\",\" Asian-Pac-Islander\",\" Asian-Pac-Islander\",\" Asian-Pac-Islander\",\" Asian-Pac-Islander\",\" Asian-Pac-Islander\",\" Asian-Pac-Islander\",\" Asian-Pac-Islander\",\" Asian-Pac-Islander\",\" Asian-Pac-Islander\",\" Asian-Pac-Islander\",\" Asian-Pac-Islander\",\" Asian-Pac-Islander\",\" Asian-Pac-Islander\",\" Asian-Pac-Islander\",\" Asian-Pac-Islander\",\" Asian-Pac-Islander\",\" Asian-Pac-Islander\",\" Asian-Pac-Islander\",\" Asian-Pac-Islander\",\" Asian-Pac-Islander\",\" Asian-Pac-Islander\",\" Asian-Pac-Islander\",\" Asian-Pac-Islander\",\" Asian-Pac-Islander\",\" Asian-Pac-Islander\",\" Asian-Pac-Islander\",\" Asian-Pac-Islander\",\" Asian-Pac-Islander\",\" Asian-Pac-Islander\",\" Asian-Pac-Islander\",\" Asian-Pac-Islander\",\" Asian-Pac-Islander\",\" Asian-Pac-Islander\",\" Asian-Pac-Islander\",\" Asian-Pac-Islander\",\" Asian-Pac-Islander\",\" Asian-Pac-Islander\",\" Asian-Pac-Islander\",\" Asian-Pac-Islander\",\" Asian-Pac-Islander\",\" Asian-Pac-Islander\",\" Asian-Pac-Islander\",\" Asian-Pac-Islander\",\" Asian-Pac-Islander\",\" Asian-Pac-Islander\",\" Asian-Pac-Islander\",\" Asian-Pac-Islander\",\" Asian-Pac-Islander\",\" Asian-Pac-Islander\",\" Asian-Pac-Islander\",\" Asian-Pac-Islander\",\" Asian-Pac-Islander\",\" Asian-Pac-Islander\",\" Asian-Pac-Islander\",\" Asian-Pac-Islander\",\" Asian-Pac-Islander\",\" Asian-Pac-Islander\",\" Asian-Pac-Islander\",\" Asian-Pac-Islander\",\" Asian-Pac-Islander\",\" Asian-Pac-Islander\",\" Asian-Pac-Islander\",\" Asian-Pac-Islander\",\" Asian-Pac-Islander\",\" Asian-Pac-Islander\",\" Asian-Pac-Islander\",\" Asian-Pac-Islander\",\" Asian-Pac-Islander\",\" Asian-Pac-Islander\",\" Asian-Pac-Islander\",\" Asian-Pac-Islander\",\" Asian-Pac-Islander\",\" Asian-Pac-Islander\",\" Asian-Pac-Islander\",\" Asian-Pac-Islander\",\" Asian-Pac-Islander\",\" Asian-Pac-Islander\",\" Asian-Pac-Islander\",\" Asian-Pac-Islander\",\" Asian-Pac-Islander\",\" Asian-Pac-Islander\",\" Asian-Pac-Islander\",\" Asian-Pac-Islander\",\" Asian-Pac-Islander\",\" Asian-Pac-Islander\",\" Asian-Pac-Islander\",\" Asian-Pac-Islander\",\" Asian-Pac-Islander\",\" Asian-Pac-Islander\",\" Asian-Pac-Islander\",\" Asian-Pac-Islander\",\" Asian-Pac-Islander\",\" Asian-Pac-Islander\",\" Asian-Pac-Islander\",\" Asian-Pac-Islander\",\" Asian-Pac-Islander\",\" Asian-Pac-Islander\",\" Asian-Pac-Islander\",\" Asian-Pac-Islander\",\" Asian-Pac-Islander\",\" Asian-Pac-Islander\",\" Asian-Pac-Islander\",\" Asian-Pac-Islander\",\" Asian-Pac-Islander\",\" Asian-Pac-Islander\",\" Asian-Pac-Islander\",\" Asian-Pac-Islander\",\" Asian-Pac-Islander\",\" Asian-Pac-Islander\",\" Asian-Pac-Islander\",\" Asian-Pac-Islander\",\" Asian-Pac-Islander\",\" Asian-Pac-Islander\",\" Asian-Pac-Islander\",\" Asian-Pac-Islander\",\" Asian-Pac-Islander\",\" Asian-Pac-Islander\",\" Asian-Pac-Islander\",\" Asian-Pac-Islander\",\" Asian-Pac-Islander\",\" Asian-Pac-Islander\",\" Asian-Pac-Islander\",\" Asian-Pac-Islander\",\" Asian-Pac-Islander\",\" Asian-Pac-Islander\",\" Asian-Pac-Islander\",\" Asian-Pac-Islander\",\" Asian-Pac-Islander\",\" Asian-Pac-Islander\",\" Asian-Pac-Islander\",\" Asian-Pac-Islander\",\" Asian-Pac-Islander\",\" Asian-Pac-Islander\",\" Asian-Pac-Islander\",\" Asian-Pac-Islander\",\" Asian-Pac-Islander\",\" Asian-Pac-Islander\",\" Asian-Pac-Islander\",\" Asian-Pac-Islander\",\" Asian-Pac-Islander\",\" Asian-Pac-Islander\",\" Asian-Pac-Islander\",\" Asian-Pac-Islander\",\" Asian-Pac-Islander\",\" Asian-Pac-Islander\",\" Asian-Pac-Islander\",\" Black\",\" Black\",\" Black\",\" Black\",\" Black\",\" Black\",\" Black\",\" Black\",\" Black\",\" Black\",\" Black\",\" Black\",\" Black\",\" Black\",\" Black\",\" Black\",\" Black\",\" Black\",\" Black\",\" Black\",\" Black\",\" Black\",\" Black\",\" Black\",\" Black\",\" Black\",\" Black\",\" Black\",\" Black\",\" Black\",\" Black\",\" Black\",\" Black\",\" Black\",\" Black\",\" Black\",\" Black\",\" Black\",\" Black\",\" Black\",\" Black\",\" Black\",\" Black\",\" Black\",\" Black\",\" Black\",\" Black\",\" Black\",\" Black\",\" Black\",\" Black\",\" Black\",\" Black\",\" Black\",\" Black\",\" Black\",\" Black\",\" Black\",\" Black\",\" Black\",\" Black\",\" Black\",\" Black\",\" Black\",\" Black\",\" Black\",\" Black\",\" Black\",\" Black\",\" Black\",\" Black\",\" Black\",\" Black\",\" Black\",\" Black\",\" Black\",\" Black\",\" Black\",\" Black\",\" Black\",\" Black\",\" Black\",\" Black\",\" Black\",\" Black\",\" Black\",\" Black\",\" Black\",\" Black\",\" Black\",\" Black\",\" Black\",\" Black\",\" Black\",\" Black\",\" Black\",\" Black\",\" Black\",\" Black\",\" Black\",\" Black\",\" Black\",\" Black\",\" Black\",\" Black\",\" Black\",\" Black\",\" Black\",\" Black\",\" Black\",\" Black\",\" Black\",\" Black\",\" Black\",\" Black\",\" Black\",\" Black\",\" Black\",\" Black\",\" Black\",\" Black\",\" Black\",\" Black\",\" Black\",\" Black\",\" Black\",\" Black\",\" Black\",\" Black\",\" Black\",\" Black\",\" Black\",\" Black\",\" Black\",\" Black\",\" Black\",\" Black\",\" Black\",\" Black\",\" Black\",\" Black\",\" Black\",\" Black\",\" Black\",\" Black\",\" Black\",\" Black\",\" Black\",\" Black\",\" Black\",\" Black\",\" Black\",\" Black\",\" Black\",\" Black\",\" Black\",\" Black\",\" Black\",\" Black\",\" Black\",\" Black\",\" Black\",\" Black\",\" Black\",\" Black\",\" Black\",\" Black\",\" Black\",\" Black\",\" Black\",\" Black\",\" Black\",\" Black\",\" Black\",\" Black\",\" Black\",\" Black\",\" Black\",\" Black\",\" Black\",\" Black\",\" Black\",\" Black\",\" Black\",\" Black\",\" Black\",\" Black\",\" Black\",\" Black\",\" Black\",\" Black\",\" Black\",\" Black\",\" Black\",\" Black\",\" Black\",\" Black\",\" Black\",\" Black\",\" Black\",\" Black\",\" Black\",\" Black\",\" Black\",\" Black\",\" Black\",\" Black\",\" Black\",\" Black\",\" Black\",\" Black\",\" Black\",\" Black\",\" Black\",\" Black\",\" Black\",\" Black\",\" Black\",\" Black\",\" Black\",\" Black\",\" Black\",\" Black\",\" Black\",\" Black\",\" Black\",\" Black\",\" Black\",\" Black\",\" Black\",\" Black\",\" Black\",\" Black\",\" Black\",\" Black\",\" Black\",\" Black\",\" Black\",\" Black\",\" Black\",\" Black\",\" Black\",\" Black\",\" Black\",\" Black\",\" Black\",\" Black\",\" Black\",\" Black\",\" Black\",\" Black\",\" Black\",\" Black\",\" Black\",\" Black\",\" Black\",\" Black\",\" Black\",\" Black\",\" Black\",\" Black\",\" Black\",\" Black\",\" Black\",\" Black\",\" Black\",\" Black\",\" Black\",\" Black\",\" Black\",\" Black\",\" Black\",\" Black\",\" Black\",\" Black\",\" Black\",\" Black\",\" Black\",\" Black\",\" Black\",\" Black\",\" Black\",\" Black\",\" Black\",\" Black\",\" Black\",\" Black\",\" Black\",\" Black\",\" Black\",\" Black\",\" Black\",\" Black\",\" Black\",\" Black\",\" Black\",\" Black\",\" Black\",\" Black\",\" Black\",\" Black\",\" Black\",\" Black\",\" Black\",\" Black\",\" Black\",\" Black\",\" Black\",\" Black\",\" Black\",\" Black\",\" Black\",\" Black\",\" Black\",\" Black\",\" Black\",\" Black\",\" Black\",\" Black\",\" Black\",\" Black\",\" Black\",\" Black\",\" Black\",\" Black\",\" Black\",\" Black\",\" Other\",\" Other\",\" Other\",\" Other\",\" Other\",\" Other\",\" Other\",\" Other\",\" Other\",\" Other\",\" Other\",\" Other\",\" Other\",\" Other\",\" Other\",\" Other\",\" Other\",\" Other\",\" Other\",\" Other\",\" Other\",\" Other\",\" Other\",\" Other\",\" Other\",\" Other\",\" Other\",\" Other\",\" Other\",\" Other\",\" Other\",\" Other\",\" Other\",\" Other\",\" Other\",\" Other\",\" Other\",\" Other\",\" Other\",\" Other\",\" Other\",\" Other\",\" Other\",\" Other\",\" Other\",\" Other\",\" Other\",\" Other\",\" Other\",\" Other\",\" Other\",\" Other\",\" Other\",\" Other\",\" Other\",\" Other\",\" Other\",\" Other\",\" Other\",\" Other\",\" Other\",\" Other\",\" Other\",\" Other\",\" Other\",\" Other\",\" Other\",\" Other\",\" Other\",\" Other\",\" Other\",\" Other\",\" Other\",\" Other\",\" Other\",\" Other\",\" Other\",\" Other\",\" Other\",\" Other\",\" Other\",\" Other\",\" Other\",\" Other\",\" Other\",\" Other\",\" Other\",\" Other\",\" Other\",\" Other\",\" Other\",\" Other\",\" Other\",\" White\",\" White\",\" White\",\" White\",\" White\",\" White\",\" White\",\" White\",\" White\",\" White\",\" White\",\" White\",\" White\",\" White\",\" White\",\" White\",\" White\",\" White\",\" White\",\" White\",\" White\",\" White\",\" White\",\" White\",\" White\",\" White\",\" White\",\" White\",\" White\",\" White\",\" White\",\" White\",\" White\",\" White\",\" White\",\" White\",\" White\",\" White\",\" White\",\" White\",\" White\",\" White\",\" White\",\" White\",\" White\",\" White\",\" White\",\" White\",\" White\",\" White\",\" White\",\" White\",\" White\",\" White\",\" White\",\" White\",\" White\",\" White\",\" White\",\" White\",\" White\",\" White\",\" White\",\" White\",\" White\",\" White\",\" White\",\" White\",\" White\",\" White\",\" White\",\" White\",\" White\",\" White\",\" White\",\" White\",\" White\",\" White\",\" White\",\" White\",\" White\",\" White\",\" White\",\" White\",\" White\",\" White\",\" White\",\" White\",\" White\",\" White\",\" White\",\" White\",\" White\",\" White\",\" White\",\" White\",\" White\",\" White\",\" White\",\" White\",\" White\",\" White\",\" White\",\" White\",\" White\",\" White\",\" White\",\" White\",\" White\",\" White\",\" White\",\" White\",\" White\",\" White\",\" White\",\" White\",\" White\",\" White\",\" White\",\" White\",\" White\",\" White\",\" White\",\" White\",\" White\",\" White\",\" White\",\" White\",\" White\",\" White\",\" White\",\" White\",\" White\",\" White\",\" White\",\" White\",\" White\",\" White\",\" White\",\" White\",\" White\",\" White\",\" White\",\" White\",\" White\",\" White\",\" White\",\" White\",\" White\",\" White\",\" White\",\" White\",\" White\",\" White\",\" White\",\" White\",\" White\",\" White\",\" White\",\" White\",\" White\",\" White\",\" White\",\" White\",\" White\",\" White\",\" White\",\" White\",\" White\",\" White\",\" White\",\" White\",\" White\",\" White\",\" White\",\" White\",\" White\",\" White\",\" White\",\" White\",\" White\",\" White\",\" White\",\" White\",\" White\",\" White\",\" White\",\" White\",\" White\",\" White\",\" White\",\" White\",\" White\",\" White\",\" White\",\" White\",\" White\",\" White\",\" White\",\" White\",\" White\",\" White\",\" White\",\" White\",\" White\",\" White\",\" White\",\" White\",\" White\",\" White\",\" White\",\" White\",\" White\",\" White\",\" White\",\" White\",\" White\",\" White\",\" White\",\" White\",\" White\",\" White\",\" White\",\" White\",\" White\",\" White\",\" White\",\" White\",\" White\",\" White\",\" White\",\" White\",\" White\",\" White\",\" White\",\" White\",\" White\",\" White\",\" White\",\" White\",\" White\",\" White\",\" White\",\" White\",\" White\",\" White\",\" White\",\" White\",\" White\",\" White\",\" White\",\" White\",\" White\",\" White\",\" White\",\" White\",\" White\",\" White\",\" White\",\" White\",\" White\",\" White\",\" White\",\" White\",\" White\",\" White\",\" White\",\" White\",\" White\",\" White\",\" White\",\" White\",\" White\",\" White\",\" White\",\" White\",\" White\",\" White\",\" White\",\" White\",\" White\",\" White\",\" White\",\" White\",\" White\",\" White\",\" White\",\" White\",\" White\",\" White\",\" White\",\" White\",\" White\",\" White\",\" White\",\" White\",\" White\",\" White\",\" White\",\" White\",\" White\",\" White\",\" White\",\" White\",\" White\",\" White\",\" White\",\" White\",\" White\",\" White\",\" White\",\" White\",\" White\",\" White\",\" White\",\" White\",\" White\",\" White\",\" White\",\" White\",\" White\",\" White\",\" White\",\" White\",\" White\",\" White\",\" White\",\" White\",\" White\",\" White\",\" White\",\" White\",\" White\",\" White\",\" White\",\" White\",\" White\",\" White\",\" White\",\" White\",\" White\",\" White\",\" White\",\" White\",\" White\",\" White\",\" White\",\" White\",\" White\",\" White\",\" White\",\" White\",\" White\",\" White\",\" White\",\" White\",\" White\",\" White\",\" White\",\" White\",\" White\",\" White\",\" White\",\" White\",\" White\",\" White\",\" White\",\" White\",\" White\",\" White\",\" White\",\" White\",\" White\",\" White\",\" White\",\" White\",\" White\",\" White\",\" White\",\" White\",\" White\",\" White\",\" White\",\" White\",\" White\",\" White\",\" White\",\" White\",\" White\",\" White\",\" White\",\" White\",\" White\",\" White\",\" White\",\" White\",\" White\",\" White\",\" White\",\" White\",\" White\",\" White\",\" White\",\" White\",\" White\",\" White\",\" White\",\" White\",\" White\",\" White\",\" White\",\" White\",\" White\",\" White\",\" White\",\" White\",\" White\",\" White\",\" White\",\" White\",\" White\",\" White\",\" White\",\" White\",\" White\",\" White\",\" White\",\" White\",\" White\",\" White\",\" White\",\" White\",\" White\",\" White\",\" White\",\" White\",\" White\",\" White\",\" White\",\" White\",\" White\",\" White\",\" White\",\" White\",\" White\",\" White\",\" White\",\" White\",\" White\",\" White\",\" White\",\" White\",\" White\",\" White\",\" White\",\" White\",\" White\",\" White\",\" White\",\" White\",\" White\",\" White\",\" White\",\" White\",\" White\",\" White\",\" White\",\" White\",\" White\",\" White\",\" White\",\" White\",\" White\",\"17\",\"17\",\"17\",\"17\",\"17\",\"17\",\"17\",\"17\",\"18\",\"18\",\"18\",\"18\",\"18\",\"18\",\"18\",\"18\",\"19\",\"19\",\"19\",\"19\",\"19\",\"19\",\"19\",\"19\",\"20\",\"20\",\"20\",\"20\",\"20\",\"20\",\"20\",\"20\",\"21\",\"21\",\"21\",\"21\",\"21\",\"21\",\"21\",\"21\",\"22\",\"22\",\"22\",\"22\",\"22\",\"22\",\"22\",\"22\",\"23\",\"23\",\"23\",\"23\",\"23\",\"23\",\"23\",\"23\",\"24\",\"24\",\"24\",\"24\",\"24\",\"24\",\"24\",\"25\",\"25\",\"25\",\"25\",\"25\",\"25\",\"25\",\"26\",\"26\",\"26\",\"26\",\"26\",\"26\",\"26\",\"27\",\"27\",\"27\",\"27\",\"27\",\"27\",\"27\",\"28\",\"28\",\"28\",\"28\",\"28\",\"28\",\"28\",\"29\",\"29\",\"29\",\"29\",\"29\",\"29\",\"29\",\"29\",\"30\",\"30\",\"30\",\"30\",\"30\",\"30\",\"30\",\"30\",\"31\",\"31\",\"31\",\"31\",\"31\",\"31\",\"31\",\"32\",\"32\",\"32\",\"32\",\"32\",\"32\",\"32\",\"33\",\"33\",\"33\",\"33\",\"33\",\"33\",\"33\",\"34\",\"34\",\"34\",\"34\",\"34\",\"34\",\"34\",\"35\",\"35\",\"35\",\"35\",\"35\",\"35\",\"35\",\"36\",\"36\",\"36\",\"36\",\"36\",\"36\",\"36\",\"37\",\"37\",\"37\",\"37\",\"37\",\"37\",\"37\",\"38\",\"38\",\"38\",\"38\",\"38\",\"38\",\"38\",\"39\",\"39\",\"39\",\"39\",\"39\",\"39\",\"39\",\"40\",\"40\",\"40\",\"40\",\"40\",\"40\",\"40\",\"41\",\"41\",\"41\",\"41\",\"41\",\"41\",\"41\",\"42\",\"42\",\"42\",\"42\",\"42\",\"42\",\"42\",\"43\",\"43\",\"43\",\"43\",\"43\",\"43\",\"43\",\"44\",\"44\",\"44\",\"44\",\"44\",\"44\",\"44\",\"45\",\"45\",\"45\",\"45\",\"45\",\"45\",\"45\",\"46\",\"46\",\"46\",\"46\",\"46\",\"46\",\"46\",\"46\",\"47\",\"47\",\"47\",\"47\",\"47\",\"47\",\"47\",\"48\",\"48\",\"48\",\"48\",\"48\",\"48\",\"48\",\"49\",\"49\",\"49\",\"49\",\"49\",\"49\",\"49\",\"50\",\"50\",\"50\",\"50\",\"50\",\"50\",\"50\",\"51\",\"51\",\"51\",\"51\",\"51\",\"51\",\"51\",\"52\",\"52\",\"52\",\"52\",\"52\",\"52\",\"52\",\"52\",\"53\",\"53\",\"53\",\"53\",\"53\",\"53\",\"53\",\"54\",\"54\",\"54\",\"54\",\"54\",\"54\",\"54\",\"55\",\"55\",\"55\",\"55\",\"55\",\"55\",\"55\",\"56\",\"56\",\"56\",\"56\",\"56\",\"56\",\"56\",\"57\",\"57\",\"57\",\"57\",\"57\",\"57\",\"57\",\"58\",\"58\",\"58\",\"58\",\"58\",\"58\",\"58\",\"59\",\"59\",\"59\",\"59\",\"59\",\"59\",\"59\",\"60\",\"60\",\"60\",\"60\",\"60\",\"60\",\"60\",\"61\",\"61\",\"61\",\"61\",\"61\",\"61\",\"61\",\"62\",\"62\",\"62\",\"62\",\"62\",\"62\",\"62\",\"62\",\"63\",\"63\",\"63\",\"63\",\"63\",\"63\",\"63\",\"64\",\"64\",\"64\",\"64\",\"64\",\"64\",\"64\",\"65\",\"65\",\"65\",\"65\",\"65\",\"65\",\"65\",\"65\",\"66\",\"66\",\"66\",\"66\",\"66\",\"66\",\"66\",\"67\",\"67\",\"67\",\"67\",\"67\",\"67\",\"67\",\"67\",\"68\",\"68\",\"68\",\"68\",\"68\",\"68\",\"68\",\"68\",\"69\",\"69\",\"69\",\"69\",\"69\",\"69\",\"69\",\"70\",\"70\",\"70\",\"70\",\"70\",\"70\",\"70\",\"71\",\"71\",\"71\",\"71\",\"71\",\"71\",\"71\",\"72\",\"72\",\"72\",\"72\",\"72\",\"72\",\"72\",\"73\",\"73\",\"73\",\"73\",\"73\",\"73\",\"73\",\"74\",\"74\",\"74\",\"74\",\"74\",\"74\",\"75\",\"75\",\"75\",\"75\",\"75\",\"75\",\"76\",\"76\",\"76\",\"76\",\"76\",\"76\",\"77\",\"77\",\"77\",\"77\",\"77\",\"78\",\"78\",\"78\",\"78\",\"78\",\"79\",\"79\",\"79\",\"79\",\"79\",\"79\",\"80\",\"80\",\"80\",\"80\",\"81\",\"81\",\"81\",\"81\",\"81\",\"82\",\"82\",\"82\",\"82\",\"83\",\"83\",\"83\",\"83\",\"84\",\"84\",\"84\",\"84\",\"84\",\"85\",\"85\",\"86\",\"87\",\"88\",\"88\",\"90\",\"90\",\"90\",\"90\",\"90\",\" ?\",\" Federal-gov\",\" Local-gov\",\" Never-worked\",\" Private\",\" Self-emp-inc\",\" Self-emp-not-inc\",\" State-gov\",\" Without-pay\"],\"name\":\"\",\"parents\":[\" Private\\u002f17\",\" Private\\u002f18\",\" ?\\u002f19\",\" Private\\u002f19\",\" Self-emp-not-inc\\u002f19\",\" ?\\u002f20\",\" Private\\u002f20\",\" Private\\u002f21\",\" Private\\u002f22\",\" Self-emp-not-inc\\u002f22\",\" ?\\u002f23\",\" Federal-gov\\u002f23\",\" Local-gov\\u002f23\",\" Private\\u002f23\",\" ?\\u002f24\",\" Private\\u002f24\",\" ?\\u002f25\",\" Federal-gov\\u002f25\",\" Local-gov\\u002f25\",\" Private\\u002f25\",\" Local-gov\\u002f26\",\" Private\\u002f26\",\" ?\\u002f27\",\" Local-gov\\u002f27\",\" Private\\u002f27\",\" State-gov\\u002f27\",\" Federal-gov\\u002f28\",\" Local-gov\\u002f28\",\" Private\\u002f28\",\" Private\\u002f29\",\" Self-emp-not-inc\\u002f29\",\" Federal-gov\\u002f30\",\" Local-gov\\u002f30\",\" Private\\u002f30\",\" Self-emp-not-inc\\u002f30\",\" State-gov\\u002f30\",\" ?\\u002f31\",\" Federal-gov\\u002f31\",\" Local-gov\\u002f31\",\" Private\\u002f31\",\" Private\\u002f32\",\" Self-emp-not-inc\\u002f32\",\" ?\\u002f33\",\" Local-gov\\u002f33\",\" Private\\u002f33\",\" Local-gov\\u002f34\",\" Private\\u002f34\",\" ?\\u002f35\",\" Federal-gov\\u002f35\",\" Local-gov\\u002f35\",\" Private\\u002f35\",\" Self-emp-not-inc\\u002f35\",\" Local-gov\\u002f36\",\" Private\\u002f36\",\" ?\\u002f37\",\" Federal-gov\\u002f37\",\" Local-gov\\u002f37\",\" Private\\u002f37\",\" Local-gov\\u002f38\",\" Private\\u002f38\",\" Self-emp-not-inc\\u002f38\",\" State-gov\\u002f38\",\" Local-gov\\u002f39\",\" Private\\u002f39\",\" Self-emp-not-inc\\u002f39\",\" Local-gov\\u002f40\",\" Private\\u002f40\",\" Self-emp-not-inc\\u002f40\",\" Private\\u002f41\",\" State-gov\\u002f41\",\" Federal-gov\\u002f42\",\" Local-gov\\u002f42\",\" Private\\u002f42\",\" Self-emp-inc\\u002f42\",\" Self-emp-not-inc\\u002f42\",\" State-gov\\u002f42\",\" Federal-gov\\u002f43\",\" Local-gov\\u002f43\",\" Private\\u002f43\",\" Self-emp-not-inc\\u002f43\",\" State-gov\\u002f43\",\" Private\\u002f44\",\" State-gov\\u002f44\",\" ?\\u002f45\",\" Private\\u002f45\",\" Self-emp-not-inc\\u002f45\",\" Federal-gov\\u002f46\",\" Local-gov\\u002f46\",\" Private\\u002f46\",\" Self-emp-inc\\u002f46\",\" State-gov\\u002f46\",\" ?\\u002f47\",\" Private\\u002f47\",\" ?\\u002f48\",\" Self-emp-not-inc\\u002f48\",\" Private\\u002f49\",\" Self-emp-not-inc\\u002f49\",\" Federal-gov\\u002f50\",\" Local-gov\\u002f50\",\" Private\\u002f50\",\" State-gov\\u002f50\",\" Federal-gov\\u002f51\",\" Local-gov\\u002f51\",\" Private\\u002f51\",\" Self-emp-not-inc\\u002f51\",\" State-gov\\u002f51\",\" Private\\u002f52\",\" Self-emp-not-inc\\u002f52\",\" Federal-gov\\u002f53\",\" Local-gov\\u002f53\",\" Private\\u002f53\",\" State-gov\\u002f53\",\" Local-gov\\u002f55\",\" Private\\u002f55\",\" State-gov\\u002f55\",\" Federal-gov\\u002f56\",\" Private\\u002f56\",\" Self-emp-not-inc\\u002f56\",\" Federal-gov\\u002f57\",\" Private\\u002f57\",\" Self-emp-not-inc\\u002f57\",\" ?\\u002f58\",\" Federal-gov\\u002f58\",\" Private\\u002f58\",\" Private\\u002f59\",\" ?\\u002f60\",\" Federal-gov\\u002f60\",\" Private\\u002f60\",\" Self-emp-not-inc\\u002f60\",\" State-gov\\u002f60\",\" State-gov\\u002f61\",\" ?\\u002f62\",\" ?\\u002f63\",\" Private\\u002f63\",\" ?\\u002f65\",\" Private\\u002f67\",\" ?\\u002f68\",\" Private\\u002f68\",\" Self-emp-not-inc\\u002f71\",\" ?\\u002f74\",\" Local-gov\\u002f80\",\" ?\\u002f82\",\" ?\\u002f17\",\" Private\\u002f17\",\" ?\\u002f18\",\" Federal-gov\\u002f18\",\" Private\\u002f18\",\" Self-emp-inc\\u002f18\",\" Self-emp-not-inc\\u002f18\",\" ?\\u002f19\",\" Private\\u002f19\",\" Self-emp-inc\\u002f19\",\" Self-emp-not-inc\\u002f19\",\" ?\\u002f20\",\" Local-gov\\u002f20\",\" Private\\u002f20\",\" Self-emp-not-inc\\u002f20\",\" ?\\u002f21\",\" Private\\u002f21\",\" State-gov\\u002f21\",\" ?\\u002f22\",\" Local-gov\\u002f22\",\" Private\\u002f22\",\" Self-emp-not-inc\\u002f22\",\" ?\\u002f23\",\" Local-gov\\u002f23\",\" Private\\u002f23\",\" State-gov\\u002f23\",\" ?\\u002f24\",\" Federal-gov\\u002f24\",\" Local-gov\\u002f24\",\" Private\\u002f24\",\" Self-emp-not-inc\\u002f24\",\" State-gov\\u002f24\",\" ?\\u002f25\",\" Local-gov\\u002f25\",\" Private\\u002f25\",\" Self-emp-inc\\u002f25\",\" Self-emp-not-inc\\u002f25\",\" ?\\u002f26\",\" Federal-gov\\u002f26\",\" Local-gov\\u002f26\",\" Private\\u002f26\",\" Self-emp-not-inc\\u002f26\",\" State-gov\\u002f26\",\" ?\\u002f27\",\" Federal-gov\\u002f27\",\" Local-gov\\u002f27\",\" Private\\u002f27\",\" State-gov\\u002f27\",\" ?\\u002f28\",\" Local-gov\\u002f28\",\" Private\\u002f28\",\" Self-emp-not-inc\\u002f28\",\" State-gov\\u002f28\",\" ?\\u002f29\",\" Local-gov\\u002f29\",\" Private\\u002f29\",\" Self-emp-inc\\u002f29\",\" Self-emp-not-inc\\u002f29\",\" State-gov\\u002f29\",\" ?\\u002f30\",\" Federal-gov\\u002f30\",\" Private\\u002f30\",\" Self-emp-inc\\u002f30\",\" Self-emp-not-inc\\u002f30\",\" State-gov\\u002f30\",\" ?\\u002f31\",\" Federal-gov\\u002f31\",\" Private\\u002f31\",\" Self-emp-inc\\u002f31\",\" Self-emp-not-inc\\u002f31\",\" State-gov\\u002f31\",\" Federal-gov\\u002f32\",\" Local-gov\\u002f32\",\" Private\\u002f32\",\" Self-emp-inc\\u002f32\",\" Self-emp-not-inc\\u002f32\",\" State-gov\\u002f32\",\" ?\\u002f33\",\" Federal-gov\\u002f33\",\" Private\\u002f33\",\" Self-emp-inc\\u002f33\",\" State-gov\\u002f33\",\" Federal-gov\\u002f34\",\" Local-gov\\u002f34\",\" Private\\u002f34\",\" Self-emp-not-inc\\u002f34\",\" State-gov\\u002f34\",\" ?\\u002f35\",\" Federal-gov\\u002f35\",\" Local-gov\\u002f35\",\" Private\\u002f35\",\" Self-emp-inc\\u002f35\",\" Self-emp-not-inc\\u002f35\",\" State-gov\\u002f35\",\" Federal-gov\\u002f36\",\" Local-gov\\u002f36\",\" Private\\u002f36\",\" Self-emp-inc\\u002f36\",\" Self-emp-not-inc\\u002f36\",\" State-gov\\u002f36\",\" ?\\u002f37\",\" Federal-gov\\u002f37\",\" Private\\u002f37\",\" Self-emp-inc\\u002f37\",\" Self-emp-not-inc\\u002f37\",\" Federal-gov\\u002f38\",\" Local-gov\\u002f38\",\" Private\\u002f38\",\" Self-emp-inc\\u002f38\",\" Self-emp-not-inc\\u002f38\",\" State-gov\\u002f38\",\" ?\\u002f39\",\" Federal-gov\\u002f39\",\" Local-gov\\u002f39\",\" Private\\u002f39\",\" Self-emp-inc\\u002f39\",\" Self-emp-not-inc\\u002f39\",\" State-gov\\u002f39\",\" Federal-gov\\u002f40\",\" Private\\u002f40\",\" Self-emp-inc\\u002f40\",\" Self-emp-not-inc\\u002f40\",\" State-gov\\u002f40\",\" ?\\u002f41\",\" Federal-gov\\u002f41\",\" Local-gov\\u002f41\",\" Private\\u002f41\",\" Self-emp-inc\\u002f41\",\" Self-emp-not-inc\\u002f41\",\" State-gov\\u002f41\",\" Federal-gov\\u002f42\",\" Private\\u002f42\",\" Self-emp-inc\\u002f42\",\" Self-emp-not-inc\\u002f42\",\" State-gov\\u002f42\",\" ?\\u002f43\",\" Federal-gov\\u002f43\",\" Private\\u002f43\",\" Self-emp-inc\\u002f43\",\" Self-emp-not-inc\\u002f43\",\" State-gov\\u002f43\",\" Federal-gov\\u002f44\",\" Local-gov\\u002f44\",\" Private\\u002f44\",\" Self-emp-inc\\u002f44\",\" Self-emp-not-inc\\u002f44\",\" State-gov\\u002f44\",\" ?\\u002f45\",\" Federal-gov\\u002f45\",\" Local-gov\\u002f45\",\" Private\\u002f45\",\" Self-emp-inc\\u002f45\",\" Self-emp-not-inc\\u002f45\",\" State-gov\\u002f45\",\" ?\\u002f46\",\" Federal-gov\\u002f46\",\" Local-gov\\u002f46\",\" Private\\u002f46\",\" Self-emp-inc\\u002f46\",\" Self-emp-not-inc\\u002f46\",\" Private\\u002f47\",\" Self-emp-not-inc\\u002f47\",\" State-gov\\u002f47\",\" Local-gov\\u002f48\",\" Private\\u002f48\",\" Self-emp-inc\\u002f48\",\" Self-emp-not-inc\\u002f48\",\" Federal-gov\\u002f49\",\" Private\\u002f49\",\" Self-emp-inc\\u002f49\",\" Local-gov\\u002f50\",\" Private\\u002f50\",\" Self-emp-inc\\u002f50\",\" Self-emp-not-inc\\u002f50\",\" Federal-gov\\u002f51\",\" Private\\u002f51\",\" Self-emp-inc\\u002f51\",\" Self-emp-not-inc\\u002f51\",\" ?\\u002f52\",\" Federal-gov\\u002f52\",\" Private\\u002f52\",\" Self-emp-inc\\u002f52\",\" Self-emp-not-inc\\u002f52\",\" State-gov\\u002f52\",\" Federal-gov\\u002f53\",\" Private\\u002f53\",\" Self-emp-inc\\u002f53\",\" Self-emp-not-inc\\u002f53\",\" ?\\u002f54\",\" Local-gov\\u002f54\",\" Private\\u002f54\",\" Self-emp-inc\\u002f54\",\" Self-emp-not-inc\\u002f54\",\" State-gov\\u002f54\",\" ?\\u002f55\",\" Federal-gov\\u002f55\",\" Local-gov\\u002f55\",\" Private\\u002f55\",\" State-gov\\u002f55\",\" Federal-gov\\u002f56\",\" Local-gov\\u002f56\",\" Private\\u002f56\",\" State-gov\\u002f56\",\" ?\\u002f57\",\" Local-gov\\u002f57\",\" Private\\u002f57\",\" Self-emp-inc\\u002f57\",\" Self-emp-not-inc\\u002f57\",\" State-gov\\u002f57\",\" Federal-gov\\u002f58\",\" Private\\u002f58\",\" Self-emp-not-inc\\u002f58\",\" State-gov\\u002f58\",\" Private\\u002f59\",\" ?\\u002f60\",\" Local-gov\\u002f60\",\" Private\\u002f60\",\" State-gov\\u002f60\",\" Private\\u002f61\",\" Self-emp-inc\\u002f61\",\" Self-emp-not-inc\\u002f61\",\" ?\\u002f62\",\" Private\\u002f62\",\" Self-emp-inc\\u002f62\",\" Private\\u002f63\",\" Self-emp-not-inc\\u002f63\",\" Federal-gov\\u002f64\",\" Local-gov\\u002f64\",\" Private\\u002f64\",\" ?\\u002f65\",\" Private\\u002f65\",\" Private\\u002f66\",\" Self-emp-inc\\u002f67\",\" Without-pay\\u002f67\",\" ?\\u002f69\",\" ?\\u002f70\",\" Private\\u002f70\",\" Private\\u002f71\",\" ?\\u002f72\",\" Private\\u002f72\",\" ?\\u002f73\",\" Private\\u002f73\",\" Self-emp-not-inc\\u002f73\",\" State-gov\\u002f73\",\" ?\\u002f75\",\" Private\\u002f75\",\" Self-emp-inc\\u002f75\",\" Private\\u002f78\",\" ?\\u002f90\",\" Local-gov\\u002f90\",\" Private\\u002f90\",\" ?\\u002f17\",\" Federal-gov\\u002f17\",\" Local-gov\\u002f17\",\" Private\\u002f17\",\" Self-emp-inc\\u002f17\",\" ?\\u002f18\",\" Private\\u002f18\",\" State-gov\\u002f18\",\" ?\\u002f19\",\" Federal-gov\\u002f19\",\" Local-gov\\u002f19\",\" Private\\u002f19\",\" State-gov\\u002f19\",\" ?\\u002f20\",\" Federal-gov\\u002f20\",\" Local-gov\\u002f20\",\" Never-worked\\u002f20\",\" Private\\u002f20\",\" ?\\u002f21\",\" Federal-gov\\u002f21\",\" Local-gov\\u002f21\",\" Private\\u002f21\",\" State-gov\\u002f21\",\" Without-pay\\u002f21\",\" ?\\u002f22\",\" Federal-gov\\u002f22\",\" Local-gov\\u002f22\",\" Private\\u002f22\",\" Self-emp-not-inc\\u002f22\",\" State-gov\\u002f22\",\" ?\\u002f23\",\" Local-gov\\u002f23\",\" Private\\u002f23\",\" State-gov\\u002f23\",\" ?\\u002f24\",\" Federal-gov\\u002f24\",\" Local-gov\\u002f24\",\" Private\\u002f24\",\" Self-emp-inc\\u002f24\",\" Self-emp-not-inc\\u002f24\",\" State-gov\\u002f24\",\" ?\\u002f25\",\" Federal-gov\\u002f25\",\" Local-gov\\u002f25\",\" Private\\u002f25\",\" Self-emp-not-inc\\u002f25\",\" State-gov\\u002f25\",\" ?\\u002f26\",\" Federal-gov\\u002f26\",\" Local-gov\\u002f26\",\" Private\\u002f26\",\" Self-emp-not-inc\\u002f26\",\" State-gov\\u002f26\",\" ?\\u002f27\",\" Federal-gov\\u002f27\",\" Local-gov\\u002f27\",\" Private\\u002f27\",\" Self-emp-not-inc\\u002f27\",\" State-gov\\u002f27\",\" ?\\u002f28\",\" Federal-gov\\u002f28\",\" Local-gov\\u002f28\",\" Private\\u002f28\",\" Self-emp-inc\\u002f28\",\" Self-emp-not-inc\\u002f28\",\" State-gov\\u002f28\",\" ?\\u002f29\",\" Federal-gov\\u002f29\",\" Local-gov\\u002f29\",\" Private\\u002f29\",\" Self-emp-inc\\u002f29\",\" Self-emp-not-inc\\u002f29\",\" State-gov\\u002f29\",\" ?\\u002f30\",\" Federal-gov\\u002f30\",\" Local-gov\\u002f30\",\" Never-worked\\u002f30\",\" Private\\u002f30\",\" Self-emp-inc\\u002f30\",\" Self-emp-not-inc\\u002f30\",\" State-gov\\u002f30\",\" ?\\u002f31\",\" Federal-gov\\u002f31\",\" Local-gov\\u002f31\",\" Private\\u002f31\",\" Self-emp-not-inc\\u002f31\",\" State-gov\\u002f31\",\" ?\\u002f32\",\" Federal-gov\\u002f32\",\" Local-gov\\u002f32\",\" Private\\u002f32\",\" Self-emp-inc\\u002f32\",\" Self-emp-not-inc\\u002f32\",\" State-gov\\u002f32\",\" ?\\u002f33\",\" Federal-gov\\u002f33\",\" Local-gov\\u002f33\",\" Private\\u002f33\",\" Self-emp-not-inc\\u002f33\",\" State-gov\\u002f33\",\" ?\\u002f34\",\" Federal-gov\\u002f34\",\" Local-gov\\u002f34\",\" Private\\u002f34\",\" Self-emp-not-inc\\u002f34\",\" State-gov\\u002f34\",\" ?\\u002f35\",\" Federal-gov\\u002f35\",\" Local-gov\\u002f35\",\" Private\\u002f35\",\" Self-emp-not-inc\\u002f35\",\" State-gov\\u002f35\",\" ?\\u002f36\",\" Federal-gov\\u002f36\",\" Local-gov\\u002f36\",\" Private\\u002f36\",\" Self-emp-inc\\u002f36\",\" Self-emp-not-inc\\u002f36\",\" State-gov\\u002f36\",\" Federal-gov\\u002f37\",\" Local-gov\\u002f37\",\" Private\\u002f37\",\" Self-emp-inc\\u002f37\",\" Self-emp-not-inc\\u002f37\",\" State-gov\\u002f37\",\" ?\\u002f38\",\" Federal-gov\\u002f38\",\" Local-gov\\u002f38\",\" Private\\u002f38\",\" Self-emp-not-inc\\u002f38\",\" State-gov\\u002f38\",\" ?\\u002f39\",\" Federal-gov\\u002f39\",\" Local-gov\\u002f39\",\" Private\\u002f39\",\" Self-emp-not-inc\\u002f39\",\" State-gov\\u002f39\",\" ?\\u002f40\",\" Federal-gov\\u002f40\",\" Local-gov\\u002f40\",\" Private\\u002f40\",\" Self-emp-not-inc\\u002f40\",\" State-gov\\u002f40\",\" ?\\u002f41\",\" Federal-gov\\u002f41\",\" Local-gov\\u002f41\",\" Private\\u002f41\",\" Self-emp-inc\\u002f41\",\" Self-emp-not-inc\\u002f41\",\" State-gov\\u002f41\",\" ?\\u002f42\",\" Federal-gov\\u002f42\",\" Local-gov\\u002f42\",\" Private\\u002f42\",\" Self-emp-inc\\u002f42\",\" Self-emp-not-inc\\u002f42\",\" State-gov\\u002f42\",\" ?\\u002f43\",\" Federal-gov\\u002f43\",\" Local-gov\\u002f43\",\" Private\\u002f43\",\" Self-emp-inc\\u002f43\",\" Self-emp-not-inc\\u002f43\",\" State-gov\\u002f43\",\" ?\\u002f44\",\" Federal-gov\\u002f44\",\" Local-gov\\u002f44\",\" Private\\u002f44\",\" Self-emp-inc\\u002f44\",\" Self-emp-not-inc\\u002f44\",\" State-gov\\u002f44\",\" ?\\u002f45\",\" Federal-gov\\u002f45\",\" Local-gov\\u002f45\",\" Private\\u002f45\",\" Self-emp-not-inc\\u002f45\",\" State-gov\\u002f45\",\" ?\\u002f46\",\" Federal-gov\\u002f46\",\" Local-gov\\u002f46\",\" Private\\u002f46\",\" Self-emp-not-inc\\u002f46\",\" State-gov\\u002f46\",\" ?\\u002f47\",\" Federal-gov\\u002f47\",\" Local-gov\\u002f47\",\" Private\\u002f47\",\" Self-emp-not-inc\\u002f47\",\" ?\\u002f48\",\" Federal-gov\\u002f48\",\" Local-gov\\u002f48\",\" Private\\u002f48\",\" Self-emp-not-inc\\u002f48\",\" State-gov\\u002f48\",\" ?\\u002f49\",\" Federal-gov\\u002f49\",\" Local-gov\\u002f49\",\" Private\\u002f49\",\" Self-emp-inc\\u002f49\",\" Self-emp-not-inc\\u002f49\",\" State-gov\\u002f49\",\" ?\\u002f50\",\" Federal-gov\\u002f50\",\" Local-gov\\u002f50\",\" Private\\u002f50\",\" Self-emp-inc\\u002f50\",\" Self-emp-not-inc\\u002f50\",\" State-gov\\u002f50\",\" ?\\u002f51\",\" Federal-gov\\u002f51\",\" Local-gov\\u002f51\",\" Private\\u002f51\",\" Self-emp-inc\\u002f51\",\" Self-emp-not-inc\\u002f51\",\" ?\\u002f52\",\" Federal-gov\\u002f52\",\" Local-gov\\u002f52\",\" Private\\u002f52\",\" Self-emp-inc\\u002f52\",\" Self-emp-not-inc\\u002f52\",\" State-gov\\u002f52\",\" ?\\u002f53\",\" Federal-gov\\u002f53\",\" Local-gov\\u002f53\",\" Private\\u002f53\",\" Self-emp-not-inc\\u002f53\",\" Local-gov\\u002f54\",\" Private\\u002f54\",\" Self-emp-inc\\u002f54\",\" Self-emp-not-inc\\u002f54\",\" State-gov\\u002f54\",\" ?\\u002f55\",\" Federal-gov\\u002f55\",\" Local-gov\\u002f55\",\" Private\\u002f55\",\" Self-emp-not-inc\\u002f55\",\" State-gov\\u002f55\",\" ?\\u002f56\",\" Federal-gov\\u002f56\",\" Local-gov\\u002f56\",\" Private\\u002f56\",\" Self-emp-not-inc\\u002f56\",\" State-gov\\u002f56\",\" Federal-gov\\u002f57\",\" Local-gov\\u002f57\",\" Private\\u002f57\",\" Self-emp-inc\\u002f57\",\" State-gov\\u002f57\",\" ?\\u002f58\",\" Federal-gov\\u002f58\",\" Local-gov\\u002f58\",\" Private\\u002f58\",\" State-gov\\u002f58\",\" ?\\u002f59\",\" Federal-gov\\u002f59\",\" Local-gov\\u002f59\",\" Private\\u002f59\",\" State-gov\\u002f59\",\" ?\\u002f60\",\" Federal-gov\\u002f60\",\" Private\\u002f60\",\" Self-emp-not-inc\\u002f60\",\" State-gov\\u002f60\",\" ?\\u002f61\",\" Federal-gov\\u002f61\",\" Private\\u002f61\",\" Self-emp-not-inc\\u002f61\",\" State-gov\\u002f61\",\" ?\\u002f62\",\" Federal-gov\\u002f62\",\" Local-gov\\u002f62\",\" Private\\u002f62\",\" Self-emp-inc\\u002f62\",\" State-gov\\u002f62\",\" ?\\u002f63\",\" Federal-gov\\u002f63\",\" Local-gov\\u002f63\",\" Private\\u002f63\",\" ?\\u002f64\",\" Federal-gov\\u002f64\",\" Local-gov\\u002f64\",\" Private\\u002f64\",\" State-gov\\u002f64\",\" ?\\u002f65\",\" Federal-gov\\u002f65\",\" Local-gov\\u002f65\",\" Private\\u002f65\",\" State-gov\\u002f65\",\" ?\\u002f66\",\" Federal-gov\\u002f66\",\" Local-gov\\u002f66\",\" Private\\u002f66\",\" State-gov\\u002f66\",\" ?\\u002f67\",\" Local-gov\\u002f67\",\" Private\\u002f67\",\" Self-emp-not-inc\\u002f67\",\" State-gov\\u002f67\",\" ?\\u002f68\",\" Federal-gov\\u002f68\",\" Local-gov\\u002f68\",\" Private\\u002f68\",\" Local-gov\\u002f69\",\" Private\\u002f69\",\" Federal-gov\\u002f70\",\" Private\\u002f70\",\" Self-emp-not-inc\\u002f70\",\" Private\\u002f71\",\" Self-emp-not-inc\\u002f71\",\" State-gov\\u002f71\",\" Private\\u002f72\",\" ?\\u002f74\",\" Private\\u002f74\",\" ?\\u002f75\",\" Private\\u002f75\",\" Self-emp-not-inc\\u002f75\",\" State-gov\\u002f75\",\" ?\\u002f76\",\" Private\\u002f76\",\" ?\\u002f77\",\" Private\\u002f77\",\" Private\\u002f78\",\" ?\\u002f79\",\" Private\\u002f81\",\" Private\\u002f84\",\" ?\\u002f90\",\" Private\\u002f90\",\" ?\\u002f17\",\" Private\\u002f17\",\" ?\\u002f18\",\" Private\\u002f18\",\" ?\\u002f19\",\" Private\\u002f19\",\" ?\\u002f20\",\" Private\\u002f20\",\" State-gov\\u002f20\",\" ?\\u002f21\",\" Private\\u002f21\",\" ?\\u002f22\",\" Private\\u002f22\",\" State-gov\\u002f22\",\" ?\\u002f23\",\" Private\\u002f23\",\" ?\\u002f24\",\" Federal-gov\\u002f24\",\" Local-gov\\u002f24\",\" Private\\u002f24\",\" Private\\u002f25\",\" Federal-gov\\u002f26\",\" Private\\u002f26\",\" Self-emp-inc\\u002f26\",\" ?\\u002f27\",\" Local-gov\\u002f27\",\" Private\\u002f27\",\" Self-emp-not-inc\\u002f27\",\" Private\\u002f28\",\" Federal-gov\\u002f29\",\" Local-gov\\u002f29\",\" Private\\u002f29\",\" ?\\u002f30\",\" Private\\u002f30\",\" Private\\u002f31\",\" State-gov\\u002f31\",\" Local-gov\\u002f32\",\" Private\\u002f32\",\" Self-emp-not-inc\\u002f32\",\" Local-gov\\u002f33\",\" Private\\u002f33\",\" Private\\u002f34\",\" Self-emp-inc\\u002f34\",\" Private\\u002f35\",\" Private\\u002f36\",\" Self-emp-not-inc\\u002f36\",\" Local-gov\\u002f37\",\" Private\\u002f37\",\" Self-emp-not-inc\\u002f37\",\" ?\\u002f38\",\" Private\\u002f38\",\" Private\\u002f39\",\" Self-emp-not-inc\\u002f39\",\" State-gov\\u002f39\",\" Local-gov\\u002f40\",\" Private\\u002f40\",\" ?\\u002f41\",\" Private\\u002f41\",\" Self-emp-inc\\u002f41\",\" Local-gov\\u002f42\",\" Private\\u002f42\",\" Self-emp-not-inc\\u002f42\",\" Local-gov\\u002f43\",\" Private\\u002f43\",\" Self-emp-not-inc\\u002f43\",\" Private\\u002f44\",\" Private\\u002f45\",\" Federal-gov\\u002f46\",\" Private\\u002f46\",\" Private\\u002f47\",\" Self-emp-inc\\u002f47\",\" Self-emp-not-inc\\u002f47\",\" Private\\u002f48\",\" Private\\u002f49\",\" Private\\u002f50\",\" Federal-gov\\u002f51\",\" Self-emp-not-inc\\u002f51\",\" Private\\u002f52\",\" Self-emp-inc\\u002f52\",\" ?\\u002f53\",\" Local-gov\\u002f53\",\" Private\\u002f53\",\" Private\\u002f55\",\" Private\\u002f56\",\" ?\\u002f57\",\" Private\\u002f57\",\" Private\\u002f58\",\" Private\\u002f60\",\" Private\\u002f63\",\" Private\\u002f65\",\" ?\\u002f66\",\" ?\\u002f74\",\" Private\\u002f77\",\" ?\\u002f17\",\" Local-gov\\u002f17\",\" Never-worked\\u002f17\",\" Private\\u002f17\",\" Self-emp-inc\\u002f17\",\" Self-emp-not-inc\\u002f17\",\" State-gov\\u002f17\",\" ?\\u002f18\",\" Federal-gov\\u002f18\",\" Local-gov\\u002f18\",\" Never-worked\\u002f18\",\" Private\\u002f18\",\" Self-emp-inc\\u002f18\",\" Self-emp-not-inc\\u002f18\",\" State-gov\\u002f18\",\" ?\\u002f19\",\" Federal-gov\\u002f19\",\" Local-gov\\u002f19\",\" Private\\u002f19\",\" Self-emp-inc\\u002f19\",\" Self-emp-not-inc\\u002f19\",\" State-gov\\u002f19\",\" Without-pay\\u002f19\",\" ?\\u002f20\",\" Federal-gov\\u002f20\",\" Local-gov\\u002f20\",\" Private\\u002f20\",\" Self-emp-inc\\u002f20\",\" Self-emp-not-inc\\u002f20\",\" State-gov\\u002f20\",\" ?\\u002f21\",\" Federal-gov\\u002f21\",\" Local-gov\\u002f21\",\" Private\\u002f21\",\" Self-emp-inc\\u002f21\",\" Self-emp-not-inc\\u002f21\",\" State-gov\\u002f21\",\" ?\\u002f22\",\" Federal-gov\\u002f22\",\" Local-gov\\u002f22\",\" Private\\u002f22\",\" Self-emp-inc\\u002f22\",\" Self-emp-not-inc\\u002f22\",\" State-gov\\u002f22\",\" Without-pay\\u002f22\",\" ?\\u002f23\",\" Federal-gov\\u002f23\",\" Local-gov\\u002f23\",\" Never-worked\\u002f23\",\" Private\\u002f23\",\" Self-emp-inc\\u002f23\",\" Self-emp-not-inc\\u002f23\",\" State-gov\\u002f23\",\" ?\\u002f24\",\" Federal-gov\\u002f24\",\" Local-gov\\u002f24\",\" Private\\u002f24\",\" Self-emp-inc\\u002f24\",\" Self-emp-not-inc\\u002f24\",\" State-gov\\u002f24\",\" ?\\u002f25\",\" Federal-gov\\u002f25\",\" Local-gov\\u002f25\",\" Private\\u002f25\",\" Self-emp-inc\\u002f25\",\" Self-emp-not-inc\\u002f25\",\" State-gov\\u002f25\",\" ?\\u002f26\",\" Federal-gov\\u002f26\",\" Local-gov\\u002f26\",\" Private\\u002f26\",\" Self-emp-inc\\u002f26\",\" Self-emp-not-inc\\u002f26\",\" State-gov\\u002f26\",\" ?\\u002f27\",\" Federal-gov\\u002f27\",\" Local-gov\\u002f27\",\" Private\\u002f27\",\" Self-emp-inc\\u002f27\",\" Self-emp-not-inc\\u002f27\",\" State-gov\\u002f27\",\" ?\\u002f28\",\" Federal-gov\\u002f28\",\" Local-gov\\u002f28\",\" Private\\u002f28\",\" Self-emp-inc\\u002f28\",\" Self-emp-not-inc\\u002f28\",\" State-gov\\u002f28\",\" ?\\u002f29\",\" Federal-gov\\u002f29\",\" Local-gov\\u002f29\",\" Private\\u002f29\",\" Self-emp-inc\\u002f29\",\" Self-emp-not-inc\\u002f29\",\" State-gov\\u002f29\",\" Without-pay\\u002f29\",\" ?\\u002f30\",\" Federal-gov\\u002f30\",\" Local-gov\\u002f30\",\" Private\\u002f30\",\" Self-emp-inc\\u002f30\",\" Self-emp-not-inc\\u002f30\",\" State-gov\\u002f30\",\" ?\\u002f31\",\" Federal-gov\\u002f31\",\" Local-gov\\u002f31\",\" Private\\u002f31\",\" Self-emp-inc\\u002f31\",\" Self-emp-not-inc\\u002f31\",\" State-gov\\u002f31\",\" ?\\u002f32\",\" Federal-gov\\u002f32\",\" Local-gov\\u002f32\",\" Private\\u002f32\",\" Self-emp-inc\\u002f32\",\" Self-emp-not-inc\\u002f32\",\" State-gov\\u002f32\",\" ?\\u002f33\",\" Federal-gov\\u002f33\",\" Local-gov\\u002f33\",\" Private\\u002f33\",\" Self-emp-inc\\u002f33\",\" Self-emp-not-inc\\u002f33\",\" State-gov\\u002f33\",\" ?\\u002f34\",\" Federal-gov\\u002f34\",\" Local-gov\\u002f34\",\" Private\\u002f34\",\" Self-emp-inc\\u002f34\",\" Self-emp-not-inc\\u002f34\",\" State-gov\\u002f34\",\" ?\\u002f35\",\" Federal-gov\\u002f35\",\" Local-gov\\u002f35\",\" Private\\u002f35\",\" Self-emp-inc\\u002f35\",\" Self-emp-not-inc\\u002f35\",\" State-gov\\u002f35\",\" ?\\u002f36\",\" Federal-gov\\u002f36\",\" Local-gov\\u002f36\",\" Private\\u002f36\",\" Self-emp-inc\\u002f36\",\" Self-emp-not-inc\\u002f36\",\" State-gov\\u002f36\",\" ?\\u002f37\",\" Federal-gov\\u002f37\",\" Local-gov\\u002f37\",\" Private\\u002f37\",\" Self-emp-inc\\u002f37\",\" Self-emp-not-inc\\u002f37\",\" State-gov\\u002f37\",\" ?\\u002f38\",\" Federal-gov\\u002f38\",\" Local-gov\\u002f38\",\" Private\\u002f38\",\" Self-emp-inc\\u002f38\",\" Self-emp-not-inc\\u002f38\",\" State-gov\\u002f38\",\" ?\\u002f39\",\" Federal-gov\\u002f39\",\" Local-gov\\u002f39\",\" Private\\u002f39\",\" Self-emp-inc\\u002f39\",\" Self-emp-not-inc\\u002f39\",\" State-gov\\u002f39\",\" ?\\u002f40\",\" Federal-gov\\u002f40\",\" Local-gov\\u002f40\",\" Private\\u002f40\",\" Self-emp-inc\\u002f40\",\" Self-emp-not-inc\\u002f40\",\" State-gov\\u002f40\",\" ?\\u002f41\",\" Federal-gov\\u002f41\",\" Local-gov\\u002f41\",\" Private\\u002f41\",\" Self-emp-inc\\u002f41\",\" Self-emp-not-inc\\u002f41\",\" State-gov\\u002f41\",\" ?\\u002f42\",\" Federal-gov\\u002f42\",\" Local-gov\\u002f42\",\" Private\\u002f42\",\" Self-emp-inc\\u002f42\",\" Self-emp-not-inc\\u002f42\",\" State-gov\\u002f42\",\" ?\\u002f43\",\" Federal-gov\\u002f43\",\" Local-gov\\u002f43\",\" Private\\u002f43\",\" Self-emp-inc\\u002f43\",\" Self-emp-not-inc\\u002f43\",\" State-gov\\u002f43\",\" ?\\u002f44\",\" Federal-gov\\u002f44\",\" Local-gov\\u002f44\",\" Private\\u002f44\",\" Self-emp-inc\\u002f44\",\" Self-emp-not-inc\\u002f44\",\" State-gov\\u002f44\",\" ?\\u002f45\",\" Federal-gov\\u002f45\",\" Local-gov\\u002f45\",\" Private\\u002f45\",\" Self-emp-inc\\u002f45\",\" Self-emp-not-inc\\u002f45\",\" State-gov\\u002f45\",\" ?\\u002f46\",\" Federal-gov\\u002f46\",\" Local-gov\\u002f46\",\" Private\\u002f46\",\" Self-emp-inc\\u002f46\",\" Self-emp-not-inc\\u002f46\",\" State-gov\\u002f46\",\" Without-pay\\u002f46\",\" ?\\u002f47\",\" Federal-gov\\u002f47\",\" Local-gov\\u002f47\",\" Private\\u002f47\",\" Self-emp-inc\\u002f47\",\" Self-emp-not-inc\\u002f47\",\" State-gov\\u002f47\",\" ?\\u002f48\",\" Federal-gov\\u002f48\",\" Local-gov\\u002f48\",\" Private\\u002f48\",\" Self-emp-inc\\u002f48\",\" Self-emp-not-inc\\u002f48\",\" State-gov\\u002f48\",\" ?\\u002f49\",\" Federal-gov\\u002f49\",\" Local-gov\\u002f49\",\" Private\\u002f49\",\" Self-emp-inc\\u002f49\",\" Self-emp-not-inc\\u002f49\",\" State-gov\\u002f49\",\" ?\\u002f50\",\" Federal-gov\\u002f50\",\" Local-gov\\u002f50\",\" Private\\u002f50\",\" Self-emp-inc\\u002f50\",\" Self-emp-not-inc\\u002f50\",\" State-gov\\u002f50\",\" ?\\u002f51\",\" Federal-gov\\u002f51\",\" Local-gov\\u002f51\",\" Private\\u002f51\",\" Self-emp-inc\\u002f51\",\" Self-emp-not-inc\\u002f51\",\" State-gov\\u002f51\",\" ?\\u002f52\",\" Federal-gov\\u002f52\",\" Local-gov\\u002f52\",\" Private\\u002f52\",\" Self-emp-inc\\u002f52\",\" Self-emp-not-inc\\u002f52\",\" State-gov\\u002f52\",\" Without-pay\\u002f52\",\" ?\\u002f53\",\" Federal-gov\\u002f53\",\" Local-gov\\u002f53\",\" Private\\u002f53\",\" Self-emp-inc\\u002f53\",\" Self-emp-not-inc\\u002f53\",\" State-gov\\u002f53\",\" ?\\u002f54\",\" Federal-gov\\u002f54\",\" Local-gov\\u002f54\",\" Private\\u002f54\",\" Self-emp-inc\\u002f54\",\" Self-emp-not-inc\\u002f54\",\" State-gov\\u002f54\",\" ?\\u002f55\",\" Federal-gov\\u002f55\",\" Local-gov\\u002f55\",\" Private\\u002f55\",\" Self-emp-inc\\u002f55\",\" Self-emp-not-inc\\u002f55\",\" State-gov\\u002f55\",\" ?\\u002f56\",\" Federal-gov\\u002f56\",\" Local-gov\\u002f56\",\" Private\\u002f56\",\" Self-emp-inc\\u002f56\",\" Self-emp-not-inc\\u002f56\",\" State-gov\\u002f56\",\" ?\\u002f57\",\" Federal-gov\\u002f57\",\" Local-gov\\u002f57\",\" Private\\u002f57\",\" Self-emp-inc\\u002f57\",\" Self-emp-not-inc\\u002f57\",\" State-gov\\u002f57\",\" ?\\u002f58\",\" Federal-gov\\u002f58\",\" Local-gov\\u002f58\",\" Private\\u002f58\",\" Self-emp-inc\\u002f58\",\" Self-emp-not-inc\\u002f58\",\" State-gov\\u002f58\",\" ?\\u002f59\",\" Federal-gov\\u002f59\",\" Local-gov\\u002f59\",\" Private\\u002f59\",\" Self-emp-inc\\u002f59\",\" Self-emp-not-inc\\u002f59\",\" State-gov\\u002f59\",\" ?\\u002f60\",\" Federal-gov\\u002f60\",\" Local-gov\\u002f60\",\" Private\\u002f60\",\" Self-emp-inc\\u002f60\",\" Self-emp-not-inc\\u002f60\",\" State-gov\\u002f60\",\" ?\\u002f61\",\" Federal-gov\\u002f61\",\" Local-gov\\u002f61\",\" Private\\u002f61\",\" Self-emp-inc\\u002f61\",\" Self-emp-not-inc\\u002f61\",\" State-gov\\u002f61\",\" ?\\u002f62\",\" Federal-gov\\u002f62\",\" Local-gov\\u002f62\",\" Private\\u002f62\",\" Self-emp-inc\\u002f62\",\" Self-emp-not-inc\\u002f62\",\" State-gov\\u002f62\",\" Without-pay\\u002f62\",\" ?\\u002f63\",\" Federal-gov\\u002f63\",\" Local-gov\\u002f63\",\" Private\\u002f63\",\" Self-emp-inc\\u002f63\",\" Self-emp-not-inc\\u002f63\",\" State-gov\\u002f63\",\" ?\\u002f64\",\" Federal-gov\\u002f64\",\" Local-gov\\u002f64\",\" Private\\u002f64\",\" Self-emp-inc\\u002f64\",\" Self-emp-not-inc\\u002f64\",\" State-gov\\u002f64\",\" ?\\u002f65\",\" Federal-gov\\u002f65\",\" Local-gov\\u002f65\",\" Private\\u002f65\",\" Self-emp-inc\\u002f65\",\" Self-emp-not-inc\\u002f65\",\" State-gov\\u002f65\",\" Without-pay\\u002f65\",\" ?\\u002f66\",\" Federal-gov\\u002f66\",\" Local-gov\\u002f66\",\" Private\\u002f66\",\" Self-emp-inc\\u002f66\",\" Self-emp-not-inc\\u002f66\",\" State-gov\\u002f66\",\" ?\\u002f67\",\" Federal-gov\\u002f67\",\" Local-gov\\u002f67\",\" Private\\u002f67\",\" Self-emp-inc\\u002f67\",\" Self-emp-not-inc\\u002f67\",\" State-gov\\u002f67\",\" ?\\u002f68\",\" Federal-gov\\u002f68\",\" Local-gov\\u002f68\",\" Private\\u002f68\",\" Self-emp-inc\\u002f68\",\" Self-emp-not-inc\\u002f68\",\" State-gov\\u002f68\",\" Without-pay\\u002f68\",\" ?\\u002f69\",\" Federal-gov\\u002f69\",\" Local-gov\\u002f69\",\" Private\\u002f69\",\" Self-emp-inc\\u002f69\",\" Self-emp-not-inc\\u002f69\",\" State-gov\\u002f69\",\" ?\\u002f70\",\" Local-gov\\u002f70\",\" Private\\u002f70\",\" Self-emp-inc\\u002f70\",\" Self-emp-not-inc\\u002f70\",\" State-gov\\u002f70\",\" ?\\u002f71\",\" Federal-gov\\u002f71\",\" Local-gov\\u002f71\",\" Private\\u002f71\",\" Self-emp-inc\\u002f71\",\" Self-emp-not-inc\\u002f71\",\" State-gov\\u002f71\",\" ?\\u002f72\",\" Federal-gov\\u002f72\",\" Local-gov\\u002f72\",\" Private\\u002f72\",\" Self-emp-inc\\u002f72\",\" Self-emp-not-inc\\u002f72\",\" Without-pay\\u002f72\",\" ?\\u002f73\",\" Federal-gov\\u002f73\",\" Local-gov\\u002f73\",\" Private\\u002f73\",\" Self-emp-inc\\u002f73\",\" Self-emp-not-inc\\u002f73\",\" State-gov\\u002f73\",\" ?\\u002f74\",\" Federal-gov\\u002f74\",\" Private\\u002f74\",\" Self-emp-inc\\u002f74\",\" Self-emp-not-inc\\u002f74\",\" State-gov\\u002f74\",\" ?\\u002f75\",\" Local-gov\\u002f75\",\" Private\\u002f75\",\" Self-emp-inc\\u002f75\",\" Self-emp-not-inc\\u002f75\",\" ?\\u002f76\",\" Federal-gov\\u002f76\",\" Local-gov\\u002f76\",\" Private\\u002f76\",\" Self-emp-inc\\u002f76\",\" Self-emp-not-inc\\u002f76\",\" ?\\u002f77\",\" Local-gov\\u002f77\",\" Private\\u002f77\",\" Self-emp-inc\\u002f77\",\" Self-emp-not-inc\\u002f77\",\" ?\\u002f78\",\" Local-gov\\u002f78\",\" Private\\u002f78\",\" Self-emp-inc\\u002f78\",\" Self-emp-not-inc\\u002f78\",\" ?\\u002f79\",\" Federal-gov\\u002f79\",\" Local-gov\\u002f79\",\" Private\\u002f79\",\" Self-emp-inc\\u002f79\",\" Self-emp-not-inc\\u002f79\",\" ?\\u002f80\",\" Private\\u002f80\",\" Self-emp-not-inc\\u002f80\",\" ?\\u002f81\",\" Private\\u002f81\",\" Self-emp-inc\\u002f81\",\" Self-emp-not-inc\\u002f81\",\" State-gov\\u002f81\",\" ?\\u002f82\",\" Private\\u002f82\",\" Self-emp-inc\\u002f82\",\" Self-emp-not-inc\\u002f82\",\" ?\\u002f83\",\" Private\\u002f83\",\" Self-emp-inc\\u002f83\",\" Self-emp-not-inc\\u002f83\",\" ?\\u002f84\",\" Local-gov\\u002f84\",\" Private\\u002f84\",\" Self-emp-inc\\u002f84\",\" Self-emp-not-inc\\u002f84\",\" Private\\u002f85\",\" Self-emp-not-inc\\u002f85\",\" Private\\u002f86\",\" ?\\u002f87\",\" Private\\u002f88\",\" Self-emp-not-inc\\u002f88\",\" ?\\u002f90\",\" Federal-gov\\u002f90\",\" Local-gov\\u002f90\",\" Private\\u002f90\",\" Self-emp-not-inc\\u002f90\",\" ?\",\" Federal-gov\",\" Local-gov\",\" Never-worked\",\" Private\",\" Self-emp-inc\",\" Self-emp-not-inc\",\" State-gov\",\" ?\",\" Federal-gov\",\" Local-gov\",\" Never-worked\",\" Private\",\" Self-emp-inc\",\" Self-emp-not-inc\",\" State-gov\",\" ?\",\" Federal-gov\",\" Local-gov\",\" Private\",\" Self-emp-inc\",\" Self-emp-not-inc\",\" State-gov\",\" Without-pay\",\" ?\",\" Federal-gov\",\" Local-gov\",\" Never-worked\",\" Private\",\" Self-emp-inc\",\" Self-emp-not-inc\",\" State-gov\",\" ?\",\" Federal-gov\",\" Local-gov\",\" Private\",\" Self-emp-inc\",\" Self-emp-not-inc\",\" State-gov\",\" Without-pay\",\" ?\",\" Federal-gov\",\" Local-gov\",\" Private\",\" Self-emp-inc\",\" Self-emp-not-inc\",\" State-gov\",\" Without-pay\",\" ?\",\" Federal-gov\",\" Local-gov\",\" Never-worked\",\" Private\",\" Self-emp-inc\",\" Self-emp-not-inc\",\" State-gov\",\" ?\",\" Federal-gov\",\" Local-gov\",\" Private\",\" Self-emp-inc\",\" Self-emp-not-inc\",\" State-gov\",\" ?\",\" Federal-gov\",\" Local-gov\",\" Private\",\" Self-emp-inc\",\" Self-emp-not-inc\",\" State-gov\",\" ?\",\" Federal-gov\",\" Local-gov\",\" Private\",\" Self-emp-inc\",\" Self-emp-not-inc\",\" State-gov\",\" ?\",\" Federal-gov\",\" Local-gov\",\" Private\",\" Self-emp-inc\",\" Self-emp-not-inc\",\" State-gov\",\" ?\",\" Federal-gov\",\" Local-gov\",\" Private\",\" Self-emp-inc\",\" Self-emp-not-inc\",\" State-gov\",\" ?\",\" Federal-gov\",\" Local-gov\",\" Private\",\" Self-emp-inc\",\" Self-emp-not-inc\",\" State-gov\",\" Without-pay\",\" ?\",\" Federal-gov\",\" Local-gov\",\" Never-worked\",\" Private\",\" Self-emp-inc\",\" Self-emp-not-inc\",\" State-gov\",\" ?\",\" Federal-gov\",\" Local-gov\",\" Private\",\" Self-emp-inc\",\" Self-emp-not-inc\",\" State-gov\",\" ?\",\" Federal-gov\",\" Local-gov\",\" Private\",\" Self-emp-inc\",\" Self-emp-not-inc\",\" State-gov\",\" ?\",\" Federal-gov\",\" Local-gov\",\" Private\",\" Self-emp-inc\",\" Self-emp-not-inc\",\" State-gov\",\" ?\",\" Federal-gov\",\" Local-gov\",\" Private\",\" Self-emp-inc\",\" Self-emp-not-inc\",\" State-gov\",\" ?\",\" Federal-gov\",\" Local-gov\",\" Private\",\" Self-emp-inc\",\" Self-emp-not-inc\",\" State-gov\",\" ?\",\" Federal-gov\",\" Local-gov\",\" Private\",\" Self-emp-inc\",\" Self-emp-not-inc\",\" State-gov\",\" ?\",\" Federal-gov\",\" Local-gov\",\" Private\",\" Self-emp-inc\",\" Self-emp-not-inc\",\" State-gov\",\" ?\",\" Federal-gov\",\" Local-gov\",\" Private\",\" Self-emp-inc\",\" Self-emp-not-inc\",\" State-gov\",\" ?\",\" Federal-gov\",\" Local-gov\",\" Private\",\" Self-emp-inc\",\" Self-emp-not-inc\",\" State-gov\",\" ?\",\" Federal-gov\",\" Local-gov\",\" Private\",\" Self-emp-inc\",\" Self-emp-not-inc\",\" State-gov\",\" ?\",\" Federal-gov\",\" Local-gov\",\" Private\",\" Self-emp-inc\",\" Self-emp-not-inc\",\" State-gov\",\" ?\",\" Federal-gov\",\" Local-gov\",\" Private\",\" Self-emp-inc\",\" Self-emp-not-inc\",\" State-gov\",\" ?\",\" Federal-gov\",\" Local-gov\",\" Private\",\" Self-emp-inc\",\" Self-emp-not-inc\",\" State-gov\",\" ?\",\" Federal-gov\",\" Local-gov\",\" Private\",\" Self-emp-inc\",\" Self-emp-not-inc\",\" State-gov\",\" ?\",\" Federal-gov\",\" Local-gov\",\" Private\",\" Self-emp-inc\",\" Self-emp-not-inc\",\" State-gov\",\" ?\",\" Federal-gov\",\" Local-gov\",\" Private\",\" Self-emp-inc\",\" Self-emp-not-inc\",\" State-gov\",\" Without-pay\",\" ?\",\" Federal-gov\",\" Local-gov\",\" Private\",\" Self-emp-inc\",\" Self-emp-not-inc\",\" State-gov\",\" ?\",\" Federal-gov\",\" Local-gov\",\" Private\",\" Self-emp-inc\",\" Self-emp-not-inc\",\" State-gov\",\" ?\",\" Federal-gov\",\" Local-gov\",\" Private\",\" Self-emp-inc\",\" Self-emp-not-inc\",\" State-gov\",\" ?\",\" Federal-gov\",\" Local-gov\",\" Private\",\" Self-emp-inc\",\" Self-emp-not-inc\",\" State-gov\",\" ?\",\" Federal-gov\",\" Local-gov\",\" Private\",\" Self-emp-inc\",\" Self-emp-not-inc\",\" State-gov\",\" ?\",\" Federal-gov\",\" Local-gov\",\" Private\",\" Self-emp-inc\",\" Self-emp-not-inc\",\" State-gov\",\" Without-pay\",\" ?\",\" Federal-gov\",\" Local-gov\",\" Private\",\" Self-emp-inc\",\" Self-emp-not-inc\",\" State-gov\",\" ?\",\" Federal-gov\",\" Local-gov\",\" Private\",\" Self-emp-inc\",\" Self-emp-not-inc\",\" State-gov\",\" ?\",\" Federal-gov\",\" Local-gov\",\" Private\",\" Self-emp-inc\",\" Self-emp-not-inc\",\" State-gov\",\" ?\",\" Federal-gov\",\" Local-gov\",\" Private\",\" Self-emp-inc\",\" Self-emp-not-inc\",\" State-gov\",\" ?\",\" Federal-gov\",\" Local-gov\",\" Private\",\" Self-emp-inc\",\" Self-emp-not-inc\",\" State-gov\",\" ?\",\" Federal-gov\",\" Local-gov\",\" Private\",\" Self-emp-inc\",\" Self-emp-not-inc\",\" State-gov\",\" ?\",\" Federal-gov\",\" Local-gov\",\" Private\",\" Self-emp-inc\",\" Self-emp-not-inc\",\" State-gov\",\" ?\",\" Federal-gov\",\" Local-gov\",\" Private\",\" Self-emp-inc\",\" Self-emp-not-inc\",\" State-gov\",\" ?\",\" Federal-gov\",\" Local-gov\",\" Private\",\" Self-emp-inc\",\" Self-emp-not-inc\",\" State-gov\",\" ?\",\" Federal-gov\",\" Local-gov\",\" Private\",\" Self-emp-inc\",\" Self-emp-not-inc\",\" State-gov\",\" Without-pay\",\" ?\",\" Federal-gov\",\" Local-gov\",\" Private\",\" Self-emp-inc\",\" Self-emp-not-inc\",\" State-gov\",\" ?\",\" Federal-gov\",\" Local-gov\",\" Private\",\" Self-emp-inc\",\" Self-emp-not-inc\",\" State-gov\",\" ?\",\" Federal-gov\",\" Local-gov\",\" Private\",\" Self-emp-inc\",\" Self-emp-not-inc\",\" State-gov\",\" Without-pay\",\" ?\",\" Federal-gov\",\" Local-gov\",\" Private\",\" Self-emp-inc\",\" Self-emp-not-inc\",\" State-gov\",\" ?\",\" Federal-gov\",\" Local-gov\",\" Private\",\" Self-emp-inc\",\" Self-emp-not-inc\",\" State-gov\",\" Without-pay\",\" ?\",\" Federal-gov\",\" Local-gov\",\" Private\",\" Self-emp-inc\",\" Self-emp-not-inc\",\" State-gov\",\" Without-pay\",\" ?\",\" Federal-gov\",\" Local-gov\",\" Private\",\" Self-emp-inc\",\" Self-emp-not-inc\",\" State-gov\",\" ?\",\" Federal-gov\",\" Local-gov\",\" Private\",\" Self-emp-inc\",\" Self-emp-not-inc\",\" State-gov\",\" ?\",\" Federal-gov\",\" Local-gov\",\" Private\",\" Self-emp-inc\",\" Self-emp-not-inc\",\" State-gov\",\" ?\",\" Federal-gov\",\" Local-gov\",\" Private\",\" Self-emp-inc\",\" Self-emp-not-inc\",\" Without-pay\",\" ?\",\" Federal-gov\",\" Local-gov\",\" Private\",\" Self-emp-inc\",\" Self-emp-not-inc\",\" State-gov\",\" ?\",\" Federal-gov\",\" Private\",\" Self-emp-inc\",\" Self-emp-not-inc\",\" State-gov\",\" ?\",\" Local-gov\",\" Private\",\" Self-emp-inc\",\" Self-emp-not-inc\",\" State-gov\",\" ?\",\" Federal-gov\",\" Local-gov\",\" Private\",\" Self-emp-inc\",\" Self-emp-not-inc\",\" ?\",\" Local-gov\",\" Private\",\" Self-emp-inc\",\" Self-emp-not-inc\",\" ?\",\" Local-gov\",\" Private\",\" Self-emp-inc\",\" Self-emp-not-inc\",\" ?\",\" Federal-gov\",\" Local-gov\",\" Private\",\" Self-emp-inc\",\" Self-emp-not-inc\",\" ?\",\" Local-gov\",\" Private\",\" Self-emp-not-inc\",\" ?\",\" Private\",\" Self-emp-inc\",\" Self-emp-not-inc\",\" State-gov\",\" ?\",\" Private\",\" Self-emp-inc\",\" Self-emp-not-inc\",\" ?\",\" Private\",\" Self-emp-inc\",\" Self-emp-not-inc\",\" ?\",\" Local-gov\",\" Private\",\" Self-emp-inc\",\" Self-emp-not-inc\",\" Private\",\" Self-emp-not-inc\",\" Private\",\" ?\",\" Private\",\" Self-emp-not-inc\",\" ?\",\" Federal-gov\",\" Local-gov\",\" Private\",\" Self-emp-not-inc\",\"\",\"\",\"\",\"\",\"\",\"\",\"\",\"\",\"\"],\"values\":[3,4,1,4,1,1,2,6,8,1,3,1,1,8,1,5,1,1,1,6,1,2,2,1,7,1,1,1,12,10,1,1,1,6,1,1,1,1,4,10,6,1,1,2,4,1,7,2,1,3,7,3,2,3,1,1,1,4,1,2,2,1,2,4,1,3,7,1,4,1,1,1,7,1,1,2,2,2,2,1,1,3,1,1,2,2,2,2,7,1,1,1,7,1,1,1,1,1,1,1,1,1,2,5,1,1,1,1,1,1,2,1,1,1,1,1,1,1,1,1,1,1,1,1,2,1,1,2,1,1,1,1,1,1,1,1,1,1,1,1,1,1,1,1,3,1,5,1,1,3,10,1,1,3,1,15,1,4,11,1,7,1,18,1,4,1,34,1,3,1,2,24,2,4,1,2,17,2,1,1,1,1,25,1,3,2,1,1,32,1,1,1,16,1,3,1,2,22,1,3,4,2,1,28,1,2,4,1,1,25,1,1,2,3,1,21,1,1,1,3,1,21,2,3,2,1,21,3,2,2,3,2,30,1,1,1,1,2,25,1,1,3,1,2,23,1,2,1,4,12,1,3,2,1,1,1,25,2,3,1,1,14,1,1,2,1,1,2,18,1,1,2,3,14,2,2,1,1,4,14,3,3,1,2,1,14,2,5,1,1,2,1,25,3,6,1,1,1,2,12,1,1,12,3,1,1,14,2,4,1,13,1,1,12,4,5,2,5,1,1,1,1,6,1,3,1,1,8,1,2,1,1,8,1,2,3,1,1,1,7,3,1,2,2,2,2,1,6,2,1,1,1,3,1,1,7,1,1,5,1,6,1,1,1,3,1,6,1,2,1,2,3,2,3,1,1,1,1,2,1,2,1,1,1,1,1,1,1,1,2,1,1,3,8,1,2,22,1,10,34,2,14,1,3,36,2,10,2,3,1,47,7,2,2,50,3,1,13,2,3,53,1,4,6,5,75,1,4,2,6,67,1,1,4,3,3,9,69,1,6,1,2,8,70,1,3,4,6,4,62,3,5,11,4,10,72,1,3,1,5,4,5,64,1,2,3,4,4,10,1,60,1,1,6,4,2,6,67,3,2,3,5,3,60,1,3,4,4,8,7,74,5,7,8,3,6,68,2,7,4,4,3,60,6,6,3,5,11,60,1,4,6,4,7,62,1,3,2,3,5,9,59,2,7,2,6,5,58,4,6,2,4,6,52,2,7,4,4,13,59,1,1,4,3,6,6,53,1,3,8,1,2,9,59,2,1,5,3,7,9,53,2,2,4,3,4,15,45,1,4,3,4,9,45,1,8,1,14,7,49,6,2,4,3,33,1,2,3,3,8,31,1,1,3,3,4,10,28,2,1,3,4,3,8,41,1,2,2,4,6,19,1,4,2,1,6,7,37,2,5,21,1,3,2,3,1,4,27,1,2,2,3,2,26,2,1,5,4,21,1,2,3,3,6,18,3,1,2,5,15,1,5,3,8,6,1,3,1,22,4,1,3,1,5,12,2,1,5,1,2,8,1,1,1,3,1,2,1,2,2,1,7,1,3,6,3,4,3,4,1,1,2,1,2,3,1,5,1,1,1,2,1,1,4,1,5,1,2,1,1,1,1,1,1,1,1,1,1,1,3,3,4,3,3,1,4,3,10,1,1,5,1,3,1,1,7,1,1,1,6,11,2,14,1,2,1,6,1,14,2,1,12,1,4,9,1,1,9,1,1,12,2,1,4,6,1,1,3,1,1,3,2,1,1,1,5,1,5,1,1,2,1,1,5,1,8,4,1,3,2,1,1,2,2,3,1,1,4,1,1,1,4,1,1,1,2,2,2,1,1,1,1,1,52,12,1,270,6,6,2,76,2,10,3,367,5,13,7,94,4,8,486,2,15,19,2,98,7,8,507,3,10,20,77,1,7,505,1,10,26,58,9,16,523,5,10,26,1,32,12,28,1,609,6,13,28,25,10,24,553,5,18,27,27,4,32,590,10,24,20,20,10,32,525,9,31,21,23,9,41,551,13,33,23,29,10,40,553,14,47,22,22,19,38,509,12,46,23,1,21,13,43,564,18,44,18,13,18,46,573,16,48,33,22,16,41,525,22,46,31,18,17,46,534,13,67,25,18,12,50,551,27,64,30,24,15,31,548,22,70,23,20,18,48,558,19,68,32,7,26,48,520,31,77,29,13,22,38,522,24,65,25,9,25,50,493,34,53,26,15,24,45,483,33,59,26,12,22,65,449,34,68,34,12,21,68,424,26,82,28,11,28,53,416,31,66,45,7,22,53,402,35,63,25,6,26,52,405,37,59,29,7,33,56,425,34,48,28,1,12,24,55,381,32,68,31,13,16,28,311,33,50,22,15,17,51,303,38,56,28,11,19,44,330,35,61,22,13,21,48,318,31,63,21,11,22,33,277,25,35,16,1,10,18,40,241,21,34,24,15,14,28,227,22,47,14,18,15,28,221,17,52,13,11,10,21,199,19,49,10,13,14,22,170,28,47,12,16,8,21,189,25,49,14,19,14,24,194,16,43,12,24,6,19,158,14,39,13,33,10,19,144,16,32,6,37,5,19,119,7,30,9,2,33,6,9,102,13,37,4,30,8,17,88,13,27,13,33,2,10,83,11,19,3,2,29,1,10,56,11,17,2,35,3,7,46,12,28,4,25,1,3,56,4,17,3,1,27,1,6,40,5,15,7,23,3,32,11,13,1,18,2,4,29,4,7,2,23,3,2,22,2,7,1,14,1,5,24,3,12,1,9,2,13,4,12,3,9,1,10,3,14,15,1,4,16,1,7,8,2,8,3,5,9,1,3,4,3,6,1,2,6,3,3,6,8,7,6,7,1,4,1,4,3,2,2,1,1,3,1,2,2,3,1,1,2,1,1,1,1,2,5,1,3,22,3,64,1,14,1,300,7,6,2,92,3,10,3,413,6,14,9,113,5,11,540,3,17,21,2,115,9,12,1,581,3,11,21,89,3,9,577,1,10,30,1,79,11,20,605,5,13,31,1,46,13,35,1,733,6,13,30,34,14,33,655,6,21,35,32,8,44,693,12,26,26,22,15,42,636,10,33,27,33,16,48,658,13,37,30,41,15,52,667,15,51,26,28,25,46,617,14,52,30,1,28,19,54,1,662,20,48,29,19,22,56,684,17,52,38,25,24,46,621,24,52,36,26,26,56,645,15,72,35,26,17,58,649,28,69,39,32,23,39,649,23,80,30,23,24,63,652,21,74,41,9,33,57,612,33,83,31,17,28,52,598,25,72,35,12,32,58,582,36,62,34,17,29,55,561,34,63,35,18,27,80,535,37,70,41,15,31,76,500,30,89,39,13,36,65,496,36,72,52,10,31,63,480,39,70,31,11,32,68,481,40,68,34,11,41,69,492,36,50,37,1,14,38,62,451,33,78,32,16,20,32,360,35,56,24,18,21,59,350,40,58,31,14,24,56,374,41,67,26,17,28,58,369,33,68,22,14,27,39,307,28,43,19,1,12,26,49,292,22,38,25,16,14,34,256,24,52,19,22,17,34,257,17,53,19,13,15,25,229,19,52,13,16,20,27,200,31,49,15,20,13,27,213,25,50,18,20,16,29,218,16,43,13,31,10,20,175,14,46,16,36,11,19,172,17,37,8,42,6,24,134,10,30,10,2,39,7,11,118,13,38,4,31,11,19,93,13,27,14,39,3,12,88,11,19,4,2,37,2,13,65,11,17,5,39,3,10,51,13,29,5,1,28,2,5,60,4,17,3,1,28,1,7,45,5,15,7,24,1,3,35,11,14,1,18,2,4,32,4,9,3,25,3,2,27,2,7,1,15,1,5,25,3,13,2,12,2,18,4,12,3,11,1,13,4,15,1,16,1,4,17,1,7,9,2,10,3,5,9,1,6,4,3,7,1,2,6,3,3,6,1,8,7,6,8,1,4,1,5,3,2,2,1,1,3,1,2,2,4,1,1,2,1,1,1,1,2,7,1,4,28,3,1836,960,2093,7,22696,1116,2541,1298,14],\"type\":\"treemap\"}],                        {\"template\":{\"data\":{\"histogram2dcontour\":[{\"type\":\"histogram2dcontour\",\"colorbar\":{\"outlinewidth\":0,\"ticks\":\"\"},\"colorscale\":[[0.0,\"#0d0887\"],[0.1111111111111111,\"#46039f\"],[0.2222222222222222,\"#7201a8\"],[0.3333333333333333,\"#9c179e\"],[0.4444444444444444,\"#bd3786\"],[0.5555555555555556,\"#d8576b\"],[0.6666666666666666,\"#ed7953\"],[0.7777777777777778,\"#fb9f3a\"],[0.8888888888888888,\"#fdca26\"],[1.0,\"#f0f921\"]]}],\"choropleth\":[{\"type\":\"choropleth\",\"colorbar\":{\"outlinewidth\":0,\"ticks\":\"\"}}],\"histogram2d\":[{\"type\":\"histogram2d\",\"colorbar\":{\"outlinewidth\":0,\"ticks\":\"\"},\"colorscale\":[[0.0,\"#0d0887\"],[0.1111111111111111,\"#46039f\"],[0.2222222222222222,\"#7201a8\"],[0.3333333333333333,\"#9c179e\"],[0.4444444444444444,\"#bd3786\"],[0.5555555555555556,\"#d8576b\"],[0.6666666666666666,\"#ed7953\"],[0.7777777777777778,\"#fb9f3a\"],[0.8888888888888888,\"#fdca26\"],[1.0,\"#f0f921\"]]}],\"heatmap\":[{\"type\":\"heatmap\",\"colorbar\":{\"outlinewidth\":0,\"ticks\":\"\"},\"colorscale\":[[0.0,\"#0d0887\"],[0.1111111111111111,\"#46039f\"],[0.2222222222222222,\"#7201a8\"],[0.3333333333333333,\"#9c179e\"],[0.4444444444444444,\"#bd3786\"],[0.5555555555555556,\"#d8576b\"],[0.6666666666666666,\"#ed7953\"],[0.7777777777777778,\"#fb9f3a\"],[0.8888888888888888,\"#fdca26\"],[1.0,\"#f0f921\"]]}],\"heatmapgl\":[{\"type\":\"heatmapgl\",\"colorbar\":{\"outlinewidth\":0,\"ticks\":\"\"},\"colorscale\":[[0.0,\"#0d0887\"],[0.1111111111111111,\"#46039f\"],[0.2222222222222222,\"#7201a8\"],[0.3333333333333333,\"#9c179e\"],[0.4444444444444444,\"#bd3786\"],[0.5555555555555556,\"#d8576b\"],[0.6666666666666666,\"#ed7953\"],[0.7777777777777778,\"#fb9f3a\"],[0.8888888888888888,\"#fdca26\"],[1.0,\"#f0f921\"]]}],\"contourcarpet\":[{\"type\":\"contourcarpet\",\"colorbar\":{\"outlinewidth\":0,\"ticks\":\"\"}}],\"contour\":[{\"type\":\"contour\",\"colorbar\":{\"outlinewidth\":0,\"ticks\":\"\"},\"colorscale\":[[0.0,\"#0d0887\"],[0.1111111111111111,\"#46039f\"],[0.2222222222222222,\"#7201a8\"],[0.3333333333333333,\"#9c179e\"],[0.4444444444444444,\"#bd3786\"],[0.5555555555555556,\"#d8576b\"],[0.6666666666666666,\"#ed7953\"],[0.7777777777777778,\"#fb9f3a\"],[0.8888888888888888,\"#fdca26\"],[1.0,\"#f0f921\"]]}],\"surface\":[{\"type\":\"surface\",\"colorbar\":{\"outlinewidth\":0,\"ticks\":\"\"},\"colorscale\":[[0.0,\"#0d0887\"],[0.1111111111111111,\"#46039f\"],[0.2222222222222222,\"#7201a8\"],[0.3333333333333333,\"#9c179e\"],[0.4444444444444444,\"#bd3786\"],[0.5555555555555556,\"#d8576b\"],[0.6666666666666666,\"#ed7953\"],[0.7777777777777778,\"#fb9f3a\"],[0.8888888888888888,\"#fdca26\"],[1.0,\"#f0f921\"]]}],\"mesh3d\":[{\"type\":\"mesh3d\",\"colorbar\":{\"outlinewidth\":0,\"ticks\":\"\"}}],\"scatter\":[{\"fillpattern\":{\"fillmode\":\"overlay\",\"size\":10,\"solidity\":0.2},\"type\":\"scatter\"}],\"parcoords\":[{\"type\":\"parcoords\",\"line\":{\"colorbar\":{\"outlinewidth\":0,\"ticks\":\"\"}}}],\"scatterpolargl\":[{\"type\":\"scatterpolargl\",\"marker\":{\"colorbar\":{\"outlinewidth\":0,\"ticks\":\"\"}}}],\"bar\":[{\"error_x\":{\"color\":\"#2a3f5f\"},\"error_y\":{\"color\":\"#2a3f5f\"},\"marker\":{\"line\":{\"color\":\"#E5ECF6\",\"width\":0.5},\"pattern\":{\"fillmode\":\"overlay\",\"size\":10,\"solidity\":0.2}},\"type\":\"bar\"}],\"scattergeo\":[{\"type\":\"scattergeo\",\"marker\":{\"colorbar\":{\"outlinewidth\":0,\"ticks\":\"\"}}}],\"scatterpolar\":[{\"type\":\"scatterpolar\",\"marker\":{\"colorbar\":{\"outlinewidth\":0,\"ticks\":\"\"}}}],\"histogram\":[{\"marker\":{\"pattern\":{\"fillmode\":\"overlay\",\"size\":10,\"solidity\":0.2}},\"type\":\"histogram\"}],\"scattergl\":[{\"type\":\"scattergl\",\"marker\":{\"colorbar\":{\"outlinewidth\":0,\"ticks\":\"\"}}}],\"scatter3d\":[{\"type\":\"scatter3d\",\"line\":{\"colorbar\":{\"outlinewidth\":0,\"ticks\":\"\"}},\"marker\":{\"colorbar\":{\"outlinewidth\":0,\"ticks\":\"\"}}}],\"scattermapbox\":[{\"type\":\"scattermapbox\",\"marker\":{\"colorbar\":{\"outlinewidth\":0,\"ticks\":\"\"}}}],\"scatterternary\":[{\"type\":\"scatterternary\",\"marker\":{\"colorbar\":{\"outlinewidth\":0,\"ticks\":\"\"}}}],\"scattercarpet\":[{\"type\":\"scattercarpet\",\"marker\":{\"colorbar\":{\"outlinewidth\":0,\"ticks\":\"\"}}}],\"carpet\":[{\"aaxis\":{\"endlinecolor\":\"#2a3f5f\",\"gridcolor\":\"white\",\"linecolor\":\"white\",\"minorgridcolor\":\"white\",\"startlinecolor\":\"#2a3f5f\"},\"baxis\":{\"endlinecolor\":\"#2a3f5f\",\"gridcolor\":\"white\",\"linecolor\":\"white\",\"minorgridcolor\":\"white\",\"startlinecolor\":\"#2a3f5f\"},\"type\":\"carpet\"}],\"table\":[{\"cells\":{\"fill\":{\"color\":\"#EBF0F8\"},\"line\":{\"color\":\"white\"}},\"header\":{\"fill\":{\"color\":\"#C8D4E3\"},\"line\":{\"color\":\"white\"}},\"type\":\"table\"}],\"barpolar\":[{\"marker\":{\"line\":{\"color\":\"#E5ECF6\",\"width\":0.5},\"pattern\":{\"fillmode\":\"overlay\",\"size\":10,\"solidity\":0.2}},\"type\":\"barpolar\"}],\"pie\":[{\"automargin\":true,\"type\":\"pie\"}]},\"layout\":{\"autotypenumbers\":\"strict\",\"colorway\":[\"#636efa\",\"#EF553B\",\"#00cc96\",\"#ab63fa\",\"#FFA15A\",\"#19d3f3\",\"#FF6692\",\"#B6E880\",\"#FF97FF\",\"#FECB52\"],\"font\":{\"color\":\"#2a3f5f\"},\"hovermode\":\"closest\",\"hoverlabel\":{\"align\":\"left\"},\"paper_bgcolor\":\"white\",\"plot_bgcolor\":\"#E5ECF6\",\"polar\":{\"bgcolor\":\"#E5ECF6\",\"angularaxis\":{\"gridcolor\":\"white\",\"linecolor\":\"white\",\"ticks\":\"\"},\"radialaxis\":{\"gridcolor\":\"white\",\"linecolor\":\"white\",\"ticks\":\"\"}},\"ternary\":{\"bgcolor\":\"#E5ECF6\",\"aaxis\":{\"gridcolor\":\"white\",\"linecolor\":\"white\",\"ticks\":\"\"},\"baxis\":{\"gridcolor\":\"white\",\"linecolor\":\"white\",\"ticks\":\"\"},\"caxis\":{\"gridcolor\":\"white\",\"linecolor\":\"white\",\"ticks\":\"\"}},\"coloraxis\":{\"colorbar\":{\"outlinewidth\":0,\"ticks\":\"\"}},\"colorscale\":{\"sequential\":[[0.0,\"#0d0887\"],[0.1111111111111111,\"#46039f\"],[0.2222222222222222,\"#7201a8\"],[0.3333333333333333,\"#9c179e\"],[0.4444444444444444,\"#bd3786\"],[0.5555555555555556,\"#d8576b\"],[0.6666666666666666,\"#ed7953\"],[0.7777777777777778,\"#fb9f3a\"],[0.8888888888888888,\"#fdca26\"],[1.0,\"#f0f921\"]],\"sequentialminus\":[[0.0,\"#0d0887\"],[0.1111111111111111,\"#46039f\"],[0.2222222222222222,\"#7201a8\"],[0.3333333333333333,\"#9c179e\"],[0.4444444444444444,\"#bd3786\"],[0.5555555555555556,\"#d8576b\"],[0.6666666666666666,\"#ed7953\"],[0.7777777777777778,\"#fb9f3a\"],[0.8888888888888888,\"#fdca26\"],[1.0,\"#f0f921\"]],\"diverging\":[[0,\"#8e0152\"],[0.1,\"#c51b7d\"],[0.2,\"#de77ae\"],[0.3,\"#f1b6da\"],[0.4,\"#fde0ef\"],[0.5,\"#f7f7f7\"],[0.6,\"#e6f5d0\"],[0.7,\"#b8e186\"],[0.8,\"#7fbc41\"],[0.9,\"#4d9221\"],[1,\"#276419\"]]},\"xaxis\":{\"gridcolor\":\"white\",\"linecolor\":\"white\",\"ticks\":\"\",\"title\":{\"standoff\":15},\"zerolinecolor\":\"white\",\"automargin\":true,\"zerolinewidth\":2},\"yaxis\":{\"gridcolor\":\"white\",\"linecolor\":\"white\",\"ticks\":\"\",\"title\":{\"standoff\":15},\"zerolinecolor\":\"white\",\"automargin\":true,\"zerolinewidth\":2},\"scene\":{\"xaxis\":{\"backgroundcolor\":\"#E5ECF6\",\"gridcolor\":\"white\",\"linecolor\":\"white\",\"showbackground\":true,\"ticks\":\"\",\"zerolinecolor\":\"white\",\"gridwidth\":2},\"yaxis\":{\"backgroundcolor\":\"#E5ECF6\",\"gridcolor\":\"white\",\"linecolor\":\"white\",\"showbackground\":true,\"ticks\":\"\",\"zerolinecolor\":\"white\",\"gridwidth\":2},\"zaxis\":{\"backgroundcolor\":\"#E5ECF6\",\"gridcolor\":\"white\",\"linecolor\":\"white\",\"showbackground\":true,\"ticks\":\"\",\"zerolinecolor\":\"white\",\"gridwidth\":2}},\"shapedefaults\":{\"line\":{\"color\":\"#2a3f5f\"}},\"annotationdefaults\":{\"arrowcolor\":\"#2a3f5f\",\"arrowhead\":0,\"arrowwidth\":1},\"geo\":{\"bgcolor\":\"white\",\"landcolor\":\"#E5ECF6\",\"subunitcolor\":\"white\",\"showland\":true,\"showlakes\":true,\"lakecolor\":\"white\"},\"title\":{\"x\":0.05},\"mapbox\":{\"style\":\"light\"}}},\"legend\":{\"tracegroupgap\":0},\"margin\":{\"t\":60}},                        {\"responsive\": true}                    ).then(function(){\n",
              "                            \n",
              "var gd = document.getElementById('59d79d8d-fd73-40f8-b177-eaff9b58b948');\n",
              "var x = new MutationObserver(function (mutations, observer) {{\n",
              "        var display = window.getComputedStyle(gd).display;\n",
              "        if (!display || display === 'none') {{\n",
              "            console.log([gd, 'removed!']);\n",
              "            Plotly.purge(gd);\n",
              "            observer.disconnect();\n",
              "        }}\n",
              "}});\n",
              "\n",
              "// Listen for the removal of the full notebook cells\n",
              "var notebookContainer = gd.closest('#notebook-container');\n",
              "if (notebookContainer) {{\n",
              "    x.observe(notebookContainer, {childList: true});\n",
              "}}\n",
              "\n",
              "// Listen for the clearing of the current output cell\n",
              "var outputEl = gd.closest('.output');\n",
              "if (outputEl) {{\n",
              "    x.observe(outputEl, {childList: true});\n",
              "}}\n",
              "\n",
              "                        })                };                            </script>        </div>\n",
              "</body>\n",
              "</html>"
            ]
          },
          "metadata": {}
        }
      ]
    },
    {
      "cell_type": "code",
      "source": [
        "px.treemap(base_census, path=['occupation', 'race'])"
      ],
      "metadata": {
        "id": "xPWr-pMh8HwJ",
        "outputId": "7a215002-c177-4168-928b-3a71ea5846f5",
        "colab": {
          "base_uri": "https://localhost:8080/",
          "height": 542
        }
      },
      "execution_count": 46,
      "outputs": [
        {
          "output_type": "display_data",
          "data": {
            "text/html": [
              "<html>\n",
              "<head><meta charset=\"utf-8\" /></head>\n",
              "<body>\n",
              "    <div>            <script src=\"https://cdnjs.cloudflare.com/ajax/libs/mathjax/2.7.5/MathJax.js?config=TeX-AMS-MML_SVG\"></script><script type=\"text/javascript\">if (window.MathJax && window.MathJax.Hub && window.MathJax.Hub.Config) {window.MathJax.Hub.Config({SVG: {font: \"STIX-Web\"}});}</script>                <script type=\"text/javascript\">window.PlotlyConfig = {MathJaxConfig: 'local'};</script>\n",
              "        <script charset=\"utf-8\" src=\"https://cdn.plot.ly/plotly-2.35.2.min.js\"></script>                <div id=\"43573928-cba5-4fbd-8759-2f8e1be5537d\" class=\"plotly-graph-div\" style=\"height:525px; width:100%;\"></div>            <script type=\"text/javascript\">                                    window.PLOTLYENV=window.PLOTLYENV || {};                                    if (document.getElementById(\"43573928-cba5-4fbd-8759-2f8e1be5537d\")) {                    Plotly.newPlot(                        \"43573928-cba5-4fbd-8759-2f8e1be5537d\",                        [{\"branchvalues\":\"total\",\"domain\":{\"x\":[0.0,1.0],\"y\":[0.0,1.0]},\"hovertemplate\":\"labels=%{label}\\u003cbr\\u003ecount=%{value}\\u003cbr\\u003eparent=%{parent}\\u003cbr\\u003eid=%{id}\\u003cextra\\u003e\\u003c\\u002fextra\\u003e\",\"ids\":[\" ?\\u002f Amer-Indian-Eskimo\",\" Adm-clerical\\u002f Amer-Indian-Eskimo\",\" Armed-Forces\\u002f Amer-Indian-Eskimo\",\" Craft-repair\\u002f Amer-Indian-Eskimo\",\" Exec-managerial\\u002f Amer-Indian-Eskimo\",\" Farming-fishing\\u002f Amer-Indian-Eskimo\",\" Handlers-cleaners\\u002f Amer-Indian-Eskimo\",\" Machine-op-inspct\\u002f Amer-Indian-Eskimo\",\" Other-service\\u002f Amer-Indian-Eskimo\",\" Prof-specialty\\u002f Amer-Indian-Eskimo\",\" Protective-serv\\u002f Amer-Indian-Eskimo\",\" Sales\\u002f Amer-Indian-Eskimo\",\" Tech-support\\u002f Amer-Indian-Eskimo\",\" Transport-moving\\u002f Amer-Indian-Eskimo\",\" ?\\u002f Asian-Pac-Islander\",\" Adm-clerical\\u002f Asian-Pac-Islander\",\" Craft-repair\\u002f Asian-Pac-Islander\",\" Exec-managerial\\u002f Asian-Pac-Islander\",\" Farming-fishing\\u002f Asian-Pac-Islander\",\" Handlers-cleaners\\u002f Asian-Pac-Islander\",\" Machine-op-inspct\\u002f Asian-Pac-Islander\",\" Other-service\\u002f Asian-Pac-Islander\",\" Priv-house-serv\\u002f Asian-Pac-Islander\",\" Prof-specialty\\u002f Asian-Pac-Islander\",\" Protective-serv\\u002f Asian-Pac-Islander\",\" Sales\\u002f Asian-Pac-Islander\",\" Tech-support\\u002f Asian-Pac-Islander\",\" Transport-moving\\u002f Asian-Pac-Islander\",\" ?\\u002f Black\",\" Adm-clerical\\u002f Black\",\" Armed-Forces\\u002f Black\",\" Craft-repair\\u002f Black\",\" Exec-managerial\\u002f Black\",\" Farming-fishing\\u002f Black\",\" Handlers-cleaners\\u002f Black\",\" Machine-op-inspct\\u002f Black\",\" Other-service\\u002f Black\",\" Priv-house-serv\\u002f Black\",\" Prof-specialty\\u002f Black\",\" Protective-serv\\u002f Black\",\" Sales\\u002f Black\",\" Tech-support\\u002f Black\",\" Transport-moving\\u002f Black\",\" ?\\u002f Other\",\" Adm-clerical\\u002f Other\",\" Craft-repair\\u002f Other\",\" Exec-managerial\\u002f Other\",\" Farming-fishing\\u002f Other\",\" Handlers-cleaners\\u002f Other\",\" Machine-op-inspct\\u002f Other\",\" Other-service\\u002f Other\",\" Priv-house-serv\\u002f Other\",\" Prof-specialty\\u002f Other\",\" Protective-serv\\u002f Other\",\" Sales\\u002f Other\",\" Tech-support\\u002f Other\",\" Transport-moving\\u002f Other\",\" ?\\u002f White\",\" Adm-clerical\\u002f White\",\" Armed-Forces\\u002f White\",\" Craft-repair\\u002f White\",\" Exec-managerial\\u002f White\",\" Farming-fishing\\u002f White\",\" Handlers-cleaners\\u002f White\",\" Machine-op-inspct\\u002f White\",\" Other-service\\u002f White\",\" Priv-house-serv\\u002f White\",\" Prof-specialty\\u002f White\",\" Protective-serv\\u002f White\",\" Sales\\u002f White\",\" Tech-support\\u002f White\",\" Transport-moving\\u002f White\",\" ?\",\" Adm-clerical\",\" Armed-Forces\",\" Craft-repair\",\" Exec-managerial\",\" Farming-fishing\",\" Handlers-cleaners\",\" Machine-op-inspct\",\" Other-service\",\" Priv-house-serv\",\" Prof-specialty\",\" Protective-serv\",\" Sales\",\" Tech-support\",\" Transport-moving\"],\"labels\":[\" Amer-Indian-Eskimo\",\" Amer-Indian-Eskimo\",\" Amer-Indian-Eskimo\",\" Amer-Indian-Eskimo\",\" Amer-Indian-Eskimo\",\" Amer-Indian-Eskimo\",\" Amer-Indian-Eskimo\",\" Amer-Indian-Eskimo\",\" Amer-Indian-Eskimo\",\" Amer-Indian-Eskimo\",\" Amer-Indian-Eskimo\",\" Amer-Indian-Eskimo\",\" Amer-Indian-Eskimo\",\" Amer-Indian-Eskimo\",\" Asian-Pac-Islander\",\" Asian-Pac-Islander\",\" Asian-Pac-Islander\",\" Asian-Pac-Islander\",\" Asian-Pac-Islander\",\" Asian-Pac-Islander\",\" Asian-Pac-Islander\",\" Asian-Pac-Islander\",\" Asian-Pac-Islander\",\" Asian-Pac-Islander\",\" Asian-Pac-Islander\",\" Asian-Pac-Islander\",\" Asian-Pac-Islander\",\" Asian-Pac-Islander\",\" Black\",\" Black\",\" Black\",\" Black\",\" Black\",\" Black\",\" Black\",\" Black\",\" Black\",\" Black\",\" Black\",\" Black\",\" Black\",\" Black\",\" Black\",\" Other\",\" Other\",\" Other\",\" Other\",\" Other\",\" Other\",\" Other\",\" Other\",\" Other\",\" Other\",\" Other\",\" Other\",\" Other\",\" Other\",\" White\",\" White\",\" White\",\" White\",\" White\",\" White\",\" White\",\" White\",\" White\",\" White\",\" White\",\" White\",\" White\",\" White\",\" White\",\" ?\",\" Adm-clerical\",\" Armed-Forces\",\" Craft-repair\",\" Exec-managerial\",\" Farming-fishing\",\" Handlers-cleaners\",\" Machine-op-inspct\",\" Other-service\",\" Priv-house-serv\",\" Prof-specialty\",\" Protective-serv\",\" Sales\",\" Tech-support\",\" Transport-moving\"],\"name\":\"\",\"parents\":[\" ?\",\" Adm-clerical\",\" Armed-Forces\",\" Craft-repair\",\" Exec-managerial\",\" Farming-fishing\",\" Handlers-cleaners\",\" Machine-op-inspct\",\" Other-service\",\" Prof-specialty\",\" Protective-serv\",\" Sales\",\" Tech-support\",\" Transport-moving\",\" ?\",\" Adm-clerical\",\" Craft-repair\",\" Exec-managerial\",\" Farming-fishing\",\" Handlers-cleaners\",\" Machine-op-inspct\",\" Other-service\",\" Priv-house-serv\",\" Prof-specialty\",\" Protective-serv\",\" Sales\",\" Tech-support\",\" Transport-moving\",\" ?\",\" Adm-clerical\",\" Armed-Forces\",\" Craft-repair\",\" Exec-managerial\",\" Farming-fishing\",\" Handlers-cleaners\",\" Machine-op-inspct\",\" Other-service\",\" Priv-house-serv\",\" Prof-specialty\",\" Protective-serv\",\" Sales\",\" Tech-support\",\" Transport-moving\",\" ?\",\" Adm-clerical\",\" Craft-repair\",\" Exec-managerial\",\" Farming-fishing\",\" Handlers-cleaners\",\" Machine-op-inspct\",\" Other-service\",\" Priv-house-serv\",\" Prof-specialty\",\" Protective-serv\",\" Sales\",\" Tech-support\",\" Transport-moving\",\" ?\",\" Adm-clerical\",\" Armed-Forces\",\" Craft-repair\",\" Exec-managerial\",\" Farming-fishing\",\" Handlers-cleaners\",\" Machine-op-inspct\",\" Other-service\",\" Priv-house-serv\",\" Prof-specialty\",\" Protective-serv\",\" Sales\",\" Tech-support\",\" Transport-moving\",\"\",\"\",\"\",\"\",\"\",\"\",\"\",\"\",\"\",\"\",\"\",\"\",\"\",\"\",\"\"],\"values\":[25,31,1,44,30,10,22,19,33,33,8,26,4,25,65,139,89,135,16,23,59,128,4,186,15,108,44,28,215,490,1,244,244,42,179,274,571,28,239,102,254,71,170,23,26,28,11,11,12,39,40,3,31,5,25,3,14,1515,3084,7,3694,3646,915,1134,1611,2523,114,3651,519,3237,806,1360,1843,3770,9,4099,4066,994,1370,2002,3295,149,4140,649,3650,928,1597],\"type\":\"treemap\"}],                        {\"template\":{\"data\":{\"histogram2dcontour\":[{\"type\":\"histogram2dcontour\",\"colorbar\":{\"outlinewidth\":0,\"ticks\":\"\"},\"colorscale\":[[0.0,\"#0d0887\"],[0.1111111111111111,\"#46039f\"],[0.2222222222222222,\"#7201a8\"],[0.3333333333333333,\"#9c179e\"],[0.4444444444444444,\"#bd3786\"],[0.5555555555555556,\"#d8576b\"],[0.6666666666666666,\"#ed7953\"],[0.7777777777777778,\"#fb9f3a\"],[0.8888888888888888,\"#fdca26\"],[1.0,\"#f0f921\"]]}],\"choropleth\":[{\"type\":\"choropleth\",\"colorbar\":{\"outlinewidth\":0,\"ticks\":\"\"}}],\"histogram2d\":[{\"type\":\"histogram2d\",\"colorbar\":{\"outlinewidth\":0,\"ticks\":\"\"},\"colorscale\":[[0.0,\"#0d0887\"],[0.1111111111111111,\"#46039f\"],[0.2222222222222222,\"#7201a8\"],[0.3333333333333333,\"#9c179e\"],[0.4444444444444444,\"#bd3786\"],[0.5555555555555556,\"#d8576b\"],[0.6666666666666666,\"#ed7953\"],[0.7777777777777778,\"#fb9f3a\"],[0.8888888888888888,\"#fdca26\"],[1.0,\"#f0f921\"]]}],\"heatmap\":[{\"type\":\"heatmap\",\"colorbar\":{\"outlinewidth\":0,\"ticks\":\"\"},\"colorscale\":[[0.0,\"#0d0887\"],[0.1111111111111111,\"#46039f\"],[0.2222222222222222,\"#7201a8\"],[0.3333333333333333,\"#9c179e\"],[0.4444444444444444,\"#bd3786\"],[0.5555555555555556,\"#d8576b\"],[0.6666666666666666,\"#ed7953\"],[0.7777777777777778,\"#fb9f3a\"],[0.8888888888888888,\"#fdca26\"],[1.0,\"#f0f921\"]]}],\"heatmapgl\":[{\"type\":\"heatmapgl\",\"colorbar\":{\"outlinewidth\":0,\"ticks\":\"\"},\"colorscale\":[[0.0,\"#0d0887\"],[0.1111111111111111,\"#46039f\"],[0.2222222222222222,\"#7201a8\"],[0.3333333333333333,\"#9c179e\"],[0.4444444444444444,\"#bd3786\"],[0.5555555555555556,\"#d8576b\"],[0.6666666666666666,\"#ed7953\"],[0.7777777777777778,\"#fb9f3a\"],[0.8888888888888888,\"#fdca26\"],[1.0,\"#f0f921\"]]}],\"contourcarpet\":[{\"type\":\"contourcarpet\",\"colorbar\":{\"outlinewidth\":0,\"ticks\":\"\"}}],\"contour\":[{\"type\":\"contour\",\"colorbar\":{\"outlinewidth\":0,\"ticks\":\"\"},\"colorscale\":[[0.0,\"#0d0887\"],[0.1111111111111111,\"#46039f\"],[0.2222222222222222,\"#7201a8\"],[0.3333333333333333,\"#9c179e\"],[0.4444444444444444,\"#bd3786\"],[0.5555555555555556,\"#d8576b\"],[0.6666666666666666,\"#ed7953\"],[0.7777777777777778,\"#fb9f3a\"],[0.8888888888888888,\"#fdca26\"],[1.0,\"#f0f921\"]]}],\"surface\":[{\"type\":\"surface\",\"colorbar\":{\"outlinewidth\":0,\"ticks\":\"\"},\"colorscale\":[[0.0,\"#0d0887\"],[0.1111111111111111,\"#46039f\"],[0.2222222222222222,\"#7201a8\"],[0.3333333333333333,\"#9c179e\"],[0.4444444444444444,\"#bd3786\"],[0.5555555555555556,\"#d8576b\"],[0.6666666666666666,\"#ed7953\"],[0.7777777777777778,\"#fb9f3a\"],[0.8888888888888888,\"#fdca26\"],[1.0,\"#f0f921\"]]}],\"mesh3d\":[{\"type\":\"mesh3d\",\"colorbar\":{\"outlinewidth\":0,\"ticks\":\"\"}}],\"scatter\":[{\"fillpattern\":{\"fillmode\":\"overlay\",\"size\":10,\"solidity\":0.2},\"type\":\"scatter\"}],\"parcoords\":[{\"type\":\"parcoords\",\"line\":{\"colorbar\":{\"outlinewidth\":0,\"ticks\":\"\"}}}],\"scatterpolargl\":[{\"type\":\"scatterpolargl\",\"marker\":{\"colorbar\":{\"outlinewidth\":0,\"ticks\":\"\"}}}],\"bar\":[{\"error_x\":{\"color\":\"#2a3f5f\"},\"error_y\":{\"color\":\"#2a3f5f\"},\"marker\":{\"line\":{\"color\":\"#E5ECF6\",\"width\":0.5},\"pattern\":{\"fillmode\":\"overlay\",\"size\":10,\"solidity\":0.2}},\"type\":\"bar\"}],\"scattergeo\":[{\"type\":\"scattergeo\",\"marker\":{\"colorbar\":{\"outlinewidth\":0,\"ticks\":\"\"}}}],\"scatterpolar\":[{\"type\":\"scatterpolar\",\"marker\":{\"colorbar\":{\"outlinewidth\":0,\"ticks\":\"\"}}}],\"histogram\":[{\"marker\":{\"pattern\":{\"fillmode\":\"overlay\",\"size\":10,\"solidity\":0.2}},\"type\":\"histogram\"}],\"scattergl\":[{\"type\":\"scattergl\",\"marker\":{\"colorbar\":{\"outlinewidth\":0,\"ticks\":\"\"}}}],\"scatter3d\":[{\"type\":\"scatter3d\",\"line\":{\"colorbar\":{\"outlinewidth\":0,\"ticks\":\"\"}},\"marker\":{\"colorbar\":{\"outlinewidth\":0,\"ticks\":\"\"}}}],\"scattermapbox\":[{\"type\":\"scattermapbox\",\"marker\":{\"colorbar\":{\"outlinewidth\":0,\"ticks\":\"\"}}}],\"scatterternary\":[{\"type\":\"scatterternary\",\"marker\":{\"colorbar\":{\"outlinewidth\":0,\"ticks\":\"\"}}}],\"scattercarpet\":[{\"type\":\"scattercarpet\",\"marker\":{\"colorbar\":{\"outlinewidth\":0,\"ticks\":\"\"}}}],\"carpet\":[{\"aaxis\":{\"endlinecolor\":\"#2a3f5f\",\"gridcolor\":\"white\",\"linecolor\":\"white\",\"minorgridcolor\":\"white\",\"startlinecolor\":\"#2a3f5f\"},\"baxis\":{\"endlinecolor\":\"#2a3f5f\",\"gridcolor\":\"white\",\"linecolor\":\"white\",\"minorgridcolor\":\"white\",\"startlinecolor\":\"#2a3f5f\"},\"type\":\"carpet\"}],\"table\":[{\"cells\":{\"fill\":{\"color\":\"#EBF0F8\"},\"line\":{\"color\":\"white\"}},\"header\":{\"fill\":{\"color\":\"#C8D4E3\"},\"line\":{\"color\":\"white\"}},\"type\":\"table\"}],\"barpolar\":[{\"marker\":{\"line\":{\"color\":\"#E5ECF6\",\"width\":0.5},\"pattern\":{\"fillmode\":\"overlay\",\"size\":10,\"solidity\":0.2}},\"type\":\"barpolar\"}],\"pie\":[{\"automargin\":true,\"type\":\"pie\"}]},\"layout\":{\"autotypenumbers\":\"strict\",\"colorway\":[\"#636efa\",\"#EF553B\",\"#00cc96\",\"#ab63fa\",\"#FFA15A\",\"#19d3f3\",\"#FF6692\",\"#B6E880\",\"#FF97FF\",\"#FECB52\"],\"font\":{\"color\":\"#2a3f5f\"},\"hovermode\":\"closest\",\"hoverlabel\":{\"align\":\"left\"},\"paper_bgcolor\":\"white\",\"plot_bgcolor\":\"#E5ECF6\",\"polar\":{\"bgcolor\":\"#E5ECF6\",\"angularaxis\":{\"gridcolor\":\"white\",\"linecolor\":\"white\",\"ticks\":\"\"},\"radialaxis\":{\"gridcolor\":\"white\",\"linecolor\":\"white\",\"ticks\":\"\"}},\"ternary\":{\"bgcolor\":\"#E5ECF6\",\"aaxis\":{\"gridcolor\":\"white\",\"linecolor\":\"white\",\"ticks\":\"\"},\"baxis\":{\"gridcolor\":\"white\",\"linecolor\":\"white\",\"ticks\":\"\"},\"caxis\":{\"gridcolor\":\"white\",\"linecolor\":\"white\",\"ticks\":\"\"}},\"coloraxis\":{\"colorbar\":{\"outlinewidth\":0,\"ticks\":\"\"}},\"colorscale\":{\"sequential\":[[0.0,\"#0d0887\"],[0.1111111111111111,\"#46039f\"],[0.2222222222222222,\"#7201a8\"],[0.3333333333333333,\"#9c179e\"],[0.4444444444444444,\"#bd3786\"],[0.5555555555555556,\"#d8576b\"],[0.6666666666666666,\"#ed7953\"],[0.7777777777777778,\"#fb9f3a\"],[0.8888888888888888,\"#fdca26\"],[1.0,\"#f0f921\"]],\"sequentialminus\":[[0.0,\"#0d0887\"],[0.1111111111111111,\"#46039f\"],[0.2222222222222222,\"#7201a8\"],[0.3333333333333333,\"#9c179e\"],[0.4444444444444444,\"#bd3786\"],[0.5555555555555556,\"#d8576b\"],[0.6666666666666666,\"#ed7953\"],[0.7777777777777778,\"#fb9f3a\"],[0.8888888888888888,\"#fdca26\"],[1.0,\"#f0f921\"]],\"diverging\":[[0,\"#8e0152\"],[0.1,\"#c51b7d\"],[0.2,\"#de77ae\"],[0.3,\"#f1b6da\"],[0.4,\"#fde0ef\"],[0.5,\"#f7f7f7\"],[0.6,\"#e6f5d0\"],[0.7,\"#b8e186\"],[0.8,\"#7fbc41\"],[0.9,\"#4d9221\"],[1,\"#276419\"]]},\"xaxis\":{\"gridcolor\":\"white\",\"linecolor\":\"white\",\"ticks\":\"\",\"title\":{\"standoff\":15},\"zerolinecolor\":\"white\",\"automargin\":true,\"zerolinewidth\":2},\"yaxis\":{\"gridcolor\":\"white\",\"linecolor\":\"white\",\"ticks\":\"\",\"title\":{\"standoff\":15},\"zerolinecolor\":\"white\",\"automargin\":true,\"zerolinewidth\":2},\"scene\":{\"xaxis\":{\"backgroundcolor\":\"#E5ECF6\",\"gridcolor\":\"white\",\"linecolor\":\"white\",\"showbackground\":true,\"ticks\":\"\",\"zerolinecolor\":\"white\",\"gridwidth\":2},\"yaxis\":{\"backgroundcolor\":\"#E5ECF6\",\"gridcolor\":\"white\",\"linecolor\":\"white\",\"showbackground\":true,\"ticks\":\"\",\"zerolinecolor\":\"white\",\"gridwidth\":2},\"zaxis\":{\"backgroundcolor\":\"#E5ECF6\",\"gridcolor\":\"white\",\"linecolor\":\"white\",\"showbackground\":true,\"ticks\":\"\",\"zerolinecolor\":\"white\",\"gridwidth\":2}},\"shapedefaults\":{\"line\":{\"color\":\"#2a3f5f\"}},\"annotationdefaults\":{\"arrowcolor\":\"#2a3f5f\",\"arrowhead\":0,\"arrowwidth\":1},\"geo\":{\"bgcolor\":\"white\",\"landcolor\":\"#E5ECF6\",\"subunitcolor\":\"white\",\"showland\":true,\"showlakes\":true,\"lakecolor\":\"white\"},\"title\":{\"x\":0.05},\"mapbox\":{\"style\":\"light\"}}},\"legend\":{\"tracegroupgap\":0},\"margin\":{\"t\":60}},                        {\"responsive\": true}                    ).then(function(){\n",
              "                            \n",
              "var gd = document.getElementById('43573928-cba5-4fbd-8759-2f8e1be5537d');\n",
              "var x = new MutationObserver(function (mutations, observer) {{\n",
              "        var display = window.getComputedStyle(gd).display;\n",
              "        if (!display || display === 'none') {{\n",
              "            console.log([gd, 'removed!']);\n",
              "            Plotly.purge(gd);\n",
              "            observer.disconnect();\n",
              "        }}\n",
              "}});\n",
              "\n",
              "// Listen for the removal of the full notebook cells\n",
              "var notebookContainer = gd.closest('#notebook-container');\n",
              "if (notebookContainer) {{\n",
              "    x.observe(notebookContainer, {childList: true});\n",
              "}}\n",
              "\n",
              "// Listen for the clearing of the current output cell\n",
              "var outputEl = gd.closest('.output');\n",
              "if (outputEl) {{\n",
              "    x.observe(outputEl, {childList: true});\n",
              "}}\n",
              "\n",
              "                        })                };                            </script>        </div>\n",
              "</body>\n",
              "</html>"
            ]
          },
          "metadata": {}
        }
      ]
    },
    {
      "cell_type": "code",
      "source": [
        "#divisão entre atributos previsores e classe\n",
        "\n",
        "x_census = base_census.iloc[:, 0:14].values\n",
        "x_census[0]"
      ],
      "metadata": {
        "id": "IsQ3FIOfJcg8",
        "outputId": "3d0489cb-e096-4a43-a1a4-f63cb49d8192",
        "colab": {
          "base_uri": "https://localhost:8080/",
          "height": 0
        }
      },
      "execution_count": 81,
      "outputs": [
        {
          "output_type": "execute_result",
          "data": {
            "text/plain": [
              "array([39, ' State-gov', 77516, ' Bachelors', 13, ' Never-married',\n",
              "       ' Adm-clerical', ' Not-in-family', ' White', ' Male', 2174, 0, 40,\n",
              "       ' United-States'], dtype=object)"
            ]
          },
          "metadata": {},
          "execution_count": 81
        }
      ]
    },
    {
      "cell_type": "code",
      "source": [
        "y_census = base_census.iloc[:, 14].values\n",
        "y_census"
      ],
      "metadata": {
        "id": "n8e1QByFKFtF",
        "outputId": "c8b2c600-0aa5-41dc-be4a-1457450aea8a",
        "colab": {
          "base_uri": "https://localhost:8080/",
          "height": 0
        }
      },
      "execution_count": 56,
      "outputs": [
        {
          "output_type": "execute_result",
          "data": {
            "text/plain": [
              "array([' <=50K', ' <=50K', ' <=50K', ..., ' <=50K', ' <=50K', ' >50K'],\n",
              "      dtype=object)"
            ]
          },
          "metadata": {},
          "execution_count": 56
        }
      ]
    },
    {
      "cell_type": "code",
      "source": [
        "from sklearn.preprocessing import LabelEncoder\n"
      ],
      "metadata": {
        "id": "cbZfQKUaL02x"
      },
      "execution_count": 61,
      "outputs": []
    },
    {
      "cell_type": "code",
      "source": [
        "label_encoder_teste = LabelEncoder()\n",
        "\n",
        "teste = label_encoder_teste.fit_transform(x_census[:, 1])\n",
        "teste"
      ],
      "metadata": {
        "id": "57F2sNLAMb1K",
        "outputId": "7da0932b-b3e7-4a1a-9b2e-48c5bd9336e2",
        "colab": {
          "base_uri": "https://localhost:8080/",
          "height": 0
        }
      },
      "execution_count": 63,
      "outputs": [
        {
          "output_type": "execute_result",
          "data": {
            "text/plain": [
              "array([7, 6, 4, ..., 4, 4, 5])"
            ]
          },
          "metadata": {},
          "execution_count": 63
        }
      ]
    },
    {
      "cell_type": "code",
      "source": [
        "base_census.columns"
      ],
      "metadata": {
        "id": "EYiXItxDNuI6",
        "outputId": "fb8b50fa-55d8-4234-b644-d6b7befd561e",
        "colab": {
          "base_uri": "https://localhost:8080/",
          "height": 0
        }
      },
      "execution_count": 80,
      "outputs": [
        {
          "output_type": "execute_result",
          "data": {
            "text/plain": [
              "Index(['age', 'workclass', 'final-weight', 'education', 'education-num',\n",
              "       'marital-status', 'occupation', 'relationship', 'race', 'sex',\n",
              "       'capital-gain', 'capital-loos', 'hour-per-week', 'native-country',\n",
              "       'income'],\n",
              "      dtype='object')"
            ]
          },
          "metadata": {},
          "execution_count": 80
        }
      ]
    },
    {
      "cell_type": "code",
      "source": [
        "LabelEncoderWorkclass = LabelEncoder()\n",
        "LabelEncoderEducation = LabelEncoder()\n",
        "LabelEncoderMaritalStatus = LabelEncoder()\n",
        "LabelEncoderOccupation = LabelEncoder()\n",
        "LabelEncoderRelationship = LabelEncoder()\n",
        "LabelEncoderRace = LabelEncoder()\n",
        "LabelEncoderSex = LabelEncoder()\n",
        "LabelEncoderNativeCountry = LabelEncoder()"
      ],
      "metadata": {
        "id": "5DoS635iOuCL"
      },
      "execution_count": 82,
      "outputs": []
    },
    {
      "cell_type": "code",
      "source": [
        "x_census[:, 1] = LabelEncoderWorkclass.fit_transform(x_census[:, 1])\n",
        "x_census[:, 3] = LabelEncoderEducation.fit_transform(x_census[:, 3])\n",
        "x_census[:, 5] = LabelEncoderMaritalStatus.fit_transform(x_census[:, 5])\n",
        "x_census[:, 6] = LabelEncoderOccupation.fit_transform(x_census[:, 6])\n",
        "x_census[:, 7] = LabelEncoderRelationship.fit_transform(x_census[:, 7])\n",
        "x_census[:, 8] = LabelEncoderRace.fit_transform(x_census[:, 8])\n",
        "x_census[:, 9] = LabelEncoderSex.fit_transform(x_census[:, 9])\n",
        "x_census[:, 13] = LabelEncoderNativeCountry.fit_transform(x_census[:, 13])\n",
        "x_census[0]"
      ],
      "metadata": {
        "id": "UwzQ6-j0QODS",
        "outputId": "b52b3c6f-3118-4b53-e37b-20b0c25799a4",
        "colab": {
          "base_uri": "https://localhost:8080/",
          "height": 0
        }
      },
      "execution_count": 89,
      "outputs": [
        {
          "output_type": "execute_result",
          "data": {
            "text/plain": [
              "array([39, 39, 77516, 9, 13, 4, 1, 1, 4, 1, 2174, 0, 40, 39], dtype=object)"
            ]
          },
          "metadata": {},
          "execution_count": 89
        }
      ]
    },
    {
      "cell_type": "code",
      "source": [
        "from sklearn.preprocessing import OneHotEncoder\n",
        "from sklearn.compose import ColumnTransformer\n"
      ],
      "metadata": {
        "id": "QtVrWAU3UFR7"
      },
      "execution_count": 90,
      "outputs": []
    },
    {
      "cell_type": "code",
      "source": [
        "OneHotEncoder_census = ColumnTransformer(transformers=[('OneHot', OneHotEncoder(), [1,3,5,6,7,8,9,13])], remainder='passthrough')\n",
        "x_census = OneHotEncoder_census.fit_transform(x_census)\n",
        "x_census[0]"
      ],
      "metadata": {
        "id": "94piErFSUYnH",
        "outputId": "47b051de-b151-4a5f-8fde-619570354a42",
        "colab": {
          "base_uri": "https://localhost:8080/",
          "height": 0
        }
      },
      "execution_count": 99,
      "outputs": [
        {
          "output_type": "execute_result",
          "data": {
            "text/plain": [
              "array([1.0000e+00, 0.0000e+00, 1.0000e+00, 0.0000e+00, 1.0000e+00,\n",
              "       0.0000e+00, 0.0000e+00, 1.0000e+00, 1.0000e+00, 0.0000e+00,\n",
              "       0.0000e+00, 1.0000e+00, 1.0000e+00, 0.0000e+00, 1.0000e+00,\n",
              "       0.0000e+00, 1.0000e+00, 1.0000e+00, 1.0000e+00, 1.0000e+00,\n",
              "       0.0000e+00, 1.0000e+00, 1.0000e+00, 0.0000e+00, 0.0000e+00,\n",
              "       0.0000e+00, 0.0000e+00, 0.0000e+00, 0.0000e+00, 0.0000e+00,\n",
              "       0.0000e+00, 0.0000e+00, 0.0000e+00, 0.0000e+00, 0.0000e+00,\n",
              "       0.0000e+00, 0.0000e+00, 0.0000e+00, 0.0000e+00, 0.0000e+00,\n",
              "       0.0000e+00, 0.0000e+00, 0.0000e+00, 0.0000e+00, 0.0000e+00,\n",
              "       0.0000e+00, 0.0000e+00, 0.0000e+00, 0.0000e+00, 0.0000e+00,\n",
              "       0.0000e+00, 0.0000e+00, 0.0000e+00, 0.0000e+00, 0.0000e+00,\n",
              "       1.0000e+00, 0.0000e+00, 0.0000e+00, 0.0000e+00, 0.0000e+00,\n",
              "       0.0000e+00, 0.0000e+00, 0.0000e+00, 0.0000e+00, 0.0000e+00,\n",
              "       0.0000e+00, 0.0000e+00, 1.0000e+00, 0.0000e+00, 0.0000e+00,\n",
              "       0.0000e+00, 0.0000e+00, 0.0000e+00, 0.0000e+00, 0.0000e+00,\n",
              "       0.0000e+00, 0.0000e+00, 0.0000e+00, 1.0000e+00, 0.0000e+00,\n",
              "       0.0000e+00, 0.0000e+00, 1.0000e+00, 0.0000e+00, 0.0000e+00,\n",
              "       0.0000e+00, 0.0000e+00, 0.0000e+00, 0.0000e+00, 0.0000e+00,\n",
              "       0.0000e+00, 0.0000e+00, 0.0000e+00, 0.0000e+00, 0.0000e+00,\n",
              "       0.0000e+00, 0.0000e+00, 1.0000e+00, 0.0000e+00, 0.0000e+00,\n",
              "       0.0000e+00, 0.0000e+00, 0.0000e+00, 0.0000e+00, 0.0000e+00,\n",
              "       0.0000e+00, 1.0000e+00, 0.0000e+00, 1.0000e+00, 0.0000e+00,\n",
              "       0.0000e+00, 0.0000e+00, 0.0000e+00, 0.0000e+00, 0.0000e+00,\n",
              "       0.0000e+00, 0.0000e+00, 0.0000e+00, 0.0000e+00, 0.0000e+00,\n",
              "       0.0000e+00, 0.0000e+00, 0.0000e+00, 0.0000e+00, 0.0000e+00,\n",
              "       0.0000e+00, 0.0000e+00, 0.0000e+00, 0.0000e+00, 0.0000e+00,\n",
              "       0.0000e+00, 0.0000e+00, 0.0000e+00, 0.0000e+00, 0.0000e+00,\n",
              "       0.0000e+00, 0.0000e+00, 0.0000e+00, 0.0000e+00, 0.0000e+00,\n",
              "       0.0000e+00, 0.0000e+00, 0.0000e+00, 0.0000e+00, 0.0000e+00,\n",
              "       0.0000e+00, 0.0000e+00, 0.0000e+00, 1.0000e+00, 0.0000e+00,\n",
              "       0.0000e+00, 3.9000e+01, 7.7516e+04, 1.3000e+01, 2.1740e+03,\n",
              "       0.0000e+00, 4.0000e+01])"
            ]
          },
          "metadata": {},
          "execution_count": 99
        }
      ]
    },
    {
      "cell_type": "code",
      "source": [
        "from sklearn.preprocessing import StandardScaler\n",
        "\n",
        "scaler_census = StandardScaler()\n",
        "x_census = scaler_census.fit_transform(x_census)\n",
        "x_census[0]"
      ],
      "metadata": {
        "id": "ZyJdwn5xYx2L",
        "outputId": "f1b697df-ecf8-438f-a630-3048d878d0ef",
        "colab": {
          "base_uri": "https://localhost:8080/",
          "height": 0
        }
      },
      "execution_count": 102,
      "outputs": [
        {
          "output_type": "execute_result",
          "data": {
            "text/plain": [
              "array([ 0.02416321, -0.02416321,  0.0480488 , -0.0480488 ,  0.05409379,\n",
              "       -0.05409379, -0.04641598,  0.04641598,  0.04641598, -0.04641598,\n",
              "       -0.02933708,  0.02933708,  0.02933708, -0.02933708,  0.05264698,\n",
              "       -0.05264698,  0.02416321,  0.0480488 ,  0.05409379,  0.05714946,\n",
              "       -0.05714946,  0.05264698,  0.04437806, -0.04437806, -0.13502327,\n",
              "       -0.06107342, -0.04260602, -0.02985682, -0.06500204, -0.02985682,\n",
              "       -0.03678503, -0.00554189, -0.01998525, -0.02479131, -0.01998525,\n",
              "       -0.05550333, -0.03636406, -0.02715919, -0.04740236, -0.04993839,\n",
              "       -0.04367781, -0.02351838, -0.1419344 , -0.03233087, -0.02073999,\n",
              "       -0.03087016, -0.07821827, -0.04296623, -0.03372864, -0.05927412,\n",
              "       -0.01920091, -0.0496284 , -0.03960742, -0.02351838, -0.02416321,\n",
              "        0.34095391, -0.04540836, -0.02217266, -0.17175325, -0.19348662,\n",
              "       -0.11609195, -0.07201601, -0.10164955, -0.1422718 , -0.12664495,\n",
              "       -0.18406376, -0.21053433,  2.25399324, -0.11334387, -0.68994199,\n",
              "       -0.23637391, -0.03960742, -0.13419553, -0.53714425, -0.39750806,\n",
              "       -0.02658695, -0.92284068, -0.11403678,  1.43105786, -0.1802846 ,\n",
              "       -0.17735813, -0.24494366,  2.76348874, -0.01662771, -0.37949517,\n",
              "       -0.37774555, -0.17745022, -0.20957797, -0.25595432, -0.33554133,\n",
              "       -0.06780164, -0.38166338, -0.14260848, -0.35531609, -0.17127887,\n",
              "       -0.22710355, -0.82533335,  1.70899099, -0.17624972, -0.42934582,\n",
              "       -0.34403232, -0.22492681, -0.09820087, -0.18155194, -0.32576824,\n",
              "       -0.09161163,  0.4130197 , -0.70307135,  0.70307135, -0.13502327,\n",
              "       -0.02416321, -0.06107342, -0.0480488 , -0.04260602, -0.05409379,\n",
              "       -0.04641598, -0.02933708, -0.05714946, -0.05264698, -0.02985682,\n",
              "       -0.06500204, -0.02985682, -0.04437806, -0.03678503, -0.00554189,\n",
              "       -0.01998525, -0.02479131, -0.01998525, -0.05550333, -0.03636406,\n",
              "       -0.02715919, -0.04740236, -0.04993839, -0.04367781, -0.02351838,\n",
              "       -0.1419344 , -0.03233087, -0.02073999, -0.03087016, -0.07821827,\n",
              "       -0.04296623, -0.03372864, -0.05927412, -0.01920091, -0.0496284 ,\n",
              "       -0.03960742, -0.02351838, -0.02416321,  0.34095391, -0.04540836,\n",
              "       -0.02217266,  0.03067056, -1.06361075,  1.13473876,  0.1484529 ,\n",
              "       -0.21665953, -0.03542945])"
            ]
          },
          "metadata": {},
          "execution_count": 102
        }
      ]
    },
    {
      "cell_type": "code",
      "source": [
        "from sklearn.model_selection import train_test_split"
      ],
      "metadata": {
        "id": "unEw55TfdvNb"
      },
      "execution_count": 104,
      "outputs": []
    },
    {
      "cell_type": "code",
      "source": [
        "x_censusTreinamento, x_censusTeste, y_censusTreinamento, y_censusTeste = train_test_split(x_census, y_census, test_size = 0.15, random_state = 0)\n",
        "x_censusTreinamento.shape, y_censusTreinamento.shape"
      ],
      "metadata": {
        "id": "bN3El2cVdQ_O",
        "outputId": "81b2e4b1-9138-46bc-bf9b-2ed2ca6735c5",
        "colab": {
          "base_uri": "https://localhost:8080/",
          "height": 0
        }
      },
      "execution_count": 107,
      "outputs": [
        {
          "output_type": "execute_result",
          "data": {
            "text/plain": [
              "((27676, 157), (27676,))"
            ]
          },
          "metadata": {},
          "execution_count": 107
        }
      ]
    },
    {
      "cell_type": "code",
      "source": [
        "import pickle"
      ],
      "metadata": {
        "id": "YiHsbxo6e0tQ"
      },
      "execution_count": 108,
      "outputs": []
    },
    {
      "cell_type": "code",
      "source": [
        "with open('census.pkl', mode = 'wb') as f:\n",
        "  pickle.dump([x_censusTreinamento, y_censusTreinamento, x_censusTeste, y_censusTeste], f)"
      ],
      "metadata": {
        "id": "VCr6C1f_e2kn"
      },
      "execution_count": 109,
      "outputs": []
    }
  ],
  "metadata": {
    "colab": {
      "name": "Olá, este é o Colaboratory",
      "provenance": [],
      "include_colab_link": true
    },
    "kernelspec": {
      "display_name": "Python 3",
      "name": "python3"
    }
  },
  "nbformat": 4,
  "nbformat_minor": 0
}